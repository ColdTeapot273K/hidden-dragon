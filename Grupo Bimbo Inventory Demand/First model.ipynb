{
 "cells": [
  {
   "cell_type": "markdown",
   "metadata": {},
   "source": [
    "*This one uses kernel from the Starter.ipynb btw*"
   ]
  },
  {
   "cell_type": "code",
   "execution_count": 6,
   "metadata": {},
   "outputs": [],
   "source": [
    "import dask.dataframe as dd\n",
    "import pandas as pd\n",
    "import numpy as np\n",
    "import matplotlib.pyplot as plt\n",
    "%matplotlib inline\n",
    "import seaborn as sns"
   ]
  },
  {
   "cell_type": "code",
   "execution_count": 7,
   "metadata": {},
   "outputs": [],
   "source": [
    "FULL_train = dd.read_csv('../#Data/train.csv')"
   ]
  },
  {
   "cell_type": "code",
   "execution_count": 8,
   "metadata": {},
   "outputs": [],
   "source": [
    "FULL_test = dd.read_csv('../#Data/test.csv')"
   ]
  },
  {
   "cell_type": "code",
   "execution_count": 7,
   "metadata": {},
   "outputs": [],
   "source": [
    "FULL_town_state = dd.read_csv('../#Data/town_state.csv')"
   ]
  },
  {
   "cell_type": "code",
   "execution_count": 8,
   "metadata": {},
   "outputs": [
    {
     "data": {
      "text/html": [
       "<div>\n",
       "<style scoped>\n",
       "    .dataframe tbody tr th:only-of-type {\n",
       "        vertical-align: middle;\n",
       "    }\n",
       "\n",
       "    .dataframe tbody tr th {\n",
       "        vertical-align: top;\n",
       "    }\n",
       "\n",
       "    .dataframe thead th {\n",
       "        text-align: right;\n",
       "    }\n",
       "</style>\n",
       "<table border=\"1\" class=\"dataframe\">\n",
       "  <thead>\n",
       "    <tr style=\"text-align: right;\">\n",
       "      <th></th>\n",
       "      <th>Agencia_ID</th>\n",
       "      <th>Town</th>\n",
       "      <th>State</th>\n",
       "    </tr>\n",
       "  </thead>\n",
       "  <tbody>\n",
       "    <tr>\n",
       "      <th>0</th>\n",
       "      <td>1110</td>\n",
       "      <td>2008 AG. LAGO FILT</td>\n",
       "      <td>MÉXICO, D.F.</td>\n",
       "    </tr>\n",
       "    <tr>\n",
       "      <th>1</th>\n",
       "      <td>1111</td>\n",
       "      <td>2002 AG. AZCAPOTZALCO</td>\n",
       "      <td>MÉXICO, D.F.</td>\n",
       "    </tr>\n",
       "    <tr>\n",
       "      <th>2</th>\n",
       "      <td>1112</td>\n",
       "      <td>2004 AG. CUAUTITLAN</td>\n",
       "      <td>ESTADO DE MÉXICO</td>\n",
       "    </tr>\n",
       "    <tr>\n",
       "      <th>3</th>\n",
       "      <td>1113</td>\n",
       "      <td>2008 AG. LAGO FILT</td>\n",
       "      <td>MÉXICO, D.F.</td>\n",
       "    </tr>\n",
       "    <tr>\n",
       "      <th>4</th>\n",
       "      <td>1114</td>\n",
       "      <td>2029 AG.IZTAPALAPA 2</td>\n",
       "      <td>MÉXICO, D.F.</td>\n",
       "    </tr>\n",
       "  </tbody>\n",
       "</table>\n",
       "</div>"
      ],
      "text/plain": [
       "   Agencia_ID                   Town             State\n",
       "0        1110     2008 AG. LAGO FILT      MÉXICO, D.F.\n",
       "1        1111  2002 AG. AZCAPOTZALCO      MÉXICO, D.F.\n",
       "2        1112    2004 AG. CUAUTITLAN  ESTADO DE MÉXICO\n",
       "3        1113     2008 AG. LAGO FILT      MÉXICO, D.F.\n",
       "4        1114   2029 AG.IZTAPALAPA 2      MÉXICO, D.F."
      ]
     },
     "execution_count": 8,
     "metadata": {},
     "output_type": "execute_result"
    }
   ],
   "source": [
    "FULL_town_state.head()"
   ]
  },
  {
   "cell_type": "code",
   "execution_count": 9,
   "metadata": {},
   "outputs": [],
   "source": [
    "FULL_train_town_state = FULL_town_state.merge(FULL_train)"
   ]
  },
  {
   "cell_type": "code",
   "execution_count": 10,
   "metadata": {},
   "outputs": [],
   "source": [
    "SUM_demand_by_town = FULL_train_town_state.groupby('Town')['Demanda_uni_equil'].sum().compute()"
   ]
  },
  {
   "cell_type": "code",
   "execution_count": 11,
   "metadata": {},
   "outputs": [
    {
     "data": {
      "text/plain": [
       "count    2.570000e+02\n",
       "mean     2.085298e+06\n",
       "std      1.387163e+06\n",
       "min      7.206400e+04\n",
       "25%      1.094138e+06\n",
       "50%      1.884763e+06\n",
       "75%      2.920998e+06\n",
       "max      1.001191e+07\n",
       "Name: Demanda_uni_equil, dtype: float64"
      ]
     },
     "execution_count": 11,
     "metadata": {},
     "output_type": "execute_result"
    }
   ],
   "source": [
    "SUM_demand_by_town.describe()"
   ]
  },
  {
   "cell_type": "code",
   "execution_count": 12,
   "metadata": {},
   "outputs": [],
   "source": [
    "SUM_demand_by_town.sort_values(ascending=False, inplace=True)"
   ]
  },
  {
   "cell_type": "code",
   "execution_count": 13,
   "metadata": {},
   "outputs": [
    {
     "data": {
      "text/plain": [
       "<matplotlib.axes._subplots.AxesSubplot at 0x2181a46c308>"
      ]
     },
     "execution_count": 13,
     "metadata": {},
     "output_type": "execute_result"
    },
    {
     "data": {
      "image/png": "[encoded data removed]",
      "text/plain": [
       "<Figure size 432x288 with 1 Axes>"
      ]
     },
     "metadata": {
      "needs_background": "light"
     },
     "output_type": "display_data"
    }
   ],
   "source": [
    "SUM_demand_by_town.plot()"
   ]
  },
  {
   "cell_type": "code",
   "execution_count": 14,
   "metadata": {},
   "outputs": [
    {
     "data": {
      "text/plain": [
       "<matplotlib.axes._subplots.AxesSubplot at 0x2181a5eb8c8>"
      ]
     },
     "execution_count": 14,
     "metadata": {},
     "output_type": "execute_result"
    },
    {
     "data": {
      "image/png": "[encoded data removed]",
      "text/plain": [
       "<Figure size 432x288 with 1 Axes>"
      ]
     },
     "metadata": {
      "needs_background": "light"
     },
     "output_type": "display_data"
    }
   ],
   "source": [
    "sns.distplot(SUM_demand_by_town, rug=True, kde=False)"
   ]
  },
  {
   "cell_type": "code",
   "execution_count": 15,
   "metadata": {},
   "outputs": [],
   "source": [
    "SUM_demand_by_town_by_week = FULL_train_town_state.groupby(['Town', 'Semana'])['Demanda_uni_equil'].sum().compute()"
   ]
  },
  {
   "cell_type": "code",
   "execution_count": 16,
   "metadata": {},
   "outputs": [
    {
     "data": {
      "text/plain": [
       "Town                   Semana\n",
       "2001 AG. ATIZAPAN      3         674742\n",
       "2002 AG. AZCAPOTZALCO  3         461019\n",
       "2003 AG. COACALCO      3         452187\n",
       "2004 AG. CUAUTITLAN    3         330418\n",
       "2007 AG. LA VILLA      3         608572\n",
       "Name: Demanda_uni_equil, dtype: int64"
      ]
     },
     "execution_count": 16,
     "metadata": {},
     "output_type": "execute_result"
    }
   ],
   "source": [
    "SUM_demand_by_town_by_week.head()"
   ]
  },
  {
   "cell_type": "code",
   "execution_count": 17,
   "metadata": {},
   "outputs": [
    {
     "data": {
      "text/plain": [
       "count    1.799000e+03\n",
       "mean     2.978997e+05\n",
       "std      1.999868e+05\n",
       "min      1.107000e+03\n",
       "25%      1.517840e+05\n",
       "50%      2.661310e+05\n",
       "75%      4.117785e+05\n",
       "max      1.535400e+06\n",
       "Name: Demanda_uni_equil, dtype: float64"
      ]
     },
     "execution_count": 17,
     "metadata": {},
     "output_type": "execute_result"
    }
   ],
   "source": [
    "SUM_demand_by_town_by_week.describe()"
   ]
  },
  {
   "cell_type": "code",
   "execution_count": 18,
   "metadata": {},
   "outputs": [
    {
     "data": {
      "image/png": "[encoded data removed]",
      "text/plain": [
       "<Figure size 1008x2664 with 2 Axes>"
      ]
     },
     "metadata": {
      "needs_background": "light"
     },
     "output_type": "display_data"
    }
   ],
   "source": [
    "DF_hmap = pd.DataFrame(SUM_demand_by_town_by_week) #.reset_index()\n",
    "DF_hmap.sort_values(by=['Semana', 'Demanda_uni_equil'], ascending=False, inplace=True)\n",
    "DF_hmap\n",
    "\n",
    "DF_hmap_pivot = DF_hmap.pivot_table(index=\"Town\", columns=\"Semana\", values=\"Demanda_uni_equil\", dropna=True)\n",
    "DF_hmap_pivot\n",
    "\n",
    "plt.figure(figsize=(14,37))\n",
    "hmap = sns.heatmap(data=DF_hmap_pivot, robust=True)"
   ]
  },
  {
   "cell_type": "code",
   "execution_count": 19,
   "metadata": {},
   "outputs": [
    {
     "data": {
      "text/plain": [
       "Semana\n",
       "3    550125\n",
       "4    564190\n",
       "5    600501\n",
       "6    539333\n",
       "7    474852\n",
       "8    362894\n",
       "9    564302\n",
       "Name: 2573 TIJUANA GATO BRONCO, dtype: int64"
      ]
     },
     "execution_count": 19,
     "metadata": {},
     "output_type": "execute_result"
    }
   ],
   "source": [
    "DF_hmap_pivot.loc['2573 TIJUANA GATO BRONCO']"
   ]
  },
  {
   "cell_type": "code",
   "execution_count": 20,
   "metadata": {},
   "outputs": [
    {
     "data": {
      "text/plain": [
       "Semana\n",
       "3    186410\n",
       "4    184379\n",
       "5    202724\n",
       "6    212706\n",
       "7    198407\n",
       "8    187326\n",
       "9    124350\n",
       "Name: 2572 TIJUANA EL FLORIDO, dtype: int64"
      ]
     },
     "execution_count": 20,
     "metadata": {},
     "output_type": "execute_result"
    }
   ],
   "source": [
    "DF_hmap_pivot.loc['2572 TIJUANA EL FLORIDO']"
   ]
  },
  {
   "cell_type": "code",
   "execution_count": 21,
   "metadata": {},
   "outputs": [
    {
     "data": {
      "text/plain": [
       "Semana\n",
       "3    470576\n",
       "4    498749\n",
       "5    369026\n",
       "6    236081\n",
       "7    459901\n",
       "8    456738\n",
       "9    466191\n",
       "Name: 2563 MEXICALI PONIENTE, dtype: int64"
      ]
     },
     "execution_count": 21,
     "metadata": {},
     "output_type": "execute_result"
    }
   ],
   "source": [
    "DF_hmap_pivot.loc['2563 MEXICALI PONIENTE']"
   ]
  },
  {
   "cell_type": "markdown",
   "metadata": {},
   "source": [
    "As we can see, there's no ultimate 'golden weeks', and some weeks can be extremely unlucky for some towns, whle being extremely lucky for the others (we are speaking of up to +/- 50% variance in demand)"
   ]
  },
  {
   "cell_type": "code",
   "execution_count": 22,
   "metadata": {},
   "outputs": [
    {
     "data": {
      "text/plain": [
       "count         7.000000\n",
       "mean     422466.000000\n",
       "std       91484.693481\n",
       "min      236081.000000\n",
       "25%      412882.000000\n",
       "50%      459901.000000\n",
       "75%      468383.500000\n",
       "max      498749.000000\n",
       "Name: 2563 MEXICALI PONIENTE, dtype: float64"
      ]
     },
     "execution_count": 22,
     "metadata": {},
     "output_type": "execute_result"
    }
   ],
   "source": [
    "DF_hmap_pivot.loc['2563 MEXICALI PONIENTE'].describe()"
   ]
  },
  {
   "cell_type": "markdown",
   "metadata": {},
   "source": [
    "Thus we'll use regression(maybe robust) for each client each product on a demo sample\n",
    "\n",
    "Demo sample will be taken from one town i guess, taken by median value since the distribution is skewed"
   ]
  },
  {
   "cell_type": "code",
   "execution_count": 23,
   "metadata": {},
   "outputs": [
    {
     "data": {
      "text/plain": [
       "266131.0"
      ]
     },
     "execution_count": 23,
     "metadata": {},
     "output_type": "execute_result"
    }
   ],
   "source": [
    "SUM_demand_by_town_by_week.median()"
   ]
  },
  {
   "cell_type": "code",
   "execution_count": 24,
   "metadata": {},
   "outputs": [
    {
     "data": {
      "text/plain": [
       "count         7.000000\n",
       "mean     192869.428571\n",
       "std       64641.588648\n",
       "min       65507.000000\n",
       "25%      172763.500000\n",
       "50%      216613.000000\n",
       "75%      239330.000000\n",
       "max      243779.000000\n",
       "Name: 2182 ZITACUARO, dtype: float64"
      ]
     },
     "execution_count": 24,
     "metadata": {},
     "output_type": "execute_result"
    }
   ],
   "source": [
    "DF_hmap_pivot.loc['2182 ZITACUARO'].describe()"
   ]
  },
  {
   "cell_type": "code",
   "execution_count": 25,
   "metadata": {},
   "outputs": [],
   "source": [
    "DF_hmap_pivot.loc['2182 ZITACUARO']"
   ]
  },
  {
   "cell_type": "code",
   "execution_count": 25,
   "metadata": {},
   "outputs": [],
   "source": [
    "FULL_agencia_for_town = FULL_train_town_state[FULL_train_town_state['Town'] == '2182 ZITACUARO']"
   ]
  },
  {
   "cell_type": "code",
   "execution_count": 27,
   "metadata": {},
   "outputs": [
    {
     "data": {
      "text/plain": [
       "254355"
      ]
     },
     "execution_count": 27,
     "metadata": {},
     "output_type": "execute_result"
    }
   ],
   "source": [
    "len(FULL_agencia_for_town)"
   ]
  },
  {
   "cell_type": "code",
   "execution_count": 28,
   "metadata": {},
   "outputs": [],
   "source": [
    "#AGG_agencia_for_town = FULL_agencia_for_town.groupby(['Agencia_ID'])['Demanda_uni_equil'].mean()\n",
    "AGG_agencia_for_town = FULL_agencia_for_town.groupby(['Cliente_ID'])['Demanda_uni_equil'].sum()"
   ]
  },
  {
   "cell_type": "code",
   "execution_count": 29,
   "metadata": {},
   "outputs": [
    {
     "data": {
      "text/plain": [
       "6104"
      ]
     },
     "execution_count": 29,
     "metadata": {},
     "output_type": "execute_result"
    }
   ],
   "source": [
    "len(AGG_agencia_for_town)"
   ]
  },
  {
   "cell_type": "code",
   "execution_count": 30,
   "metadata": {},
   "outputs": [
    {
     "data": {
      "text/plain": [
       "Dask Series Structure:\n",
       "npartitions=1\n",
       "    int64\n",
       "      ...\n",
       "Name: Demanda_uni_equil, dtype: int64\n",
       "Dask Name: series-groupby-sum-agg, 411 tasks"
      ]
     },
     "execution_count": 30,
     "metadata": {},
     "output_type": "execute_result"
    }
   ],
   "source": [
    "#COUNT_agencia_by_town.head()\n",
    "AGG_agencia_for_town"
   ]
  },
  {
   "cell_type": "code",
   "execution_count": 31,
   "metadata": {},
   "outputs": [],
   "source": [
    "LIGHT_agencia_for_town = AGG_agencia_for_town.compute()"
   ]
  },
  {
   "cell_type": "code",
   "execution_count": 32,
   "metadata": {},
   "outputs": [
    {
     "data": {
      "text/plain": [
       "Cliente_ID\n",
       "11194      106\n",
       "11247      324\n",
       "11698      743\n",
       "13498       64\n",
       "13502        1\n",
       "          ... \n",
       "4736676     13\n",
       "4736871      7\n",
       "4739602     26\n",
       "4754621      6\n",
       "6275215      8\n",
       "Name: Demanda_uni_equil, Length: 6104, dtype: int64"
      ]
     },
     "execution_count": 32,
     "metadata": {},
     "output_type": "execute_result"
    }
   ],
   "source": [
    "LIGHT_agencia_for_town"
   ]
  },
  {
   "cell_type": "code",
   "execution_count": 33,
   "metadata": {},
   "outputs": [],
   "source": [
    "AGG_agencia_client_for_town = FULL_agencia_for_town.groupby(['Agencia_ID','Cliente_ID', 'Producto_ID', 'Semana'])['Demanda_uni_equil'].sum().compute()"
   ]
  },
  {
   "cell_type": "code",
   "execution_count": 34,
   "metadata": {},
   "outputs": [
    {
     "data": {
      "text/plain": [
       "Agencia_ID  Cliente_ID  Producto_ID  Semana\n",
       "2020        11194       1212         3          3\n",
       "                        1230         3          1\n",
       "                        1232         3          3\n",
       "                        1240         3          5\n",
       "                        43064        3          1\n",
       "                                               ..\n",
       "            9709447     35651        9          1\n",
       "                        41843        9          3\n",
       "            9732636     1242         9          2\n",
       "                        2233         9          1\n",
       "                        43068        9         11\n",
       "Name: Demanda_uni_equil, Length: 254345, dtype: int64"
      ]
     },
     "execution_count": 34,
     "metadata": {},
     "output_type": "execute_result"
    }
   ],
   "source": [
    "AGG_agencia_client_for_town"
   ]
  },
  {
   "cell_type": "markdown",
   "metadata": {},
   "source": [
    "Let's find a median client as a test subject (because median better catches the bulk of skewed tailed distributions than mean does)"
   ]
  },
  {
   "cell_type": "code",
   "execution_count": 35,
   "metadata": {},
   "outputs": [],
   "source": [
    "AGG_demands_for_clients = FULL_agencia_for_town.groupby(['Agencia_ID','Cliente_ID'])['Demanda_uni_equil'].sum().compute()"
   ]
  },
  {
   "cell_type": "code",
   "execution_count": 36,
   "metadata": {},
   "outputs": [
    {
     "data": {
      "text/plain": [
       "Agencia_ID  Cliente_ID\n",
       "2020        11194         106\n",
       "            11247         324\n",
       "            11698         743\n",
       "            13498          64\n",
       "            13502           1\n",
       "Name: Demanda_uni_equil, dtype: int64"
      ]
     },
     "execution_count": 36,
     "metadata": {},
     "output_type": "execute_result"
    }
   ],
   "source": [
    "AGG_demands_for_clients.head()"
   ]
  },
  {
   "cell_type": "code",
   "execution_count": 37,
   "metadata": {},
   "outputs": [
    {
     "data": {
      "text/plain": [
       "count     6104.000000\n",
       "mean       221.180537\n",
       "std        553.539634\n",
       "min          0.000000\n",
       "25%         38.000000\n",
       "50%         93.000000\n",
       "75%        225.000000\n",
       "max      22060.000000\n",
       "Name: Demanda_uni_equil, dtype: float64"
      ]
     },
     "execution_count": 37,
     "metadata": {},
     "output_type": "execute_result"
    }
   ],
   "source": [
    "AGG_demands_for_clients.describe()"
   ]
  },
  {
   "cell_type": "code",
   "execution_count": 38,
   "metadata": {},
   "outputs": [
    {
     "data": {
      "text/plain": [
       "Agencia_ID  Cliente_ID\n",
       "2020        11194         106\n",
       "            11247         324\n",
       "            11698         743\n",
       "            13498          64\n",
       "            13502           1\n",
       "Name: Demanda_uni_equil, dtype: int64"
      ]
     },
     "execution_count": 38,
     "metadata": {},
     "output_type": "execute_result"
    }
   ],
   "source": [
    "AGG_demands_for_clients.head()"
   ]
  },
  {
   "cell_type": "code",
   "execution_count": 108,
   "metadata": {},
   "outputs": [],
   "source": [
    "hmap_clients = FULL_agencia_for_town.groupby(['Cliente_ID', 'Semana'])['Demanda_uni_equil'].sum().compute()\n",
    "#hmap_clients = hmap_clients.groupby('Semana')['Demanda_uni_equil'].sum().compute()\n",
    "#hmap_clients.head()"
   ]
  },
  {
   "cell_type": "code",
   "execution_count": 110,
   "metadata": {},
   "outputs": [],
   "source": [
    "#interq_hmap_clients = hmap_clients[(hmap_clients < 103) & (hmap_clients > 83)] #almost interquartile here\n",
    "#interq_hmap_clients = hmap_clients[(hmap_clients == 93)]\n",
    "#interq_hmap_clients.get_group(('Jai', 'Msc')).loc['Cliente_ID' == 1073788]\n",
    "#interq_hmap_clients.loc[(1073788)]\n",
    "#hmap_clients.loc[(1073788)]\n",
    "interq_hmap_clients = hmap_clients"
   ]
  },
  {
   "cell_type": "code",
   "execution_count": 111,
   "metadata": {},
   "outputs": [
    {
     "data": {
      "image/png": "[encoded data removed]",
      "text/plain": [
       "<Figure size 1008x1224 with 2 Axes>"
      ]
     },
     "metadata": {
      "needs_background": "light"
     },
     "output_type": "display_data"
    }
   ],
   "source": [
    "DF_hmap_clients = pd.DataFrame(interq_hmap_clients) #.reset_index()\n",
    "DF_hmap_clients.sort_values(by=['Semana', 'Demanda_uni_equil'], ascending=False, inplace=True)\n",
    "DF_hmap_clients\n",
    "\n",
    "DF_hmap_clients_pivot = DF_hmap_clients.pivot_table(index=\"Cliente_ID\", columns=\"Semana\", values=\"Demanda_uni_equil\", dropna=True, fill_value=0)\n",
    "DF_hmap_clients_pivot\n",
    "#DF_hmap_clients\n",
    "\n",
    "plt.figure(figsize=(14,17))\n",
    "hmap = sns.heatmap(data=DF_hmap_clients_pivot, robust=True)"
   ]
  },
  {
   "cell_type": "code",
   "execution_count": 51,
   "metadata": {},
   "outputs": [],
   "source": [
    "#DF_hmap_clients_pivot.loc[4611717]"
   ]
  },
  {
   "cell_type": "code",
   "execution_count": 52,
   "metadata": {},
   "outputs": [
    {
     "data": {
      "text/plain": [
       "Semana\n",
       "3     0\n",
       "4     0\n",
       "5     0\n",
       "6    86\n",
       "7     0\n",
       "8     0\n",
       "9     0\n",
       "Name: 1073788, dtype: int64"
      ]
     },
     "execution_count": 52,
     "metadata": {},
     "output_type": "execute_result"
    }
   ],
   "source": [
    "DF_hmap_clients_pivot.loc[1073788]"
   ]
  },
  {
   "cell_type": "code",
   "execution_count": 68,
   "metadata": {},
   "outputs": [
    {
     "data": {
      "text/html": [
       "<div>\n",
       "<style scoped>\n",
       "    .dataframe tbody tr th:only-of-type {\n",
       "        vertical-align: middle;\n",
       "    }\n",
       "\n",
       "    .dataframe tbody tr th {\n",
       "        vertical-align: top;\n",
       "    }\n",
       "\n",
       "    .dataframe thead th {\n",
       "        text-align: right;\n",
       "    }\n",
       "</style>\n",
       "<table border=\"1\" class=\"dataframe\">\n",
       "  <thead>\n",
       "    <tr style=\"text-align: right;\">\n",
       "      <th></th>\n",
       "      <th>Agencia_ID</th>\n",
       "      <th>Cliente_ID</th>\n",
       "      <th>Semana</th>\n",
       "      <th>Demanda_uni_equil</th>\n",
       "    </tr>\n",
       "  </thead>\n",
       "  <tbody>\n",
       "    <tr>\n",
       "      <th>428</th>\n",
       "      <td>2020</td>\n",
       "      <td>1073788</td>\n",
       "      <td>6</td>\n",
       "      <td>86</td>\n",
       "    </tr>\n",
       "  </tbody>\n",
       "</table>\n",
       "</div>"
      ],
      "text/plain": [
       "     Agencia_ID  Cliente_ID  Semana  Demanda_uni_equil\n",
       "428        2020     1073788       6                 86"
      ]
     },
     "execution_count": 68,
     "metadata": {},
     "output_type": "execute_result"
    }
   ],
   "source": [
    "test_df = DF_hmap_clients.reset_index()\n",
    "test_df[test_df['Cliente_ID'] == 1073788]"
   ]
  },
  {
   "cell_type": "markdown",
   "metadata": {},
   "source": [
    "I reckon those zeros are there because that specific client doesn't have demand for products from that specific agency during those few weeks. And this situation is common - agencies don't need to supply clients each week, it seems."
   ]
  },
  {
   "cell_type": "code",
   "execution_count": 55,
   "metadata": {},
   "outputs": [],
   "source": [
    "test_client_across_all_agencies = FULL_agencia_for_town[FULL_agencia_for_town['Cliente_ID'] == 1073788].groupby('Semana')['Demanda_uni_equil'].sum()"
   ]
  },
  {
   "cell_type": "code",
   "execution_count": 56,
   "metadata": {},
   "outputs": [
    {
     "data": {
      "text/plain": [
       "Semana\n",
       "3    143\n",
       "4    129\n",
       "5    145\n",
       "6     86\n",
       "7     45\n",
       "Name: Demanda_uni_equil, dtype: int64"
      ]
     },
     "execution_count": 56,
     "metadata": {},
     "output_type": "execute_result"
    }
   ],
   "source": [
    "test_client_across_all_agencies.head()\n",
    "#artefact_like"
   ]
  },
  {
   "cell_type": "code",
   "execution_count": 57,
   "metadata": {},
   "outputs": [],
   "source": [
    "DF_test_client = FULL_agencia_for_town[FULL_agencia_for_town['Cliente_ID'] == 1073788]\n",
    "DF_test_client = DF_test_client.groupby('Producto_ID')['Demanda_uni_equil'].sum().compute()"
   ]
  },
  {
   "cell_type": "code",
   "execution_count": 58,
   "metadata": {},
   "outputs": [
    {
     "data": {
      "text/plain": [
       "Producto_ID\n",
       "972       8\n",
       "1064      7\n",
       "1109     22\n",
       "1125     32\n",
       "1129     35\n",
       "         ..\n",
       "48421     2\n",
       "73        1\n",
       "32322     4\n",
       "48077     7\n",
       "1160      1\n",
       "Name: Demanda_uni_equil, Length: 64, dtype: int64"
      ]
     },
     "execution_count": 58,
     "metadata": {},
     "output_type": "execute_result"
    }
   ],
   "source": [
    "DF_test_client"
   ]
  },
  {
   "cell_type": "code",
   "execution_count": 66,
   "metadata": {},
   "outputs": [],
   "source": [
    "DF_test_client = FULL_agencia_for_town[FULL_agencia_for_town['Cliente_ID'] == 1073788]\n",
    "\n",
    "#DF_test_client = DF_test_client.groupby(['Semana', 'Agencia_ID', 'Producto_ID'])['Demanda_uni_equil'].sum().compute()\n",
    "DF_test_client = DF_test_client.groupby(['Agencia_ID', 'Semana'])['Demanda_uni_equil'].sum().compute()"
   ]
  },
  {
   "cell_type": "code",
   "execution_count": 67,
   "metadata": {},
   "outputs": [
    {
     "data": {
      "text/html": [
       "<div>\n",
       "<style scoped>\n",
       "    .dataframe tbody tr th:only-of-type {\n",
       "        vertical-align: middle;\n",
       "    }\n",
       "\n",
       "    .dataframe tbody tr th {\n",
       "        vertical-align: top;\n",
       "    }\n",
       "\n",
       "    .dataframe thead th {\n",
       "        text-align: right;\n",
       "    }\n",
       "</style>\n",
       "<table border=\"1\" class=\"dataframe\">\n",
       "  <thead>\n",
       "    <tr style=\"text-align: right;\">\n",
       "      <th></th>\n",
       "      <th>Agencia_ID</th>\n",
       "      <th>Semana</th>\n",
       "      <th>Demanda_uni_equil</th>\n",
       "    </tr>\n",
       "  </thead>\n",
       "  <tbody>\n",
       "    <tr>\n",
       "      <th>0</th>\n",
       "      <td>2020</td>\n",
       "      <td>3</td>\n",
       "      <td>143</td>\n",
       "    </tr>\n",
       "    <tr>\n",
       "      <th>1</th>\n",
       "      <td>2020</td>\n",
       "      <td>4</td>\n",
       "      <td>129</td>\n",
       "    </tr>\n",
       "    <tr>\n",
       "      <th>2</th>\n",
       "      <td>2020</td>\n",
       "      <td>5</td>\n",
       "      <td>145</td>\n",
       "    </tr>\n",
       "    <tr>\n",
       "      <th>3</th>\n",
       "      <td>2020</td>\n",
       "      <td>6</td>\n",
       "      <td>86</td>\n",
       "    </tr>\n",
       "    <tr>\n",
       "      <th>4</th>\n",
       "      <td>2020</td>\n",
       "      <td>7</td>\n",
       "      <td>45</td>\n",
       "    </tr>\n",
       "    <tr>\n",
       "      <th>5</th>\n",
       "      <td>2020</td>\n",
       "      <td>8</td>\n",
       "      <td>104</td>\n",
       "    </tr>\n",
       "    <tr>\n",
       "      <th>6</th>\n",
       "      <td>2020</td>\n",
       "      <td>9</td>\n",
       "      <td>80</td>\n",
       "    </tr>\n",
       "  </tbody>\n",
       "</table>\n",
       "</div>"
      ],
      "text/plain": [
       "   Agencia_ID  Semana  Demanda_uni_equil\n",
       "0        2020       3                143\n",
       "1        2020       4                129\n",
       "2        2020       5                145\n",
       "3        2020       6                 86\n",
       "4        2020       7                 45\n",
       "5        2020       8                104\n",
       "6        2020       9                 80"
      ]
     },
     "execution_count": 67,
     "metadata": {},
     "output_type": "execute_result"
    }
   ],
   "source": [
    "DF_test_client = DF_test_client.reset_index()\n",
    "DF_test_client"
   ]
  },
  {
   "cell_type": "code",
   "execution_count": 61,
   "metadata": {},
   "outputs": [
    {
     "data": {
      "text/html": [
       "<div>\n",
       "<style scoped>\n",
       "    .dataframe tbody tr th:only-of-type {\n",
       "        vertical-align: middle;\n",
       "    }\n",
       "\n",
       "    .dataframe tbody tr th {\n",
       "        vertical-align: top;\n",
       "    }\n",
       "\n",
       "    .dataframe thead th {\n",
       "        text-align: right;\n",
       "    }\n",
       "</style>\n",
       "<table border=\"1\" class=\"dataframe\">\n",
       "  <thead>\n",
       "    <tr style=\"text-align: right;\">\n",
       "      <th></th>\n",
       "      <th>Semana</th>\n",
       "      <th>Agencia_ID</th>\n",
       "      <th>Producto_ID</th>\n",
       "      <th>Demanda_uni_equil</th>\n",
       "    </tr>\n",
       "  </thead>\n",
       "  <tbody>\n",
       "    <tr>\n",
       "      <th>0</th>\n",
       "      <td>3</td>\n",
       "      <td>2020</td>\n",
       "      <td>972</td>\n",
       "      <td>2</td>\n",
       "    </tr>\n",
       "    <tr>\n",
       "      <th>37</th>\n",
       "      <td>4</td>\n",
       "      <td>2020</td>\n",
       "      <td>972</td>\n",
       "      <td>3</td>\n",
       "    </tr>\n",
       "    <tr>\n",
       "      <th>75</th>\n",
       "      <td>5</td>\n",
       "      <td>2020</td>\n",
       "      <td>972</td>\n",
       "      <td>2</td>\n",
       "    </tr>\n",
       "    <tr>\n",
       "      <th>167</th>\n",
       "      <td>9</td>\n",
       "      <td>2020</td>\n",
       "      <td>972</td>\n",
       "      <td>1</td>\n",
       "    </tr>\n",
       "  </tbody>\n",
       "</table>\n",
       "</div>"
      ],
      "text/plain": [
       "     Semana  Agencia_ID  Producto_ID  Demanda_uni_equil\n",
       "0         3        2020          972                  2\n",
       "37        4        2020          972                  3\n",
       "75        5        2020          972                  2\n",
       "167       9        2020          972                  1"
      ]
     },
     "execution_count": 61,
     "metadata": {},
     "output_type": "execute_result"
    }
   ],
   "source": [
    "DF_test_client[DF_test_client['Producto_ID'] == 972]"
   ]
  },
  {
   "cell_type": "code",
   "execution_count": 113,
   "metadata": {},
   "outputs": [
    {
     "ename": "KeyError",
     "evalue": "'Producto_ID'",
     "output_type": "error",
     "traceback": [
      "\u001b[1;31m---------------------------------------------------------------------------\u001b[0m",
      "\u001b[1;31mKeyError\u001b[0m                                  Traceback (most recent call last)",
      "\u001b[1;32m<ipython-input-113-694ce850ecce>\u001b[0m in \u001b[0;36m<module>\u001b[1;34m\u001b[0m\n\u001b[0;32m      3\u001b[0m \u001b[0mDF_test_client\u001b[0m\u001b[1;33m\u001b[0m\u001b[1;33m\u001b[0m\u001b[0m\n\u001b[0;32m      4\u001b[0m \u001b[1;33m\u001b[0m\u001b[0m\n\u001b[1;32m----> 5\u001b[1;33m \u001b[0mDF_test_client_pivot\u001b[0m \u001b[1;33m=\u001b[0m \u001b[0mDF_test_client\u001b[0m\u001b[1;33m.\u001b[0m\u001b[0mpivot_table\u001b[0m\u001b[1;33m(\u001b[0m\u001b[0mindex\u001b[0m\u001b[1;33m=\u001b[0m\u001b[1;34m\"Producto_ID\"\u001b[0m\u001b[1;33m,\u001b[0m \u001b[0mcolumns\u001b[0m\u001b[1;33m=\u001b[0m\u001b[1;34m\"Semana\"\u001b[0m\u001b[1;33m,\u001b[0m \u001b[0mvalues\u001b[0m\u001b[1;33m=\u001b[0m\u001b[1;34m\"Demanda_uni_equil\"\u001b[0m\u001b[1;33m,\u001b[0m \u001b[0mdropna\u001b[0m\u001b[1;33m=\u001b[0m\u001b[1;32mTrue\u001b[0m\u001b[1;33m,\u001b[0m \u001b[0mfill_value\u001b[0m\u001b[1;33m=\u001b[0m\u001b[1;36m0\u001b[0m\u001b[1;33m)\u001b[0m\u001b[1;33m\u001b[0m\u001b[1;33m\u001b[0m\u001b[0m\n\u001b[0m\u001b[0;32m      6\u001b[0m \u001b[0mDF_test_client_pivot\u001b[0m\u001b[1;33m\u001b[0m\u001b[1;33m\u001b[0m\u001b[0m\n\u001b[0;32m      7\u001b[0m \u001b[1;31m#DF_hmap_clients\u001b[0m\u001b[1;33m\u001b[0m\u001b[1;33m\u001b[0m\u001b[1;33m\u001b[0m\u001b[0m\n",
      "\u001b[1;32m~\\Anaconda3\\lib\\site-packages\\pandas\\core\\frame.py\u001b[0m in \u001b[0;36mpivot_table\u001b[1;34m(self, values, index, columns, aggfunc, fill_value, margins, dropna, margins_name, observed)\u001b[0m\n\u001b[0;32m   6087\u001b[0m             \u001b[0mdropna\u001b[0m\u001b[1;33m=\u001b[0m\u001b[0mdropna\u001b[0m\u001b[1;33m,\u001b[0m\u001b[1;33m\u001b[0m\u001b[1;33m\u001b[0m\u001b[0m\n\u001b[0;32m   6088\u001b[0m             \u001b[0mmargins_name\u001b[0m\u001b[1;33m=\u001b[0m\u001b[0mmargins_name\u001b[0m\u001b[1;33m,\u001b[0m\u001b[1;33m\u001b[0m\u001b[1;33m\u001b[0m\u001b[0m\n\u001b[1;32m-> 6089\u001b[1;33m             \u001b[0mobserved\u001b[0m\u001b[1;33m=\u001b[0m\u001b[0mobserved\u001b[0m\u001b[1;33m,\u001b[0m\u001b[1;33m\u001b[0m\u001b[1;33m\u001b[0m\u001b[0m\n\u001b[0m\u001b[0;32m   6090\u001b[0m         )\n\u001b[0;32m   6091\u001b[0m \u001b[1;33m\u001b[0m\u001b[0m\n",
      "\u001b[1;32m~\\Anaconda3\\lib\\site-packages\\pandas\\core\\reshape\\pivot.py\u001b[0m in \u001b[0;36mpivot_table\u001b[1;34m(data, values, index, columns, aggfunc, fill_value, margins, dropna, margins_name, observed)\u001b[0m\n\u001b[0;32m     93\u001b[0m         \u001b[0mvalues\u001b[0m \u001b[1;33m=\u001b[0m \u001b[0mlist\u001b[0m\u001b[1;33m(\u001b[0m\u001b[0mvalues\u001b[0m\u001b[1;33m)\u001b[0m\u001b[1;33m\u001b[0m\u001b[1;33m\u001b[0m\u001b[0m\n\u001b[0;32m     94\u001b[0m \u001b[1;33m\u001b[0m\u001b[0m\n\u001b[1;32m---> 95\u001b[1;33m     \u001b[0mgrouped\u001b[0m \u001b[1;33m=\u001b[0m \u001b[0mdata\u001b[0m\u001b[1;33m.\u001b[0m\u001b[0mgroupby\u001b[0m\u001b[1;33m(\u001b[0m\u001b[0mkeys\u001b[0m\u001b[1;33m,\u001b[0m \u001b[0mobserved\u001b[0m\u001b[1;33m=\u001b[0m\u001b[0mobserved\u001b[0m\u001b[1;33m)\u001b[0m\u001b[1;33m\u001b[0m\u001b[1;33m\u001b[0m\u001b[0m\n\u001b[0m\u001b[0;32m     96\u001b[0m     \u001b[0magged\u001b[0m \u001b[1;33m=\u001b[0m \u001b[0mgrouped\u001b[0m\u001b[1;33m.\u001b[0m\u001b[0magg\u001b[0m\u001b[1;33m(\u001b[0m\u001b[0maggfunc\u001b[0m\u001b[1;33m)\u001b[0m\u001b[1;33m\u001b[0m\u001b[1;33m\u001b[0m\u001b[0m\n\u001b[0;32m     97\u001b[0m     \u001b[1;32mif\u001b[0m \u001b[0mdropna\u001b[0m \u001b[1;32mand\u001b[0m \u001b[0misinstance\u001b[0m\u001b[1;33m(\u001b[0m\u001b[0magged\u001b[0m\u001b[1;33m,\u001b[0m \u001b[0mABCDataFrame\u001b[0m\u001b[1;33m)\u001b[0m \u001b[1;32mand\u001b[0m \u001b[0mlen\u001b[0m\u001b[1;33m(\u001b[0m\u001b[0magged\u001b[0m\u001b[1;33m.\u001b[0m\u001b[0mcolumns\u001b[0m\u001b[1;33m)\u001b[0m\u001b[1;33m:\u001b[0m\u001b[1;33m\u001b[0m\u001b[1;33m\u001b[0m\u001b[0m\n",
      "\u001b[1;32m~\\Anaconda3\\lib\\site-packages\\pandas\\core\\generic.py\u001b[0m in \u001b[0;36mgroupby\u001b[1;34m(self, by, axis, level, as_index, sort, group_keys, squeeze, observed, **kwargs)\u001b[0m\n\u001b[0;32m   7892\u001b[0m             \u001b[0msqueeze\u001b[0m\u001b[1;33m=\u001b[0m\u001b[0msqueeze\u001b[0m\u001b[1;33m,\u001b[0m\u001b[1;33m\u001b[0m\u001b[1;33m\u001b[0m\u001b[0m\n\u001b[0;32m   7893\u001b[0m             \u001b[0mobserved\u001b[0m\u001b[1;33m=\u001b[0m\u001b[0mobserved\u001b[0m\u001b[1;33m,\u001b[0m\u001b[1;33m\u001b[0m\u001b[1;33m\u001b[0m\u001b[0m\n\u001b[1;32m-> 7894\u001b[1;33m             \u001b[1;33m**\u001b[0m\u001b[0mkwargs\u001b[0m\u001b[1;33m\u001b[0m\u001b[1;33m\u001b[0m\u001b[0m\n\u001b[0m\u001b[0;32m   7895\u001b[0m         )\n\u001b[0;32m   7896\u001b[0m \u001b[1;33m\u001b[0m\u001b[0m\n",
      "\u001b[1;32m~\\Anaconda3\\lib\\site-packages\\pandas\\core\\groupby\\groupby.py\u001b[0m in \u001b[0;36mgroupby\u001b[1;34m(obj, by, **kwds)\u001b[0m\n\u001b[0;32m   2520\u001b[0m         \u001b[1;32mraise\u001b[0m \u001b[0mTypeError\u001b[0m\u001b[1;33m(\u001b[0m\u001b[1;34m\"invalid type: {}\"\u001b[0m\u001b[1;33m.\u001b[0m\u001b[0mformat\u001b[0m\u001b[1;33m(\u001b[0m\u001b[0mobj\u001b[0m\u001b[1;33m)\u001b[0m\u001b[1;33m)\u001b[0m\u001b[1;33m\u001b[0m\u001b[1;33m\u001b[0m\u001b[0m\n\u001b[0;32m   2521\u001b[0m \u001b[1;33m\u001b[0m\u001b[0m\n\u001b[1;32m-> 2522\u001b[1;33m     \u001b[1;32mreturn\u001b[0m \u001b[0mklass\u001b[0m\u001b[1;33m(\u001b[0m\u001b[0mobj\u001b[0m\u001b[1;33m,\u001b[0m \u001b[0mby\u001b[0m\u001b[1;33m,\u001b[0m \u001b[1;33m**\u001b[0m\u001b[0mkwds\u001b[0m\u001b[1;33m)\u001b[0m\u001b[1;33m\u001b[0m\u001b[1;33m\u001b[0m\u001b[0m\n\u001b[0m",
      "\u001b[1;32m~\\Anaconda3\\lib\\site-packages\\pandas\\core\\groupby\\groupby.py\u001b[0m in \u001b[0;36m__init__\u001b[1;34m(self, obj, keys, axis, level, grouper, exclusions, selection, as_index, sort, group_keys, squeeze, observed, **kwargs)\u001b[0m\n\u001b[0;32m    389\u001b[0m                 \u001b[0msort\u001b[0m\u001b[1;33m=\u001b[0m\u001b[0msort\u001b[0m\u001b[1;33m,\u001b[0m\u001b[1;33m\u001b[0m\u001b[1;33m\u001b[0m\u001b[0m\n\u001b[0;32m    390\u001b[0m                 \u001b[0mobserved\u001b[0m\u001b[1;33m=\u001b[0m\u001b[0mobserved\u001b[0m\u001b[1;33m,\u001b[0m\u001b[1;33m\u001b[0m\u001b[1;33m\u001b[0m\u001b[0m\n\u001b[1;32m--> 391\u001b[1;33m                 \u001b[0mmutated\u001b[0m\u001b[1;33m=\u001b[0m\u001b[0mself\u001b[0m\u001b[1;33m.\u001b[0m\u001b[0mmutated\u001b[0m\u001b[1;33m,\u001b[0m\u001b[1;33m\u001b[0m\u001b[1;33m\u001b[0m\u001b[0m\n\u001b[0m\u001b[0;32m    392\u001b[0m             )\n\u001b[0;32m    393\u001b[0m \u001b[1;33m\u001b[0m\u001b[0m\n",
      "\u001b[1;32m~\\Anaconda3\\lib\\site-packages\\pandas\\core\\groupby\\grouper.py\u001b[0m in \u001b[0;36m_get_grouper\u001b[1;34m(obj, key, axis, level, sort, observed, mutated, validate)\u001b[0m\n\u001b[0;32m    619\u001b[0m                 \u001b[0min_axis\u001b[0m\u001b[1;33m,\u001b[0m \u001b[0mname\u001b[0m\u001b[1;33m,\u001b[0m \u001b[0mlevel\u001b[0m\u001b[1;33m,\u001b[0m \u001b[0mgpr\u001b[0m \u001b[1;33m=\u001b[0m \u001b[1;32mFalse\u001b[0m\u001b[1;33m,\u001b[0m \u001b[1;32mNone\u001b[0m\u001b[1;33m,\u001b[0m \u001b[0mgpr\u001b[0m\u001b[1;33m,\u001b[0m \u001b[1;32mNone\u001b[0m\u001b[1;33m\u001b[0m\u001b[1;33m\u001b[0m\u001b[0m\n\u001b[0;32m    620\u001b[0m             \u001b[1;32melse\u001b[0m\u001b[1;33m:\u001b[0m\u001b[1;33m\u001b[0m\u001b[1;33m\u001b[0m\u001b[0m\n\u001b[1;32m--> 621\u001b[1;33m                 \u001b[1;32mraise\u001b[0m \u001b[0mKeyError\u001b[0m\u001b[1;33m(\u001b[0m\u001b[0mgpr\u001b[0m\u001b[1;33m)\u001b[0m\u001b[1;33m\u001b[0m\u001b[1;33m\u001b[0m\u001b[0m\n\u001b[0m\u001b[0;32m    622\u001b[0m         \u001b[1;32melif\u001b[0m \u001b[0misinstance\u001b[0m\u001b[1;33m(\u001b[0m\u001b[0mgpr\u001b[0m\u001b[1;33m,\u001b[0m \u001b[0mGrouper\u001b[0m\u001b[1;33m)\u001b[0m \u001b[1;32mand\u001b[0m \u001b[0mgpr\u001b[0m\u001b[1;33m.\u001b[0m\u001b[0mkey\u001b[0m \u001b[1;32mis\u001b[0m \u001b[1;32mnot\u001b[0m \u001b[1;32mNone\u001b[0m\u001b[1;33m:\u001b[0m\u001b[1;33m\u001b[0m\u001b[1;33m\u001b[0m\u001b[0m\n\u001b[0;32m    623\u001b[0m             \u001b[1;31m# Add key to exclusions\u001b[0m\u001b[1;33m\u001b[0m\u001b[1;33m\u001b[0m\u001b[1;33m\u001b[0m\u001b[0m\n",
      "\u001b[1;31mKeyError\u001b[0m: 'Producto_ID'"
     ]
    }
   ],
   "source": [
    "#DF_hmap_clients = pd.DataFrame(interq_hmap_clients) #.reset_index()\n",
    "DF_test_client.sort_values(by=['Semana', 'Demanda_uni_equil'], ascending=False, inplace=True)\n",
    "DF_test_client\n",
    "\n",
    "DF_test_client_pivot = DF_test_client.pivot_table(index=\"Producto_ID\", columns=\"Semana\", values=\"Demanda_uni_equil\", dropna=True, fill_value=0)\n",
    "DF_test_client_pivot\n",
    "#DF_hmap_clients\n",
    "\n",
    "plt.figure(figsize=(14,7))\n",
    "hmap = sns.heatmap(data=DF_test_client_pivot, robust=True)"
   ]
  },
  {
   "cell_type": "markdown",
   "metadata": {},
   "source": [
    "The demand seems very non-stable. I'm done with this challenge tbh. I know how to cheat the metric, don't care about the rest."
   ]
  },
  {
   "cell_type": "code",
   "execution_count": 114,
   "metadata": {},
   "outputs": [],
   "source": [
    "DF_test_client = FULL_agencia_for_town[FULL_agencia_for_town['Cliente_ID'] == 1073788]\n",
    "DF_test_client = DF_test_client.groupby(['Semana', 'Agencia_ID', 'Producto_ID'])['Venta_uni_hoy'].sum().compute()"
   ]
  },
  {
   "cell_type": "code",
   "execution_count": 115,
   "metadata": {},
   "outputs": [
    {
     "data": {
      "text/html": [
       "<div>\n",
       "<style scoped>\n",
       "    .dataframe tbody tr th:only-of-type {\n",
       "        vertical-align: middle;\n",
       "    }\n",
       "\n",
       "    .dataframe tbody tr th {\n",
       "        vertical-align: top;\n",
       "    }\n",
       "\n",
       "    .dataframe thead th {\n",
       "        text-align: right;\n",
       "    }\n",
       "</style>\n",
       "<table border=\"1\" class=\"dataframe\">\n",
       "  <thead>\n",
       "    <tr style=\"text-align: right;\">\n",
       "      <th></th>\n",
       "      <th>Semana</th>\n",
       "      <th>Agencia_ID</th>\n",
       "      <th>Producto_ID</th>\n",
       "      <th>Venta_uni_hoy</th>\n",
       "    </tr>\n",
       "  </thead>\n",
       "  <tbody>\n",
       "    <tr>\n",
       "      <th>0</th>\n",
       "      <td>3</td>\n",
       "      <td>2020</td>\n",
       "      <td>972</td>\n",
       "      <td>2</td>\n",
       "    </tr>\n",
       "    <tr>\n",
       "      <th>37</th>\n",
       "      <td>4</td>\n",
       "      <td>2020</td>\n",
       "      <td>972</td>\n",
       "      <td>3</td>\n",
       "    </tr>\n",
       "    <tr>\n",
       "      <th>75</th>\n",
       "      <td>5</td>\n",
       "      <td>2020</td>\n",
       "      <td>972</td>\n",
       "      <td>2</td>\n",
       "    </tr>\n",
       "    <tr>\n",
       "      <th>167</th>\n",
       "      <td>9</td>\n",
       "      <td>2020</td>\n",
       "      <td>972</td>\n",
       "      <td>1</td>\n",
       "    </tr>\n",
       "  </tbody>\n",
       "</table>\n",
       "</div>"
      ],
      "text/plain": [
       "     Semana  Agencia_ID  Producto_ID  Venta_uni_hoy\n",
       "0         3        2020          972              2\n",
       "37        4        2020          972              3\n",
       "75        5        2020          972              2\n",
       "167       9        2020          972              1"
      ]
     },
     "execution_count": 115,
     "metadata": {},
     "output_type": "execute_result"
    }
   ],
   "source": [
    "DF_test_client = DF_test_client.reset_index()\n",
    "DF_test_client[DF_test_client['Producto_ID'] == 972]"
   ]
  },
  {
   "cell_type": "code",
   "execution_count": 116,
   "metadata": {},
   "outputs": [],
   "source": [
    "DF_test_client = FULL_agencia_for_town[FULL_agencia_for_town['Cliente_ID'] == 1073788]\n",
    "DF_test_client = DF_test_client.groupby(['Semana', 'Agencia_ID', 'Producto_ID'])['Dev_uni_proxima'].sum().compute()"
   ]
  },
  {
   "cell_type": "code",
   "execution_count": 117,
   "metadata": {},
   "outputs": [
    {
     "data": {
      "text/html": [
       "<div>\n",
       "<style scoped>\n",
       "    .dataframe tbody tr th:only-of-type {\n",
       "        vertical-align: middle;\n",
       "    }\n",
       "\n",
       "    .dataframe tbody tr th {\n",
       "        vertical-align: top;\n",
       "    }\n",
       "\n",
       "    .dataframe thead th {\n",
       "        text-align: right;\n",
       "    }\n",
       "</style>\n",
       "<table border=\"1\" class=\"dataframe\">\n",
       "  <thead>\n",
       "    <tr style=\"text-align: right;\">\n",
       "      <th></th>\n",
       "      <th>Semana</th>\n",
       "      <th>Agencia_ID</th>\n",
       "      <th>Producto_ID</th>\n",
       "      <th>Dev_uni_proxima</th>\n",
       "    </tr>\n",
       "  </thead>\n",
       "  <tbody>\n",
       "    <tr>\n",
       "      <th>0</th>\n",
       "      <td>3</td>\n",
       "      <td>2020</td>\n",
       "      <td>972</td>\n",
       "      <td>0</td>\n",
       "    </tr>\n",
       "    <tr>\n",
       "      <th>37</th>\n",
       "      <td>4</td>\n",
       "      <td>2020</td>\n",
       "      <td>972</td>\n",
       "      <td>0</td>\n",
       "    </tr>\n",
       "    <tr>\n",
       "      <th>75</th>\n",
       "      <td>5</td>\n",
       "      <td>2020</td>\n",
       "      <td>972</td>\n",
       "      <td>0</td>\n",
       "    </tr>\n",
       "    <tr>\n",
       "      <th>167</th>\n",
       "      <td>9</td>\n",
       "      <td>2020</td>\n",
       "      <td>972</td>\n",
       "      <td>0</td>\n",
       "    </tr>\n",
       "  </tbody>\n",
       "</table>\n",
       "</div>"
      ],
      "text/plain": [
       "     Semana  Agencia_ID  Producto_ID  Dev_uni_proxima\n",
       "0         3        2020          972                0\n",
       "37        4        2020          972                0\n",
       "75        5        2020          972                0\n",
       "167       9        2020          972                0"
      ]
     },
     "execution_count": 117,
     "metadata": {},
     "output_type": "execute_result"
    }
   ],
   "source": [
    "DF_test_client = DF_test_client.reset_index()\n",
    "DF_test_client[DF_test_client['Producto_ID'] == 972]"
   ]
  },
  {
   "cell_type": "code",
   "execution_count": null,
   "metadata": {},
   "outputs": [],
   "source": []
  },
  {
   "cell_type": "markdown",
   "metadata": {},
   "source": [
    "Now let's create just some dirty cheaty solution by using means/medians for client-product across all the weeks to predict the demand"
   ]
  },
  {
   "cell_type": "code",
   "execution_count": 4,
   "metadata": {},
   "outputs": [],
   "source": [
    "FULL_Semana_3 = FULL_train[FULL_train['Semana'] == 3]\n",
    "FULL_Semana_4 = FULL_train[FULL_train['Semana'] == 4]\n",
    "FULL_Semana_5 = FULL_train[FULL_train['Semana'] == 5]\n",
    "FULL_Semana_6 = FULL_train[FULL_train['Semana'] == 6]\n",
    "FULL_Semana_7 = FULL_train[FULL_train['Semana'] == 7]\n",
    "FULL_Semana_8 = FULL_train[FULL_train['Semana'] == 8]\n",
    "FULL_Semana_9 = FULL_train[FULL_train['Semana'] == 9]"
   ]
  },
  {
   "cell_type": "markdown",
   "metadata": {},
   "source": [
    "Create dask DataFrame with average(mean or median) for each client-product, for each client in general and if no(new client + new product), then products in general. \n",
    "\n",
    "You can achieve this via merging all the weeks horizontally(drop unnecessary columns first) on clients+products, and then using aggregations on each row (mean or median) via map_partitions+apply for each partition-DataFrame of the Dask-DataFrame"
   ]
  },
  {
   "cell_type": "raw",
   "metadata": {},
   "source": [
    "def test_f(df, col_1, col_2):\n",
    "    return df.assign(result=df[col_1] * df[col_2])\n",
    "\n",
    "\n",
    "ddf_out = ddf.map_partitions(test_f, 'col_1', 'col_2')"
   ]
  },
  {
   "cell_type": "raw",
   "metadata": {},
   "source": [
    "Test environment for merge & map partitions & apply:"
   ]
  },
  {
   "cell_type": "code",
   "execution_count": 28,
   "metadata": {},
   "outputs": [
    {
     "data": {
      "text/html": [
       "<div>\n",
       "<style scoped>\n",
       "    .dataframe tbody tr th:only-of-type {\n",
       "        vertical-align: middle;\n",
       "    }\n",
       "\n",
       "    .dataframe tbody tr th {\n",
       "        vertical-align: top;\n",
       "    }\n",
       "\n",
       "    .dataframe thead th {\n",
       "        text-align: right;\n",
       "    }\n",
       "</style>\n",
       "<table border=\"1\" class=\"dataframe\">\n",
       "  <thead>\n",
       "    <tr style=\"text-align: right;\">\n",
       "      <th></th>\n",
       "      <th>Cliente_ID</th>\n",
       "      <th>Producto_ID</th>\n",
       "      <th>Weekly_demand_Client</th>\n",
       "    </tr>\n",
       "  </thead>\n",
       "  <tbody>\n",
       "    <tr>\n",
       "      <th>0</th>\n",
       "      <td>3967</td>\n",
       "      <td>303</td>\n",
       "      <td>3</td>\n",
       "    </tr>\n",
       "    <tr>\n",
       "      <th>1</th>\n",
       "      <td>3967</td>\n",
       "      <td>323</td>\n",
       "      <td>2</td>\n",
       "    </tr>\n",
       "    <tr>\n",
       "      <th>2</th>\n",
       "      <td>3967</td>\n",
       "      <td>325</td>\n",
       "      <td>2</td>\n",
       "    </tr>\n",
       "    <tr>\n",
       "      <th>3</th>\n",
       "      <td>5555</td>\n",
       "      <td>972</td>\n",
       "      <td>1</td>\n",
       "    </tr>\n",
       "    <tr>\n",
       "      <th>4</th>\n",
       "      <td>3967</td>\n",
       "      <td>1064</td>\n",
       "      <td>6</td>\n",
       "    </tr>\n",
       "  </tbody>\n",
       "</table>\n",
       "</div>"
      ],
      "text/plain": [
       "   Cliente_ID  Producto_ID  Weekly_demand_Client\n",
       "0        3967          303                     3\n",
       "1        3967          323                     2\n",
       "2        3967          325                     2\n",
       "3        5555          972                     1\n",
       "4        3967         1064                     6"
      ]
     },
     "execution_count": 28,
     "metadata": {},
     "output_type": "execute_result"
    }
   ],
   "source": [
    "df = pd.DataFrame({'Cliente_ID': [3967, 3967, 3967, 5555, 3967],\n",
    "                                'Producto_ID': [303, 323, 325, 972, 1064],\n",
    "                                'Weekly_demand_Client':[3, 2, 2, 1, 6]})\n",
    "ddf = dd.from_pandas(df, npartitions=2)\n",
    "ddf.head(npartitions=2)"
   ]
  },
  {
   "cell_type": "code",
   "execution_count": 81,
   "metadata": {},
   "outputs": [
    {
     "data": {
      "text/html": [
       "<div>\n",
       "<style scoped>\n",
       "    .dataframe tbody tr th:only-of-type {\n",
       "        vertical-align: middle;\n",
       "    }\n",
       "\n",
       "    .dataframe tbody tr th {\n",
       "        vertical-align: top;\n",
       "    }\n",
       "\n",
       "    .dataframe thead th {\n",
       "        text-align: right;\n",
       "    }\n",
       "</style>\n",
       "<table border=\"1\" class=\"dataframe\">\n",
       "  <thead>\n",
       "    <tr style=\"text-align: right;\">\n",
       "      <th></th>\n",
       "      <th>Cliente_ID</th>\n",
       "      <th>Producto_ID</th>\n",
       "      <th>Weekly_demand_Client</th>\n",
       "      <th>result</th>\n",
       "    </tr>\n",
       "  </thead>\n",
       "  <tbody>\n",
       "    <tr>\n",
       "      <th>0</th>\n",
       "      <td>3967</td>\n",
       "      <td>303</td>\n",
       "      <td>3</td>\n",
       "      <td>153.0</td>\n",
       "    </tr>\n",
       "    <tr>\n",
       "      <th>1</th>\n",
       "      <td>3967</td>\n",
       "      <td>323</td>\n",
       "      <td>2</td>\n",
       "      <td>162.5</td>\n",
       "    </tr>\n",
       "    <tr>\n",
       "      <th>2</th>\n",
       "      <td>3967</td>\n",
       "      <td>325</td>\n",
       "      <td>2</td>\n",
       "      <td>163.5</td>\n",
       "    </tr>\n",
       "    <tr>\n",
       "      <th>3</th>\n",
       "      <td>5555</td>\n",
       "      <td>972</td>\n",
       "      <td>1</td>\n",
       "      <td>486.5</td>\n",
       "    </tr>\n",
       "    <tr>\n",
       "      <th>4</th>\n",
       "      <td>3967</td>\n",
       "      <td>1064</td>\n",
       "      <td>6</td>\n",
       "      <td>535.0</td>\n",
       "    </tr>\n",
       "  </tbody>\n",
       "</table>\n",
       "</div>"
      ],
      "text/plain": [
       "   Cliente_ID  Producto_ID  Weekly_demand_Client  result\n",
       "0        3967          303                     3   153.0\n",
       "1        3967          323                     2   162.5\n",
       "2        3967          325                     2   163.5\n",
       "3        5555          972                     1   486.5\n",
       "4        3967         1064                     6   535.0"
      ]
     },
     "execution_count": 81,
     "metadata": {},
     "output_type": "execute_result"
    }
   ],
   "source": [
    "def test_f(df, cols):\n",
    "    #print(df[cols[0]].dtype())\n",
    "    #print(df[cols[1]].dtype())\n",
    "    #out = df[cols].mean(axis=1)\n",
    "    #print(out)\n",
    "    #print(df[cols])\n",
    "    #out = pd.Series(df[cols[0]], df[cols[1]]).mean()\n",
    "    #df[cols[0]] + df[cols[1]]\n",
    "    \n",
    "    #put all the shit into return statement otheriwise it\n",
    "    #doesn't work properly(recursively does each statement several\n",
    "    #times before proceeding to the ext or i dunno some shit)\n",
    "    return df.assign(result=df[cols].median(axis=1)) #float(out))\n",
    "\n",
    "'''\n",
    "dds_out = ddf.apply(\n",
    "    test_f, \n",
    "    args=('col_1', 'col_2'), \n",
    "    axis=1, \n",
    "    meta=('result', int)\n",
    ").compute(get=get)\n",
    "'''\n",
    "\n",
    "ddf_out = ddf.map_partitions(test_f, ['Producto_ID', 'Weekly_demand_Client'])\n",
    "ddf_out.head(npartitions=2)"
   ]
  },
  {
   "cell_type": "code",
   "execution_count": 91,
   "metadata": {},
   "outputs": [
    {
     "name": "stderr",
     "output_type": "stream",
     "text": [
      "C:\\Users\\Alexey\\Anaconda3\\lib\\site-packages\\dask\\dataframe\\core.py:5738: UserWarning: Insufficient elements for `head`. 5 elements requested, only 1 elements available. Try passing larger `npartitions` to `head`.\n",
      "  warnings.warn(msg.format(n, len(r)))\n"
     ]
    },
    {
     "data": {
      "text/html": [
       "<div>\n",
       "<style scoped>\n",
       "    .dataframe tbody tr th:only-of-type {\n",
       "        vertical-align: middle;\n",
       "    }\n",
       "\n",
       "    .dataframe tbody tr th {\n",
       "        vertical-align: top;\n",
       "    }\n",
       "\n",
       "    .dataframe thead th {\n",
       "        text-align: right;\n",
       "    }\n",
       "</style>\n",
       "<table border=\"1\" class=\"dataframe\">\n",
       "  <thead>\n",
       "    <tr style=\"text-align: right;\">\n",
       "      <th></th>\n",
       "      <th>Cliente_ID</th>\n",
       "      <th>Producto_ID</th>\n",
       "      <th>Weekly_demand_Client</th>\n",
       "      <th>result_1</th>\n",
       "      <th>result_2</th>\n",
       "      <th>result_3</th>\n",
       "      <th>result_4</th>\n",
       "      <th>result_5</th>\n",
       "    </tr>\n",
       "  </thead>\n",
       "  <tbody>\n",
       "    <tr>\n",
       "      <th>0</th>\n",
       "      <td>3967</td>\n",
       "      <td>325</td>\n",
       "      <td>2</td>\n",
       "      <td>163.5</td>\n",
       "      <td>163.5</td>\n",
       "      <td>163.5</td>\n",
       "      <td>163.5</td>\n",
       "      <td>163.5</td>\n",
       "    </tr>\n",
       "  </tbody>\n",
       "</table>\n",
       "</div>"
      ],
      "text/plain": [
       "   Cliente_ID  Producto_ID  Weekly_demand_Client  result_1  result_2  \\\n",
       "0        3967          325                     2     163.5     163.5   \n",
       "\n",
       "   result_3  result_4  result_5  \n",
       "0     163.5     163.5     163.5  "
      ]
     },
     "execution_count": 91,
     "metadata": {},
     "output_type": "execute_result"
    }
   ],
   "source": [
    "joinX = ddf_out.merge(ddf_out, how='left', on=['Cliente_ID', 'Producto_ID', 'Weekly_demand_Client'], suffixes=('_l', '_r'))\n",
    "joinX = joinX.rename(columns={'result_l': 'result_1', 'result_r': 'result_2'})\n",
    "\n",
    "joinX = joinX.merge(ddf_out, how='left', on=['Cliente_ID', 'Producto_ID', 'Weekly_demand_Client'], suffixes=('_l', '_r'))\n",
    "joinX = joinX.rename(columns={'result': 'result_3'})\n",
    "\n",
    "joinX = joinX.merge(ddf_out, how='left', on=['Cliente_ID', 'Producto_ID', 'Weekly_demand_Client'], suffixes=('_l', '_r'))\n",
    "joinX = joinX.rename(columns={'result': 'result_4'})\n",
    "\n",
    "joinX = joinX.merge(ddf_out, how='left', on=['Cliente_ID', 'Producto_ID', 'Weekly_demand_Client'], suffixes=('_l', '_r'))\n",
    "joinX = joinX.rename(columns={'result': 'result_5'})\n",
    "joinX.head()"
   ]
  },
  {
   "cell_type": "code",
   "execution_count": 30,
   "metadata": {},
   "outputs": [
    {
     "data": {
      "text/html": [
       "<div>\n",
       "<style scoped>\n",
       "    .dataframe tbody tr th:only-of-type {\n",
       "        vertical-align: middle;\n",
       "    }\n",
       "\n",
       "    .dataframe tbody tr th {\n",
       "        vertical-align: top;\n",
       "    }\n",
       "\n",
       "    .dataframe thead th {\n",
       "        text-align: right;\n",
       "    }\n",
       "</style>\n",
       "<table border=\"1\" class=\"dataframe\">\n",
       "  <thead>\n",
       "    <tr style=\"text-align: right;\">\n",
       "      <th></th>\n",
       "      <th>Cliente_ID</th>\n",
       "      <th>Producto_ID</th>\n",
       "      <th>Weekly_demand_Client</th>\n",
       "    </tr>\n",
       "  </thead>\n",
       "  <tbody>\n",
       "    <tr>\n",
       "      <th>0</th>\n",
       "      <td>3967</td>\n",
       "      <td>303</td>\n",
       "      <td>0</td>\n",
       "    </tr>\n",
       "    <tr>\n",
       "      <th>1</th>\n",
       "      <td>3967</td>\n",
       "      <td>323</td>\n",
       "      <td>0</td>\n",
       "    </tr>\n",
       "    <tr>\n",
       "      <th>2</th>\n",
       "      <td>3967</td>\n",
       "      <td>325</td>\n",
       "      <td>0</td>\n",
       "    </tr>\n",
       "    <tr>\n",
       "      <th>3</th>\n",
       "      <td>5555</td>\n",
       "      <td>972</td>\n",
       "      <td>0</td>\n",
       "    </tr>\n",
       "    <tr>\n",
       "      <th>4</th>\n",
       "      <td>3967</td>\n",
       "      <td>2</td>\n",
       "      <td>0</td>\n",
       "    </tr>\n",
       "  </tbody>\n",
       "</table>\n",
       "</div>"
      ],
      "text/plain": [
       "   Cliente_ID  Producto_ID  Weekly_demand_Client\n",
       "0        3967          303                     0\n",
       "1        3967          323                     0\n",
       "2        3967          325                     0\n",
       "3        5555          972                     0\n",
       "4        3967            2                     0"
      ]
     },
     "execution_count": 30,
     "metadata": {},
     "output_type": "execute_result"
    }
   ],
   "source": [
    "df = pd.DataFrame({'Cliente_ID': [3967, 3967, 3967, 5555, 3967, 2],\n",
    "                                'Producto_ID': [303, 323, 325, 972, 2, 3],\n",
    "                                'Weekly_demand_Client':[0, 0, 0, 0, 0, 0]})\n",
    "_ddf = dd.from_pandas(df, npartitions=2)\n",
    "_ddf.head(npartitions=2)"
   ]
  },
  {
   "cell_type": "code",
   "execution_count": 31,
   "metadata": {},
   "outputs": [
    {
     "data": {
      "text/html": [
       "<div>\n",
       "<style scoped>\n",
       "    .dataframe tbody tr th:only-of-type {\n",
       "        vertical-align: middle;\n",
       "    }\n",
       "\n",
       "    .dataframe tbody tr th {\n",
       "        vertical-align: top;\n",
       "    }\n",
       "\n",
       "    .dataframe thead th {\n",
       "        text-align: right;\n",
       "    }\n",
       "</style>\n",
       "<table border=\"1\" class=\"dataframe\">\n",
       "  <thead>\n",
       "    <tr style=\"text-align: right;\">\n",
       "      <th></th>\n",
       "      <th>Cliente_ID</th>\n",
       "      <th>Producto_ID</th>\n",
       "      <th>Weekly_demand_Client</th>\n",
       "      <th>Weekly_demand_Client-r</th>\n",
       "    </tr>\n",
       "  </thead>\n",
       "  <tbody>\n",
       "    <tr>\n",
       "      <th>0</th>\n",
       "      <td>3967</td>\n",
       "      <td>325</td>\n",
       "      <td>2.0</td>\n",
       "      <td>0</td>\n",
       "    </tr>\n",
       "    <tr>\n",
       "      <th>1</th>\n",
       "      <td>5555</td>\n",
       "      <td>972</td>\n",
       "      <td>NaN</td>\n",
       "      <td>0</td>\n",
       "    </tr>\n",
       "    <tr>\n",
       "      <th>2</th>\n",
       "      <td>3967</td>\n",
       "      <td>2</td>\n",
       "      <td>NaN</td>\n",
       "      <td>0</td>\n",
       "    </tr>\n",
       "    <tr>\n",
       "      <th>0</th>\n",
       "      <td>3967</td>\n",
       "      <td>303</td>\n",
       "      <td>3.0</td>\n",
       "      <td>0</td>\n",
       "    </tr>\n",
       "    <tr>\n",
       "      <th>1</th>\n",
       "      <td>3967</td>\n",
       "      <td>323</td>\n",
       "      <td>2.0</td>\n",
       "      <td>0</td>\n",
       "    </tr>\n",
       "  </tbody>\n",
       "</table>\n",
       "</div>"
      ],
      "text/plain": [
       "   Cliente_ID  Producto_ID  Weekly_demand_Client  Weekly_demand_Client-r\n",
       "0        3967          325                   2.0                       0\n",
       "1        5555          972                   NaN                       0\n",
       "2        3967            2                   NaN                       0\n",
       "0        3967          303                   3.0                       0\n",
       "1        3967          323                   2.0                       0"
      ]
     },
     "execution_count": 31,
     "metadata": {},
     "output_type": "execute_result"
    }
   ],
   "source": [
    "#join = join[join['Producto_ID'] < 350]\n",
    "join1 = ddf[ddf['Producto_ID'] < 350].merge(_ddf, how='right', on=['Producto_ID', 'Cliente_ID'], suffixes=('-l', '-r'))\n",
    "#join = ddf_out.groupby(['Producto_ID', 'Cliente_ID']).join(_ddf.groupby(['Producto_ID', 'Cliente_ID']), on= how='right', rsuffix='new-')\n",
    "join2 = ddf[ddf['Producto_ID'] > 350].merge(_ddf, how='right', on=['Producto_ID', 'Cliente_ID'], suffixes=('-l', '-r'))\n",
    "\n",
    "join1 = join1.rename(columns={'Weekly_demand_Client-l': 'Weekly_demand_Client'})\n",
    "join1.head(npartitions=2)"
   ]
  },
  {
   "cell_type": "code",
   "execution_count": 32,
   "metadata": {},
   "outputs": [
    {
     "data": {
      "text/html": [
       "<div>\n",
       "<style scoped>\n",
       "    .dataframe tbody tr th:only-of-type {\n",
       "        vertical-align: middle;\n",
       "    }\n",
       "\n",
       "    .dataframe tbody tr th {\n",
       "        vertical-align: top;\n",
       "    }\n",
       "\n",
       "    .dataframe thead th {\n",
       "        text-align: right;\n",
       "    }\n",
       "</style>\n",
       "<table border=\"1\" class=\"dataframe\">\n",
       "  <thead>\n",
       "    <tr style=\"text-align: right;\">\n",
       "      <th></th>\n",
       "      <th>Cliente_ID</th>\n",
       "      <th>Producto_ID</th>\n",
       "      <th>Weekly_demand_Client</th>\n",
       "      <th>Weekly_demand_Client-r</th>\n",
       "    </tr>\n",
       "  </thead>\n",
       "  <tbody>\n",
       "    <tr>\n",
       "      <th>0</th>\n",
       "      <td>5555</td>\n",
       "      <td>972</td>\n",
       "      <td>1.0</td>\n",
       "      <td>0</td>\n",
       "    </tr>\n",
       "    <tr>\n",
       "      <th>1</th>\n",
       "      <td>3967</td>\n",
       "      <td>2</td>\n",
       "      <td>NaN</td>\n",
       "      <td>0</td>\n",
       "    </tr>\n",
       "    <tr>\n",
       "      <th>2</th>\n",
       "      <td>3967</td>\n",
       "      <td>325</td>\n",
       "      <td>NaN</td>\n",
       "      <td>0</td>\n",
       "    </tr>\n",
       "    <tr>\n",
       "      <th>0</th>\n",
       "      <td>2</td>\n",
       "      <td>3</td>\n",
       "      <td>NaN</td>\n",
       "      <td>0</td>\n",
       "    </tr>\n",
       "    <tr>\n",
       "      <th>1</th>\n",
       "      <td>3967</td>\n",
       "      <td>303</td>\n",
       "      <td>NaN</td>\n",
       "      <td>0</td>\n",
       "    </tr>\n",
       "  </tbody>\n",
       "</table>\n",
       "</div>"
      ],
      "text/plain": [
       "   Cliente_ID  Producto_ID  Weekly_demand_Client  Weekly_demand_Client-r\n",
       "0        5555          972                   1.0                       0\n",
       "1        3967            2                   NaN                       0\n",
       "2        3967          325                   NaN                       0\n",
       "0           2            3                   NaN                       0\n",
       "1        3967          303                   NaN                       0"
      ]
     },
     "execution_count": 32,
     "metadata": {},
     "output_type": "execute_result"
    }
   ],
   "source": [
    "join2 = join2.rename(columns={'Weekly_demand_Client-l': 'Weekly_demand_Client'})\n",
    "join2.head(npartitions=2)"
   ]
  },
  {
   "cell_type": "code",
   "execution_count": 36,
   "metadata": {},
   "outputs": [
    {
     "data": {
      "text/html": [
       "<div>\n",
       "<style scoped>\n",
       "    .dataframe tbody tr th:only-of-type {\n",
       "        vertical-align: middle;\n",
       "    }\n",
       "\n",
       "    .dataframe tbody tr th {\n",
       "        vertical-align: top;\n",
       "    }\n",
       "\n",
       "    .dataframe thead th {\n",
       "        text-align: right;\n",
       "    }\n",
       "</style>\n",
       "<table border=\"1\" class=\"dataframe\">\n",
       "  <thead>\n",
       "    <tr style=\"text-align: right;\">\n",
       "      <th></th>\n",
       "      <th>Cliente_ID</th>\n",
       "      <th>Producto_ID</th>\n",
       "      <th>Weekly_demand_Client</th>\n",
       "      <th>Weekly_demand_Client-r-l</th>\n",
       "      <th>Weekly_demand_Client-r-r</th>\n",
       "    </tr>\n",
       "  </thead>\n",
       "  <tbody>\n",
       "    <tr>\n",
       "      <th>0</th>\n",
       "      <td>3967</td>\n",
       "      <td>303</td>\n",
       "      <td>3.0</td>\n",
       "      <td>0.0</td>\n",
       "      <td>NaN</td>\n",
       "    </tr>\n",
       "    <tr>\n",
       "      <th>1</th>\n",
       "      <td>3967</td>\n",
       "      <td>323</td>\n",
       "      <td>2.0</td>\n",
       "      <td>0.0</td>\n",
       "      <td>NaN</td>\n",
       "    </tr>\n",
       "    <tr>\n",
       "      <th>2</th>\n",
       "      <td>2</td>\n",
       "      <td>3</td>\n",
       "      <td>NaN</td>\n",
       "      <td>0.0</td>\n",
       "      <td>0.0</td>\n",
       "    </tr>\n",
       "    <tr>\n",
       "      <th>3</th>\n",
       "      <td>3967</td>\n",
       "      <td>303</td>\n",
       "      <td>NaN</td>\n",
       "      <td>NaN</td>\n",
       "      <td>0.0</td>\n",
       "    </tr>\n",
       "    <tr>\n",
       "      <th>4</th>\n",
       "      <td>3967</td>\n",
       "      <td>323</td>\n",
       "      <td>NaN</td>\n",
       "      <td>NaN</td>\n",
       "      <td>0.0</td>\n",
       "    </tr>\n",
       "  </tbody>\n",
       "</table>\n",
       "</div>"
      ],
      "text/plain": [
       "   Cliente_ID  Producto_ID  Weekly_demand_Client  Weekly_demand_Client-r-l  \\\n",
       "0        3967          303                   3.0                       0.0   \n",
       "1        3967          323                   2.0                       0.0   \n",
       "2           2            3                   NaN                       0.0   \n",
       "3        3967          303                   NaN                       NaN   \n",
       "4        3967          323                   NaN                       NaN   \n",
       "\n",
       "   Weekly_demand_Client-r-r  \n",
       "0                       NaN  \n",
       "1                       NaN  \n",
       "2                       0.0  \n",
       "3                       0.0  \n",
       "4                       0.0  "
      ]
     },
     "execution_count": 36,
     "metadata": {},
     "output_type": "execute_result"
    }
   ],
   "source": [
    "join3 = join1.merge(join2, how='outer', on=['Producto_ID', 'Cliente_ID', 'Weekly_demand_Client'], suffixes=('-l', '-r'))\n",
    "#join3 = join3.groupby('Producto_ID').sum(min_count=1)\n",
    "join3.head(npartitions=1)"
   ]
  },
  {
   "cell_type": "code",
   "execution_count": null,
   "metadata": {},
   "outputs": [],
   "source": []
  },
  {
   "cell_type": "code",
   "execution_count": 125,
   "metadata": {},
   "outputs": [
    {
     "data": {
      "text/html": [
       "<div><strong>Dask DataFrame Structure:</strong></div>\n",
       "<div>\n",
       "<style scoped>\n",
       "    .dataframe tbody tr th:only-of-type {\n",
       "        vertical-align: middle;\n",
       "    }\n",
       "\n",
       "    .dataframe tbody tr th {\n",
       "        vertical-align: top;\n",
       "    }\n",
       "\n",
       "    .dataframe thead th {\n",
       "        text-align: right;\n",
       "    }\n",
       "</style>\n",
       "<table border=\"1\" class=\"dataframe\">\n",
       "  <thead>\n",
       "    <tr style=\"text-align: right;\">\n",
       "      <th></th>\n",
       "      <th>Semana-l</th>\n",
       "      <th>Agencia_ID</th>\n",
       "      <th>Canal_ID-l</th>\n",
       "      <th>Ruta_SAK-l</th>\n",
       "      <th>Cliente_ID</th>\n",
       "      <th>Producto_ID</th>\n",
       "      <th>Venta_uni_hoy-l</th>\n",
       "      <th>Venta_hoy-l</th>\n",
       "      <th>Dev_uni_proxima-l</th>\n",
       "      <th>Dev_proxima-l</th>\n",
       "      <th>Demanda_uni_equil-l</th>\n",
       "      <th>Semana-r</th>\n",
       "      <th>Canal_ID-r</th>\n",
       "      <th>Ruta_SAK-r</th>\n",
       "      <th>Venta_uni_hoy-r</th>\n",
       "      <th>Venta_hoy-r</th>\n",
       "      <th>Dev_uni_proxima-r</th>\n",
       "      <th>Dev_proxima-r</th>\n",
       "      <th>Demanda_uni_equil-r</th>\n",
       "    </tr>\n",
       "    <tr>\n",
       "      <th>npartitions=50</th>\n",
       "      <th></th>\n",
       "      <th></th>\n",
       "      <th></th>\n",
       "      <th></th>\n",
       "      <th></th>\n",
       "      <th></th>\n",
       "      <th></th>\n",
       "      <th></th>\n",
       "      <th></th>\n",
       "      <th></th>\n",
       "      <th></th>\n",
       "      <th></th>\n",
       "      <th></th>\n",
       "      <th></th>\n",
       "      <th></th>\n",
       "      <th></th>\n",
       "      <th></th>\n",
       "      <th></th>\n",
       "      <th></th>\n",
       "    </tr>\n",
       "  </thead>\n",
       "  <tbody>\n",
       "    <tr>\n",
       "      <th></th>\n",
       "      <td>int64</td>\n",
       "      <td>int64</td>\n",
       "      <td>int64</td>\n",
       "      <td>int64</td>\n",
       "      <td>int64</td>\n",
       "      <td>int64</td>\n",
       "      <td>int64</td>\n",
       "      <td>float64</td>\n",
       "      <td>int64</td>\n",
       "      <td>float64</td>\n",
       "      <td>int64</td>\n",
       "      <td>int64</td>\n",
       "      <td>int64</td>\n",
       "      <td>int64</td>\n",
       "      <td>int64</td>\n",
       "      <td>float64</td>\n",
       "      <td>int64</td>\n",
       "      <td>float64</td>\n",
       "      <td>int64</td>\n",
       "    </tr>\n",
       "    <tr>\n",
       "      <th></th>\n",
       "      <td>...</td>\n",
       "      <td>...</td>\n",
       "      <td>...</td>\n",
       "      <td>...</td>\n",
       "      <td>...</td>\n",
       "      <td>...</td>\n",
       "      <td>...</td>\n",
       "      <td>...</td>\n",
       "      <td>...</td>\n",
       "      <td>...</td>\n",
       "      <td>...</td>\n",
       "      <td>...</td>\n",
       "      <td>...</td>\n",
       "      <td>...</td>\n",
       "      <td>...</td>\n",
       "      <td>...</td>\n",
       "      <td>...</td>\n",
       "      <td>...</td>\n",
       "      <td>...</td>\n",
       "    </tr>\n",
       "    <tr>\n",
       "      <th>...</th>\n",
       "      <td>...</td>\n",
       "      <td>...</td>\n",
       "      <td>...</td>\n",
       "      <td>...</td>\n",
       "      <td>...</td>\n",
       "      <td>...</td>\n",
       "      <td>...</td>\n",
       "      <td>...</td>\n",
       "      <td>...</td>\n",
       "      <td>...</td>\n",
       "      <td>...</td>\n",
       "      <td>...</td>\n",
       "      <td>...</td>\n",
       "      <td>...</td>\n",
       "      <td>...</td>\n",
       "      <td>...</td>\n",
       "      <td>...</td>\n",
       "      <td>...</td>\n",
       "      <td>...</td>\n",
       "    </tr>\n",
       "    <tr>\n",
       "      <th></th>\n",
       "      <td>...</td>\n",
       "      <td>...</td>\n",
       "      <td>...</td>\n",
       "      <td>...</td>\n",
       "      <td>...</td>\n",
       "      <td>...</td>\n",
       "      <td>...</td>\n",
       "      <td>...</td>\n",
       "      <td>...</td>\n",
       "      <td>...</td>\n",
       "      <td>...</td>\n",
       "      <td>...</td>\n",
       "      <td>...</td>\n",
       "      <td>...</td>\n",
       "      <td>...</td>\n",
       "      <td>...</td>\n",
       "      <td>...</td>\n",
       "      <td>...</td>\n",
       "      <td>...</td>\n",
       "    </tr>\n",
       "    <tr>\n",
       "      <th></th>\n",
       "      <td>...</td>\n",
       "      <td>...</td>\n",
       "      <td>...</td>\n",
       "      <td>...</td>\n",
       "      <td>...</td>\n",
       "      <td>...</td>\n",
       "      <td>...</td>\n",
       "      <td>...</td>\n",
       "      <td>...</td>\n",
       "      <td>...</td>\n",
       "      <td>...</td>\n",
       "      <td>...</td>\n",
       "      <td>...</td>\n",
       "      <td>...</td>\n",
       "      <td>...</td>\n",
       "      <td>...</td>\n",
       "      <td>...</td>\n",
       "      <td>...</td>\n",
       "      <td>...</td>\n",
       "    </tr>\n",
       "  </tbody>\n",
       "</table>\n",
       "</div>\n",
       "<div>Dask Name: hash-join, 1054 tasks</div>"
      ],
      "text/plain": [
       "Dask DataFrame Structure:\n",
       "               Semana-l Agencia_ID Canal_ID-l Ruta_SAK-l Cliente_ID Producto_ID Venta_uni_hoy-l Venta_hoy-l Dev_uni_proxima-l Dev_proxima-l Demanda_uni_equil-l Semana-r Canal_ID-r Ruta_SAK-r Venta_uni_hoy-r Venta_hoy-r Dev_uni_proxima-r Dev_proxima-r Demanda_uni_equil-r\n",
       "npartitions=50                                                                                                                                                                                                                                                                \n",
       "                  int64      int64      int64      int64      int64       int64           int64     float64             int64       float64               int64    int64      int64      int64           int64     float64             int64       float64               int64\n",
       "                    ...        ...        ...        ...        ...         ...             ...         ...               ...           ...                 ...      ...        ...        ...             ...         ...               ...           ...                 ...\n",
       "...                 ...        ...        ...        ...        ...         ...             ...         ...               ...           ...                 ...      ...        ...        ...             ...         ...               ...           ...                 ...\n",
       "                    ...        ...        ...        ...        ...         ...             ...         ...               ...           ...                 ...      ...        ...        ...             ...         ...               ...           ...                 ...\n",
       "                    ...        ...        ...        ...        ...         ...             ...         ...               ...           ...                 ...      ...        ...        ...             ...         ...               ...           ...                 ...\n",
       "Dask Name: hash-join, 1054 tasks"
      ]
     },
     "execution_count": 125,
     "metadata": {},
     "output_type": "execute_result"
    }
   ],
   "source": [
    "FULL_Semana_3.merge(FULL_Semana_4, how='right', on=['Agencia_ID', 'Producto_ID', 'Cliente_ID'], suffixes=('-l', '-r'))"
   ]
  },
  {
   "cell_type": "code",
   "execution_count": 22,
   "metadata": {},
   "outputs": [],
   "source": [
    "LIGHT_Semana_3 = FULL_Semana_3[['Agencia_ID', 'Producto_ID', 'Cliente_ID', 'Demanda_uni_equil']]\n",
    "LIGHT_Semana_4 = FULL_Semana_4[['Agencia_ID', 'Producto_ID', 'Cliente_ID', 'Demanda_uni_equil']]\n",
    "LIGHT_Semana_5 = FULL_Semana_5[['Agencia_ID', 'Producto_ID', 'Cliente_ID', 'Demanda_uni_equil']]\n",
    "LIGHT_Semana_6 = FULL_Semana_6[['Agencia_ID', 'Producto_ID', 'Cliente_ID', 'Demanda_uni_equil']]\n",
    "LIGHT_Semana_7 = FULL_Semana_7[['Agencia_ID', 'Producto_ID', 'Cliente_ID', 'Demanda_uni_equil']]\n",
    "LIGHT_Semana_8 = FULL_Semana_8[['Agencia_ID', 'Producto_ID', 'Cliente_ID', 'Demanda_uni_equil']]\n",
    "LIGHT_Semana_9 = FULL_Semana_9[['Agencia_ID', 'Producto_ID', 'Cliente_ID', 'Demanda_uni_equil']]"
   ]
  },
  {
   "cell_type": "code",
   "execution_count": 23,
   "metadata": {},
   "outputs": [
    {
     "data": {
      "text/plain": [
       "\"len(FULL_Semana_4) - len(LIGHT_Semana_4).groupby(['Semana', 'Agencia_ID', 'Producto_ID', 'Cliente_ID'])\\nlen(FULL_Semana_5) - len(LIGHT_Semana_5).groupby(['Semana', 'Agencia_ID', 'Producto_ID', 'Cliente_ID'])\\nlen(FULL_Semana_6) - len(LIGHT_Semana_6).groupby(['Semana', 'Agencia_ID', 'Producto_ID', 'Cliente_ID'])\\nlen(FULL_Semana_7) - len(LIGHT_Semana_7).groupby(['Semana', 'Agencia_ID', 'Producto_ID', 'Cliente_ID'])\\nlen(FULL_Semana_8) - len(LIGHT_Semana_8).groupby(['Semana', 'Agencia_ID', 'Producto_ID', 'Cliente_ID'])\\nlen(FULL_Semana_9) - len(LIGHT_Semana_9).groupby(['Semana', 'Agencia_ID', 'Producto_ID', 'Cliente_ID'])\\n\""
      ]
     },
     "execution_count": 23,
     "metadata": {},
     "output_type": "execute_result"
    }
   ],
   "source": [
    "#len(FULL_Semana_3) - len(LIGHT_Semana_3.groupby(['Semana', 'Agencia_ID', 'Producto_ID', 'Cliente_ID']).count())\n",
    "'''len(FULL_Semana_4) - len(LIGHT_Semana_4).groupby(['Semana', 'Agencia_ID', 'Producto_ID', 'Cliente_ID'])\n",
    "len(FULL_Semana_5) - len(LIGHT_Semana_5).groupby(['Semana', 'Agencia_ID', 'Producto_ID', 'Cliente_ID'])\n",
    "len(FULL_Semana_6) - len(LIGHT_Semana_6).groupby(['Semana', 'Agencia_ID', 'Producto_ID', 'Cliente_ID'])\n",
    "len(FULL_Semana_7) - len(LIGHT_Semana_7).groupby(['Semana', 'Agencia_ID', 'Producto_ID', 'Cliente_ID'])\n",
    "len(FULL_Semana_8) - len(LIGHT_Semana_8).groupby(['Semana', 'Agencia_ID', 'Producto_ID', 'Cliente_ID'])\n",
    "len(FULL_Semana_9) - len(LIGHT_Semana_9).groupby(['Semana', 'Agencia_ID', 'Producto_ID', 'Cliente_ID'])\n",
    "'''"
   ]
  },
  {
   "cell_type": "code",
   "execution_count": 39,
   "metadata": {},
   "outputs": [],
   "source": [
    "LIGHT_client_3 = LIGHT_Semana_3.loc[LIGHT_Semana_3['Cliente_ID'] == 1073788].groupby(['Agencia_ID', 'Cliente_ID', 'Producto_ID'])\n",
    "LIGHT_client_4 = LIGHT_Semana_4.loc[LIGHT_Semana_4['Cliente_ID'] == 1073788].groupby(['Agencia_ID', 'Cliente_ID', 'Producto_ID'])\n",
    "LIGHT_client_5 = LIGHT_Semana_5.loc[LIGHT_Semana_5['Cliente_ID'] == 1073788].groupby(['Agencia_ID', 'Cliente_ID', 'Producto_ID'])['Demanda_uni_equil']\n",
    "LIGHT_client_6 = LIGHT_Semana_6.loc[LIGHT_Semana_6['Cliente_ID'] == 1073788].groupby(['Agencia_ID', 'Cliente_ID', 'Producto_ID'])['Demanda_uni_equil']\n",
    "LIGHT_client_7 = LIGHT_Semana_7.loc[LIGHT_Semana_7['Cliente_ID'] == 1073788].groupby(['Agencia_ID', 'Cliente_ID', 'Producto_ID'])['Demanda_uni_equil']\n",
    "LIGHT_client_8 = LIGHT_Semana_8.loc[LIGHT_Semana_8['Cliente_ID'] == 1073788].groupby(['Agencia_ID', 'Cliente_ID', 'Producto_ID'])['Demanda_uni_equil']\n",
    "LIGHT_client_9 = LIGHT_Semana_9.loc[LIGHT_Semana_9['Cliente_ID'] == 1073788].groupby(['Agencia_ID', 'Cliente_ID', 'Producto_ID'])['Demanda_uni_equil']"
   ]
  },
  {
   "cell_type": "code",
   "execution_count": 26,
   "metadata": {},
   "outputs": [
    {
     "data": {
      "text/html": [
       "<div><strong>Dask DataFrame Structure:</strong></div>\n",
       "<div>\n",
       "<style scoped>\n",
       "    .dataframe tbody tr th:only-of-type {\n",
       "        vertical-align: middle;\n",
       "    }\n",
       "\n",
       "    .dataframe tbody tr th {\n",
       "        vertical-align: top;\n",
       "    }\n",
       "\n",
       "    .dataframe thead th {\n",
       "        text-align: right;\n",
       "    }\n",
       "</style>\n",
       "<table border=\"1\" class=\"dataframe\">\n",
       "  <thead>\n",
       "    <tr style=\"text-align: right;\">\n",
       "      <th></th>\n",
       "      <th>Agencia_ID</th>\n",
       "      <th>Producto_ID</th>\n",
       "      <th>Cliente_ID</th>\n",
       "      <th>Demanda_uni_equil_3</th>\n",
       "      <th>Demanda_uni_equil_4</th>\n",
       "      <th>Demanda_uni_equil-l</th>\n",
       "      <th>Demanda_uni_equil+1</th>\n",
       "      <th>Demanda_uni_equil-l</th>\n",
       "      <th>Demanda_uni_equil+1</th>\n",
       "      <th>Demanda_uni_equil</th>\n",
       "    </tr>\n",
       "    <tr>\n",
       "      <th>npartitions=50</th>\n",
       "      <th></th>\n",
       "      <th></th>\n",
       "      <th></th>\n",
       "      <th></th>\n",
       "      <th></th>\n",
       "      <th></th>\n",
       "      <th></th>\n",
       "      <th></th>\n",
       "      <th></th>\n",
       "      <th></th>\n",
       "    </tr>\n",
       "  </thead>\n",
       "  <tbody>\n",
       "    <tr>\n",
       "      <th></th>\n",
       "      <td>int64</td>\n",
       "      <td>int64</td>\n",
       "      <td>int64</td>\n",
       "      <td>int64</td>\n",
       "      <td>int64</td>\n",
       "      <td>int64</td>\n",
       "      <td>int64</td>\n",
       "      <td>int64</td>\n",
       "      <td>int64</td>\n",
       "      <td>int64</td>\n",
       "    </tr>\n",
       "    <tr>\n",
       "      <th></th>\n",
       "      <td>...</td>\n",
       "      <td>...</td>\n",
       "      <td>...</td>\n",
       "      <td>...</td>\n",
       "      <td>...</td>\n",
       "      <td>...</td>\n",
       "      <td>...</td>\n",
       "      <td>...</td>\n",
       "      <td>...</td>\n",
       "      <td>...</td>\n",
       "    </tr>\n",
       "    <tr>\n",
       "      <th>...</th>\n",
       "      <td>...</td>\n",
       "      <td>...</td>\n",
       "      <td>...</td>\n",
       "      <td>...</td>\n",
       "      <td>...</td>\n",
       "      <td>...</td>\n",
       "      <td>...</td>\n",
       "      <td>...</td>\n",
       "      <td>...</td>\n",
       "      <td>...</td>\n",
       "    </tr>\n",
       "    <tr>\n",
       "      <th></th>\n",
       "      <td>...</td>\n",
       "      <td>...</td>\n",
       "      <td>...</td>\n",
       "      <td>...</td>\n",
       "      <td>...</td>\n",
       "      <td>...</td>\n",
       "      <td>...</td>\n",
       "      <td>...</td>\n",
       "      <td>...</td>\n",
       "      <td>...</td>\n",
       "    </tr>\n",
       "    <tr>\n",
       "      <th></th>\n",
       "      <td>...</td>\n",
       "      <td>...</td>\n",
       "      <td>...</td>\n",
       "      <td>...</td>\n",
       "      <td>...</td>\n",
       "      <td>...</td>\n",
       "      <td>...</td>\n",
       "      <td>...</td>\n",
       "      <td>...</td>\n",
       "      <td>...</td>\n",
       "    </tr>\n",
       "  </tbody>\n",
       "</table>\n",
       "</div>\n",
       "<div>Dask Name: hash-join, 6224 tasks</div>"
      ],
      "text/plain": [
       "Dask DataFrame Structure:\n",
       "               Agencia_ID Producto_ID Cliente_ID Demanda_uni_equil_3 Demanda_uni_equil_4 Demanda_uni_equil-l Demanda_uni_equil+1 Demanda_uni_equil-l Demanda_uni_equil+1 Demanda_uni_equil\n",
       "npartitions=50                                                                                                                                                                            \n",
       "                    int64       int64      int64               int64               int64               int64               int64               int64               int64             int64\n",
       "                      ...         ...        ...                 ...                 ...                 ...                 ...                 ...                 ...               ...\n",
       "...                   ...         ...        ...                 ...                 ...                 ...                 ...                 ...                 ...               ...\n",
       "                      ...         ...        ...                 ...                 ...                 ...                 ...                 ...                 ...               ...\n",
       "                      ...         ...        ...                 ...                 ...                 ...                 ...                 ...                 ...               ...\n",
       "Dask Name: hash-join, 6224 tasks"
      ]
     },
     "execution_count": 26,
     "metadata": {},
     "output_type": "execute_result"
    }
   ],
   "source": [
    "train = LIGHT_client_3.merge(LIGHT_client_4, how='outer', on=['Agencia_ID', 'Producto_ID', 'Cliente_ID'], suffixes=('_3', '_4'))\n",
    "\n",
    "train = train.merge(LIGHT_client_5, how='outer', on=['Agencia_ID', 'Producto_ID', 'Cliente_ID'], suffixes=('-l', '+1'))\n",
    "train = train.merge(LIGHT_client_6, how='outer', on=['Agencia_ID', 'Producto_ID', 'Cliente_ID'], suffixes=('-l', '+1'))\n",
    "train = train.merge(LIGHT_client_7, how='outer', on=['Agencia_ID', 'Producto_ID', 'Cliente_ID'], suffixes=('-l', '+1'))\n",
    "train = train.merge(LIGHT_client_8, how='outer', on=['Agencia_ID', 'Producto_ID', 'Cliente_ID'], suffixes=('-l', '+1'))\n",
    "train = train.merge(LIGHT_client_9, how='outer', on=['Agencia_ID', 'Producto_ID', 'Cliente_ID'], suffixes=('-l', '+1'))\n",
    "\n",
    "train"
   ]
  },
  {
   "cell_type": "code",
   "execution_count": 43,
   "metadata": {},
   "outputs": [],
   "source": [
    "#train = LIGHT_client_3.join(LIGHT_Semana_4)"
   ]
  },
  {
   "cell_type": "code",
   "execution_count": null,
   "metadata": {},
   "outputs": [],
   "source": []
  },
  {
   "cell_type": "code",
   "execution_count": null,
   "metadata": {},
   "outputs": [],
   "source": []
  },
  {
   "cell_type": "markdown",
   "metadata": {},
   "source": [
    "The final model + framework:"
   ]
  },
  {
   "cell_type": "code",
   "execution_count": 10,
   "metadata": {},
   "outputs": [],
   "source": [
    "TRAIN_Semana_3 = FULL_train.loc[FULL_train['Semana'] == 3, ['Agencia_ID', 'Producto_ID', 'Cliente_ID', 'Demanda_uni_equil']]\n",
    "TRAIN_Semana_4 = FULL_train.loc[FULL_train['Semana'] == 4, ['Agencia_ID', 'Producto_ID', 'Cliente_ID', 'Demanda_uni_equil']]\n",
    "TRAIN_Semana_5 = FULL_train.loc[FULL_train['Semana'] == 5, ['Agencia_ID', 'Producto_ID', 'Cliente_ID', 'Demanda_uni_equil']]\n",
    "TRAIN_Semana_6 = FULL_train.loc[FULL_train['Semana'] == 6, ['Agencia_ID', 'Producto_ID', 'Cliente_ID', 'Demanda_uni_equil']]\n",
    "TRAIN_Semana_7 = FULL_train.loc[FULL_train['Semana'] == 7, ['Agencia_ID', 'Producto_ID', 'Cliente_ID', 'Demanda_uni_equil']]\n",
    "TRAIN_Semana_8 = FULL_train.loc[FULL_train['Semana'] == 8, ['Agencia_ID', 'Producto_ID', 'Cliente_ID', 'Demanda_uni_equil']]\n",
    "TRAIN_Semana_9 = FULL_train.loc[FULL_train['Semana'] == 9, ['Agencia_ID', 'Producto_ID', 'Cliente_ID', 'Demanda_uni_equil']]"
   ]
  },
  {
   "cell_type": "code",
   "execution_count": 11,
   "metadata": {},
   "outputs": [
    {
     "data": {
      "text/html": [
       "<div><strong>Dask DataFrame Structure:</strong></div>\n",
       "<div>\n",
       "<style scoped>\n",
       "    .dataframe tbody tr th:only-of-type {\n",
       "        vertical-align: middle;\n",
       "    }\n",
       "\n",
       "    .dataframe tbody tr th {\n",
       "        vertical-align: top;\n",
       "    }\n",
       "\n",
       "    .dataframe thead th {\n",
       "        text-align: right;\n",
       "    }\n",
       "</style>\n",
       "<table border=\"1\" class=\"dataframe\">\n",
       "  <thead>\n",
       "    <tr style=\"text-align: right;\">\n",
       "      <th></th>\n",
       "      <th>Agencia_ID</th>\n",
       "      <th>Producto_ID</th>\n",
       "      <th>Cliente_ID</th>\n",
       "      <th>Demanda_uni_equil</th>\n",
       "    </tr>\n",
       "    <tr>\n",
       "      <th>npartitions=50</th>\n",
       "      <th></th>\n",
       "      <th></th>\n",
       "      <th></th>\n",
       "      <th></th>\n",
       "    </tr>\n",
       "  </thead>\n",
       "  <tbody>\n",
       "    <tr>\n",
       "      <th></th>\n",
       "      <td>int64</td>\n",
       "      <td>int64</td>\n",
       "      <td>int64</td>\n",
       "      <td>int64</td>\n",
       "    </tr>\n",
       "    <tr>\n",
       "      <th></th>\n",
       "      <td>...</td>\n",
       "      <td>...</td>\n",
       "      <td>...</td>\n",
       "      <td>...</td>\n",
       "    </tr>\n",
       "    <tr>\n",
       "      <th>...</th>\n",
       "      <td>...</td>\n",
       "      <td>...</td>\n",
       "      <td>...</td>\n",
       "      <td>...</td>\n",
       "    </tr>\n",
       "    <tr>\n",
       "      <th></th>\n",
       "      <td>...</td>\n",
       "      <td>...</td>\n",
       "      <td>...</td>\n",
       "      <td>...</td>\n",
       "    </tr>\n",
       "    <tr>\n",
       "      <th></th>\n",
       "      <td>...</td>\n",
       "      <td>...</td>\n",
       "      <td>...</td>\n",
       "      <td>...</td>\n",
       "    </tr>\n",
       "  </tbody>\n",
       "</table>\n",
       "</div>\n",
       "<div>Dask Name: loc-series, 300 tasks</div>"
      ],
      "text/plain": [
       "Dask DataFrame Structure:\n",
       "               Agencia_ID Producto_ID Cliente_ID Demanda_uni_equil\n",
       "npartitions=50                                                    \n",
       "                    int64       int64      int64             int64\n",
       "                      ...         ...        ...               ...\n",
       "...                   ...         ...        ...               ...\n",
       "                      ...         ...        ...               ...\n",
       "                      ...         ...        ...               ...\n",
       "Dask Name: loc-series, 300 tasks"
      ]
     },
     "execution_count": 11,
     "metadata": {},
     "output_type": "execute_result"
    }
   ],
   "source": [
    "TRAIN_Semana_3"
   ]
  },
  {
   "cell_type": "code",
   "execution_count": 22,
   "metadata": {},
   "outputs": [],
   "source": [
    "TEST_Semana_10 = FULL_test.loc[FULL_test['Semana'] == 10, ['Agencia_ID', 'Producto_ID', 'Cliente_ID', 'Semana']]\n",
    "TEST_Semana_11 = FULL_test.loc[FULL_test['Semana'] == 11, ['Agencia_ID', 'Producto_ID', 'Cliente_ID', 'Semana']]"
   ]
  },
  {
   "cell_type": "code",
   "execution_count": 13,
   "metadata": {},
   "outputs": [
    {
     "data": {
      "text/html": [
       "<div><strong>Dask DataFrame Structure:</strong></div>\n",
       "<div>\n",
       "<style scoped>\n",
       "    .dataframe tbody tr th:only-of-type {\n",
       "        vertical-align: middle;\n",
       "    }\n",
       "\n",
       "    .dataframe tbody tr th {\n",
       "        vertical-align: top;\n",
       "    }\n",
       "\n",
       "    .dataframe thead th {\n",
       "        text-align: right;\n",
       "    }\n",
       "</style>\n",
       "<table border=\"1\" class=\"dataframe\">\n",
       "  <thead>\n",
       "    <tr style=\"text-align: right;\">\n",
       "      <th></th>\n",
       "      <th>Agencia_ID</th>\n",
       "      <th>Producto_ID</th>\n",
       "      <th>Cliente_ID</th>\n",
       "      <th>Semana</th>\n",
       "    </tr>\n",
       "    <tr>\n",
       "      <th>npartitions=4</th>\n",
       "      <th></th>\n",
       "      <th></th>\n",
       "      <th></th>\n",
       "      <th></th>\n",
       "    </tr>\n",
       "  </thead>\n",
       "  <tbody>\n",
       "    <tr>\n",
       "      <th></th>\n",
       "      <td>int64</td>\n",
       "      <td>int64</td>\n",
       "      <td>int64</td>\n",
       "      <td>int64</td>\n",
       "    </tr>\n",
       "    <tr>\n",
       "      <th></th>\n",
       "      <td>...</td>\n",
       "      <td>...</td>\n",
       "      <td>...</td>\n",
       "      <td>...</td>\n",
       "    </tr>\n",
       "    <tr>\n",
       "      <th></th>\n",
       "      <td>...</td>\n",
       "      <td>...</td>\n",
       "      <td>...</td>\n",
       "      <td>...</td>\n",
       "    </tr>\n",
       "    <tr>\n",
       "      <th></th>\n",
       "      <td>...</td>\n",
       "      <td>...</td>\n",
       "      <td>...</td>\n",
       "      <td>...</td>\n",
       "    </tr>\n",
       "    <tr>\n",
       "      <th></th>\n",
       "      <td>...</td>\n",
       "      <td>...</td>\n",
       "      <td>...</td>\n",
       "      <td>...</td>\n",
       "    </tr>\n",
       "  </tbody>\n",
       "</table>\n",
       "</div>\n",
       "<div>Dask Name: loc-series, 24 tasks</div>"
      ],
      "text/plain": [
       "Dask DataFrame Structure:\n",
       "              Agencia_ID Producto_ID Cliente_ID Semana\n",
       "npartitions=4                                         \n",
       "                   int64       int64      int64  int64\n",
       "                     ...         ...        ...    ...\n",
       "                     ...         ...        ...    ...\n",
       "                     ...         ...        ...    ...\n",
       "                     ...         ...        ...    ...\n",
       "Dask Name: loc-series, 24 tasks"
      ]
     },
     "execution_count": 13,
     "metadata": {},
     "output_type": "execute_result"
    }
   ],
   "source": [
    "TEST_Semana_10 #we shall do merge of the predictions back into original testset basen on these columns"
   ]
  },
  {
   "cell_type": "code",
   "execution_count": 15,
   "metadata": {},
   "outputs": [
    {
     "data": {
      "text/html": [
       "<div><strong>Dask DataFrame Structure:</strong></div>\n",
       "<div>\n",
       "<style scoped>\n",
       "    .dataframe tbody tr th:only-of-type {\n",
       "        vertical-align: middle;\n",
       "    }\n",
       "\n",
       "    .dataframe tbody tr th {\n",
       "        vertical-align: top;\n",
       "    }\n",
       "\n",
       "    .dataframe thead th {\n",
       "        text-align: right;\n",
       "    }\n",
       "</style>\n",
       "<table border=\"1\" class=\"dataframe\">\n",
       "  <thead>\n",
       "    <tr style=\"text-align: right;\">\n",
       "      <th></th>\n",
       "      <th>Agencia_ID</th>\n",
       "      <th>Producto_ID</th>\n",
       "      <th>Cliente_ID</th>\n",
       "      <th>Semana</th>\n",
       "      <th>D_3</th>\n",
       "      <th>D_4</th>\n",
       "      <th>D_5</th>\n",
       "      <th>D_6</th>\n",
       "      <th>D_7</th>\n",
       "      <th>D_8</th>\n",
       "      <th>D_9</th>\n",
       "    </tr>\n",
       "    <tr>\n",
       "      <th>npartitions=50</th>\n",
       "      <th></th>\n",
       "      <th></th>\n",
       "      <th></th>\n",
       "      <th></th>\n",
       "      <th></th>\n",
       "      <th></th>\n",
       "      <th></th>\n",
       "      <th></th>\n",
       "      <th></th>\n",
       "      <th></th>\n",
       "      <th></th>\n",
       "    </tr>\n",
       "  </thead>\n",
       "  <tbody>\n",
       "    <tr>\n",
       "      <th></th>\n",
       "      <td>int64</td>\n",
       "      <td>int64</td>\n",
       "      <td>int64</td>\n",
       "      <td>int64</td>\n",
       "      <td>int64</td>\n",
       "      <td>int64</td>\n",
       "      <td>int64</td>\n",
       "      <td>int64</td>\n",
       "      <td>int64</td>\n",
       "      <td>int64</td>\n",
       "      <td>int64</td>\n",
       "    </tr>\n",
       "    <tr>\n",
       "      <th></th>\n",
       "      <td>...</td>\n",
       "      <td>...</td>\n",
       "      <td>...</td>\n",
       "      <td>...</td>\n",
       "      <td>...</td>\n",
       "      <td>...</td>\n",
       "      <td>...</td>\n",
       "      <td>...</td>\n",
       "      <td>...</td>\n",
       "      <td>...</td>\n",
       "      <td>...</td>\n",
       "    </tr>\n",
       "    <tr>\n",
       "      <th>...</th>\n",
       "      <td>...</td>\n",
       "      <td>...</td>\n",
       "      <td>...</td>\n",
       "      <td>...</td>\n",
       "      <td>...</td>\n",
       "      <td>...</td>\n",
       "      <td>...</td>\n",
       "      <td>...</td>\n",
       "      <td>...</td>\n",
       "      <td>...</td>\n",
       "      <td>...</td>\n",
       "    </tr>\n",
       "    <tr>\n",
       "      <th></th>\n",
       "      <td>...</td>\n",
       "      <td>...</td>\n",
       "      <td>...</td>\n",
       "      <td>...</td>\n",
       "      <td>...</td>\n",
       "      <td>...</td>\n",
       "      <td>...</td>\n",
       "      <td>...</td>\n",
       "      <td>...</td>\n",
       "      <td>...</td>\n",
       "      <td>...</td>\n",
       "    </tr>\n",
       "    <tr>\n",
       "      <th></th>\n",
       "      <td>...</td>\n",
       "      <td>...</td>\n",
       "      <td>...</td>\n",
       "      <td>...</td>\n",
       "      <td>...</td>\n",
       "      <td>...</td>\n",
       "      <td>...</td>\n",
       "      <td>...</td>\n",
       "      <td>...</td>\n",
       "      <td>...</td>\n",
       "      <td>...</td>\n",
       "    </tr>\n",
       "  </tbody>\n",
       "</table>\n",
       "</div>\n",
       "<div>Dask Name: rename, 5668 tasks</div>"
      ],
      "text/plain": [
       "Dask DataFrame Structure:\n",
       "               Agencia_ID Producto_ID Cliente_ID Semana    D_3    D_4    D_5    D_6    D_7    D_8    D_9\n",
       "npartitions=50                                                                                          \n",
       "                    int64       int64      int64  int64  int64  int64  int64  int64  int64  int64  int64\n",
       "                      ...         ...        ...    ...    ...    ...    ...    ...    ...    ...    ...\n",
       "...                   ...         ...        ...    ...    ...    ...    ...    ...    ...    ...    ...\n",
       "                      ...         ...        ...    ...    ...    ...    ...    ...    ...    ...    ...\n",
       "                      ...         ...        ...    ...    ...    ...    ...    ...    ...    ...    ...\n",
       "Dask Name: rename, 5668 tasks"
      ]
     },
     "execution_count": 15,
     "metadata": {},
     "output_type": "execute_result"
    }
   ],
   "source": [
    "PRED_Semana_10 = TEST_Semana_10.merge(TRAIN_Semana_3, how='left', on=['Agencia_ID', 'Producto_ID', 'Cliente_ID'], suffixes=('_1', '+1') )\n",
    "PRED_Semana_10 = PRED_Semana_10.rename(columns={'Demanda_uni_equil': 'D_3'})\n",
    "\n",
    "PRED_Semana_10 = PRED_Semana_10.merge(TRAIN_Semana_4, how='left', on=['Agencia_ID', 'Producto_ID', 'Cliente_ID'], suffixes=('_1', '+1') )\n",
    "PRED_Semana_10 = PRED_Semana_10.rename(columns={'Demanda_uni_equil': 'D_4'})\n",
    "\n",
    "PRED_Semana_10 = PRED_Semana_10.merge(TRAIN_Semana_5, how='left', on=['Agencia_ID', 'Producto_ID', 'Cliente_ID'], suffixes=('_1', '+1') )\n",
    "PRED_Semana_10 = PRED_Semana_10.rename(columns={'Demanda_uni_equil': 'D_5'})\n",
    "\n",
    "PRED_Semana_10 = PRED_Semana_10.merge(TRAIN_Semana_6, how='left', on=['Agencia_ID', 'Producto_ID', 'Cliente_ID'], suffixes=('_1', '+1') )\n",
    "PRED_Semana_10 = PRED_Semana_10.rename(columns={'Demanda_uni_equil': 'D_6'})\n",
    "\n",
    "PRED_Semana_10 = PRED_Semana_10.merge(TRAIN_Semana_7, how='left', on=['Agencia_ID', 'Producto_ID', 'Cliente_ID'], suffixes=('_1', '+1') )\n",
    "PRED_Semana_10 = PRED_Semana_10.rename(columns={'Demanda_uni_equil': 'D_7'})\n",
    "\n",
    "PRED_Semana_10 = PRED_Semana_10.merge(TRAIN_Semana_8, how='left', on=['Agencia_ID', 'Producto_ID', 'Cliente_ID'], suffixes=('_1', '+1') )\n",
    "PRED_Semana_10 = PRED_Semana_10.rename(columns={'Demanda_uni_equil': 'D_8'})\n",
    "\n",
    "PRED_Semana_10 = PRED_Semana_10.merge(TRAIN_Semana_9, how='left', on=['Agencia_ID', 'Producto_ID', 'Cliente_ID'], suffixes=('_1', '+1') )\n",
    "PRED_Semana_10 = PRED_Semana_10.rename(columns={'Demanda_uni_equil': 'D_9'})\n",
    "\n",
    "PRED_Semana_10"
   ]
  },
  {
   "cell_type": "code",
   "execution_count": 16,
   "metadata": {},
   "outputs": [
    {
     "data": {
      "text/html": [
       "<div><strong>Dask DataFrame Structure:</strong></div>\n",
       "<div>\n",
       "<style scoped>\n",
       "    .dataframe tbody tr th:only-of-type {\n",
       "        vertical-align: middle;\n",
       "    }\n",
       "\n",
       "    .dataframe tbody tr th {\n",
       "        vertical-align: top;\n",
       "    }\n",
       "\n",
       "    .dataframe thead th {\n",
       "        text-align: right;\n",
       "    }\n",
       "</style>\n",
       "<table border=\"1\" class=\"dataframe\">\n",
       "  <thead>\n",
       "    <tr style=\"text-align: right;\">\n",
       "      <th></th>\n",
       "      <th>Agencia_ID</th>\n",
       "      <th>Producto_ID</th>\n",
       "      <th>Cliente_ID</th>\n",
       "      <th>Semana</th>\n",
       "      <th>D_3</th>\n",
       "      <th>D_4</th>\n",
       "      <th>D_5</th>\n",
       "      <th>D_6</th>\n",
       "      <th>D_7</th>\n",
       "      <th>D_8</th>\n",
       "      <th>D_9</th>\n",
       "      <th>D_10</th>\n",
       "    </tr>\n",
       "    <tr>\n",
       "      <th>npartitions=50</th>\n",
       "      <th></th>\n",
       "      <th></th>\n",
       "      <th></th>\n",
       "      <th></th>\n",
       "      <th></th>\n",
       "      <th></th>\n",
       "      <th></th>\n",
       "      <th></th>\n",
       "      <th></th>\n",
       "      <th></th>\n",
       "      <th></th>\n",
       "      <th></th>\n",
       "    </tr>\n",
       "  </thead>\n",
       "  <tbody>\n",
       "    <tr>\n",
       "      <th></th>\n",
       "      <td>int64</td>\n",
       "      <td>int64</td>\n",
       "      <td>int64</td>\n",
       "      <td>int64</td>\n",
       "      <td>int64</td>\n",
       "      <td>int64</td>\n",
       "      <td>int64</td>\n",
       "      <td>int64</td>\n",
       "      <td>int64</td>\n",
       "      <td>int64</td>\n",
       "      <td>int64</td>\n",
       "      <td>float64</td>\n",
       "    </tr>\n",
       "    <tr>\n",
       "      <th></th>\n",
       "      <td>...</td>\n",
       "      <td>...</td>\n",
       "      <td>...</td>\n",
       "      <td>...</td>\n",
       "      <td>...</td>\n",
       "      <td>...</td>\n",
       "      <td>...</td>\n",
       "      <td>...</td>\n",
       "      <td>...</td>\n",
       "      <td>...</td>\n",
       "      <td>...</td>\n",
       "      <td>...</td>\n",
       "    </tr>\n",
       "    <tr>\n",
       "      <th>...</th>\n",
       "      <td>...</td>\n",
       "      <td>...</td>\n",
       "      <td>...</td>\n",
       "      <td>...</td>\n",
       "      <td>...</td>\n",
       "      <td>...</td>\n",
       "      <td>...</td>\n",
       "      <td>...</td>\n",
       "      <td>...</td>\n",
       "      <td>...</td>\n",
       "      <td>...</td>\n",
       "      <td>...</td>\n",
       "    </tr>\n",
       "    <tr>\n",
       "      <th></th>\n",
       "      <td>...</td>\n",
       "      <td>...</td>\n",
       "      <td>...</td>\n",
       "      <td>...</td>\n",
       "      <td>...</td>\n",
       "      <td>...</td>\n",
       "      <td>...</td>\n",
       "      <td>...</td>\n",
       "      <td>...</td>\n",
       "      <td>...</td>\n",
       "      <td>...</td>\n",
       "      <td>...</td>\n",
       "    </tr>\n",
       "    <tr>\n",
       "      <th></th>\n",
       "      <td>...</td>\n",
       "      <td>...</td>\n",
       "      <td>...</td>\n",
       "      <td>...</td>\n",
       "      <td>...</td>\n",
       "      <td>...</td>\n",
       "      <td>...</td>\n",
       "      <td>...</td>\n",
       "      <td>...</td>\n",
       "      <td>...</td>\n",
       "      <td>...</td>\n",
       "      <td>...</td>\n",
       "    </tr>\n",
       "  </tbody>\n",
       "</table>\n",
       "</div>\n",
       "<div>Dask Name: predict, 5718 tasks</div>"
      ],
      "text/plain": [
       "Dask DataFrame Structure:\n",
       "               Agencia_ID Producto_ID Cliente_ID Semana    D_3    D_4    D_5    D_6    D_7    D_8    D_9     D_10\n",
       "npartitions=50                                                                                                   \n",
       "                    int64       int64      int64  int64  int64  int64  int64  int64  int64  int64  int64  float64\n",
       "                      ...         ...        ...    ...    ...    ...    ...    ...    ...    ...    ...      ...\n",
       "...                   ...         ...        ...    ...    ...    ...    ...    ...    ...    ...    ...      ...\n",
       "                      ...         ...        ...    ...    ...    ...    ...    ...    ...    ...    ...      ...\n",
       "                      ...         ...        ...    ...    ...    ...    ...    ...    ...    ...    ...      ...\n",
       "Dask Name: predict, 5718 tasks"
      ]
     },
     "execution_count": 16,
     "metadata": {},
     "output_type": "execute_result"
    }
   ],
   "source": [
    "def predict(df, cols):\n",
    "    \n",
    "    #put all the shit into return statement otheriwise it\n",
    "    #doesn't work properly(recursively does each statement several\n",
    "    #times before proceeding to the ext or i dunno some shit)\n",
    "    return df.assign(D_10=df[cols].median(axis=1))\n",
    "\n",
    "\n",
    "cols = ['D_3', 'D_4', 'D_5', 'D_6', 'D_7', 'D_8', 'D_9']\n",
    "PRED_Semana_10_DONE = PRED_Semana_10.map_partitions(predict, cols)\n",
    "PRED_Semana_10_DONE"
   ]
  },
  {
   "cell_type": "code",
   "execution_count": 17,
   "metadata": {
    "collapsed": true,
    "jupyter": {
     "outputs_hidden": true
    }
   },
   "outputs": [
    {
     "data": {
      "text/html": [
       "<div><strong>Dask DataFrame Structure:</strong></div>\n",
       "<div>\n",
       "<style scoped>\n",
       "    .dataframe tbody tr th:only-of-type {\n",
       "        vertical-align: middle;\n",
       "    }\n",
       "\n",
       "    .dataframe tbody tr th {\n",
       "        vertical-align: top;\n",
       "    }\n",
       "\n",
       "    .dataframe thead th {\n",
       "        text-align: right;\n",
       "    }\n",
       "</style>\n",
       "<table border=\"1\" class=\"dataframe\">\n",
       "  <thead>\n",
       "    <tr style=\"text-align: right;\">\n",
       "      <th></th>\n",
       "      <th>Agencia_ID</th>\n",
       "      <th>Producto_ID</th>\n",
       "      <th>Cliente_ID</th>\n",
       "      <th>Semana</th>\n",
       "      <th>D_3</th>\n",
       "      <th>D_4</th>\n",
       "      <th>D_5</th>\n",
       "      <th>D_6</th>\n",
       "      <th>D_7</th>\n",
       "      <th>D_8</th>\n",
       "      <th>D_9</th>\n",
       "      <th>D_10</th>\n",
       "    </tr>\n",
       "    <tr>\n",
       "      <th>npartitions=50</th>\n",
       "      <th></th>\n",
       "      <th></th>\n",
       "      <th></th>\n",
       "      <th></th>\n",
       "      <th></th>\n",
       "      <th></th>\n",
       "      <th></th>\n",
       "      <th></th>\n",
       "      <th></th>\n",
       "      <th></th>\n",
       "      <th></th>\n",
       "      <th></th>\n",
       "    </tr>\n",
       "  </thead>\n",
       "  <tbody>\n",
       "    <tr>\n",
       "      <th></th>\n",
       "      <td>int64</td>\n",
       "      <td>int64</td>\n",
       "      <td>int64</td>\n",
       "      <td>int64</td>\n",
       "      <td>int64</td>\n",
       "      <td>int64</td>\n",
       "      <td>int64</td>\n",
       "      <td>int64</td>\n",
       "      <td>int64</td>\n",
       "      <td>int64</td>\n",
       "      <td>int64</td>\n",
       "      <td>float64</td>\n",
       "    </tr>\n",
       "    <tr>\n",
       "      <th></th>\n",
       "      <td>...</td>\n",
       "      <td>...</td>\n",
       "      <td>...</td>\n",
       "      <td>...</td>\n",
       "      <td>...</td>\n",
       "      <td>...</td>\n",
       "      <td>...</td>\n",
       "      <td>...</td>\n",
       "      <td>...</td>\n",
       "      <td>...</td>\n",
       "      <td>...</td>\n",
       "      <td>...</td>\n",
       "    </tr>\n",
       "    <tr>\n",
       "      <th>...</th>\n",
       "      <td>...</td>\n",
       "      <td>...</td>\n",
       "      <td>...</td>\n",
       "      <td>...</td>\n",
       "      <td>...</td>\n",
       "      <td>...</td>\n",
       "      <td>...</td>\n",
       "      <td>...</td>\n",
       "      <td>...</td>\n",
       "      <td>...</td>\n",
       "      <td>...</td>\n",
       "      <td>...</td>\n",
       "    </tr>\n",
       "    <tr>\n",
       "      <th></th>\n",
       "      <td>...</td>\n",
       "      <td>...</td>\n",
       "      <td>...</td>\n",
       "      <td>...</td>\n",
       "      <td>...</td>\n",
       "      <td>...</td>\n",
       "      <td>...</td>\n",
       "      <td>...</td>\n",
       "      <td>...</td>\n",
       "      <td>...</td>\n",
       "      <td>...</td>\n",
       "      <td>...</td>\n",
       "    </tr>\n",
       "    <tr>\n",
       "      <th></th>\n",
       "      <td>...</td>\n",
       "      <td>...</td>\n",
       "      <td>...</td>\n",
       "      <td>...</td>\n",
       "      <td>...</td>\n",
       "      <td>...</td>\n",
       "      <td>...</td>\n",
       "      <td>...</td>\n",
       "      <td>...</td>\n",
       "      <td>...</td>\n",
       "      <td>...</td>\n",
       "      <td>...</td>\n",
       "    </tr>\n",
       "  </tbody>\n",
       "</table>\n",
       "</div>\n",
       "<div>Dask Name: predict, 5718 tasks</div>"
      ],
      "text/plain": [
       "Dask DataFrame Structure:\n",
       "               Agencia_ID Producto_ID Cliente_ID Semana    D_3    D_4    D_5    D_6    D_7    D_8    D_9     D_10\n",
       "npartitions=50                                                                                                   \n",
       "                    int64       int64      int64  int64  int64  int64  int64  int64  int64  int64  int64  float64\n",
       "                      ...         ...        ...    ...    ...    ...    ...    ...    ...    ...    ...      ...\n",
       "...                   ...         ...        ...    ...    ...    ...    ...    ...    ...    ...    ...      ...\n",
       "                      ...         ...        ...    ...    ...    ...    ...    ...    ...    ...    ...      ...\n",
       "                      ...         ...        ...    ...    ...    ...    ...    ...    ...    ...    ...      ...\n",
       "Dask Name: predict, 5718 tasks"
      ]
     },
     "execution_count": 17,
     "metadata": {},
     "output_type": "execute_result"
    }
   ],
   "source": [
    "from copy import copy\n",
    "\n",
    "PRED_Semana_11 = copy(PRED_Semana_10_DONE)\n",
    "PRED_Semana_11"
   ]
  },
  {
   "cell_type": "code",
   "execution_count": 19,
   "metadata": {},
   "outputs": [
    {
     "data": {
      "text/html": [
       "<div><strong>Dask DataFrame Structure:</strong></div>\n",
       "<div>\n",
       "<style scoped>\n",
       "    .dataframe tbody tr th:only-of-type {\n",
       "        vertical-align: middle;\n",
       "    }\n",
       "\n",
       "    .dataframe tbody tr th {\n",
       "        vertical-align: top;\n",
       "    }\n",
       "\n",
       "    .dataframe thead th {\n",
       "        text-align: right;\n",
       "    }\n",
       "</style>\n",
       "<table border=\"1\" class=\"dataframe\">\n",
       "  <thead>\n",
       "    <tr style=\"text-align: right;\">\n",
       "      <th></th>\n",
       "      <th>Agencia_ID</th>\n",
       "      <th>Producto_ID</th>\n",
       "      <th>Cliente_ID</th>\n",
       "      <th>Semana</th>\n",
       "      <th>D_3</th>\n",
       "      <th>D_4</th>\n",
       "      <th>D_5</th>\n",
       "      <th>D_6</th>\n",
       "      <th>D_7</th>\n",
       "      <th>D_8</th>\n",
       "      <th>D_9</th>\n",
       "      <th>D_10</th>\n",
       "      <th>D_11</th>\n",
       "    </tr>\n",
       "    <tr>\n",
       "      <th>npartitions=50</th>\n",
       "      <th></th>\n",
       "      <th></th>\n",
       "      <th></th>\n",
       "      <th></th>\n",
       "      <th></th>\n",
       "      <th></th>\n",
       "      <th></th>\n",
       "      <th></th>\n",
       "      <th></th>\n",
       "      <th></th>\n",
       "      <th></th>\n",
       "      <th></th>\n",
       "      <th></th>\n",
       "    </tr>\n",
       "  </thead>\n",
       "  <tbody>\n",
       "    <tr>\n",
       "      <th></th>\n",
       "      <td>int64</td>\n",
       "      <td>int64</td>\n",
       "      <td>int64</td>\n",
       "      <td>int64</td>\n",
       "      <td>int64</td>\n",
       "      <td>int64</td>\n",
       "      <td>int64</td>\n",
       "      <td>int64</td>\n",
       "      <td>int64</td>\n",
       "      <td>int64</td>\n",
       "      <td>int64</td>\n",
       "      <td>float64</td>\n",
       "      <td>float64</td>\n",
       "    </tr>\n",
       "    <tr>\n",
       "      <th></th>\n",
       "      <td>...</td>\n",
       "      <td>...</td>\n",
       "      <td>...</td>\n",
       "      <td>...</td>\n",
       "      <td>...</td>\n",
       "      <td>...</td>\n",
       "      <td>...</td>\n",
       "      <td>...</td>\n",
       "      <td>...</td>\n",
       "      <td>...</td>\n",
       "      <td>...</td>\n",
       "      <td>...</td>\n",
       "      <td>...</td>\n",
       "    </tr>\n",
       "    <tr>\n",
       "      <th>...</th>\n",
       "      <td>...</td>\n",
       "      <td>...</td>\n",
       "      <td>...</td>\n",
       "      <td>...</td>\n",
       "      <td>...</td>\n",
       "      <td>...</td>\n",
       "      <td>...</td>\n",
       "      <td>...</td>\n",
       "      <td>...</td>\n",
       "      <td>...</td>\n",
       "      <td>...</td>\n",
       "      <td>...</td>\n",
       "      <td>...</td>\n",
       "    </tr>\n",
       "    <tr>\n",
       "      <th></th>\n",
       "      <td>...</td>\n",
       "      <td>...</td>\n",
       "      <td>...</td>\n",
       "      <td>...</td>\n",
       "      <td>...</td>\n",
       "      <td>...</td>\n",
       "      <td>...</td>\n",
       "      <td>...</td>\n",
       "      <td>...</td>\n",
       "      <td>...</td>\n",
       "      <td>...</td>\n",
       "      <td>...</td>\n",
       "      <td>...</td>\n",
       "    </tr>\n",
       "    <tr>\n",
       "      <th></th>\n",
       "      <td>...</td>\n",
       "      <td>...</td>\n",
       "      <td>...</td>\n",
       "      <td>...</td>\n",
       "      <td>...</td>\n",
       "      <td>...</td>\n",
       "      <td>...</td>\n",
       "      <td>...</td>\n",
       "      <td>...</td>\n",
       "      <td>...</td>\n",
       "      <td>...</td>\n",
       "      <td>...</td>\n",
       "      <td>...</td>\n",
       "    </tr>\n",
       "  </tbody>\n",
       "</table>\n",
       "</div>\n",
       "<div>Dask Name: predict, 5768 tasks</div>"
      ],
      "text/plain": [
       "Dask DataFrame Structure:\n",
       "               Agencia_ID Producto_ID Cliente_ID Semana    D_3    D_4    D_5    D_6    D_7    D_8    D_9     D_10     D_11\n",
       "npartitions=50                                                                                                            \n",
       "                    int64       int64      int64  int64  int64  int64  int64  int64  int64  int64  int64  float64  float64\n",
       "                      ...         ...        ...    ...    ...    ...    ...    ...    ...    ...    ...      ...      ...\n",
       "...                   ...         ...        ...    ...    ...    ...    ...    ...    ...    ...    ...      ...      ...\n",
       "                      ...         ...        ...    ...    ...    ...    ...    ...    ...    ...    ...      ...      ...\n",
       "                      ...         ...        ...    ...    ...    ...    ...    ...    ...    ...    ...      ...      ...\n",
       "Dask Name: predict, 5768 tasks"
      ]
     },
     "execution_count": 19,
     "metadata": {},
     "output_type": "execute_result"
    }
   ],
   "source": [
    "#copy the function from above because need to think how to standardize the output column label later\n",
    "def predict(df, cols):\n",
    "    \n",
    "    #put all the shit into return statement otheriwise it\n",
    "    #doesn't work properly(recursively does each statement several\n",
    "    #times before proceeding to the ext or i dunno some shit)\n",
    "    return df.assign(D_11=df[cols].median(axis=1))\n",
    "\n",
    "cols = ['D_3', 'D_4', 'D_5', 'D_6', 'D_7', 'D_8', 'D_9', 'D_10']\n",
    "PRED_Semana_11_DONE = PRED_Semana_11.map_partitions(predict, cols)\n",
    "PRED_Semana_11_DONE"
   ]
  },
  {
   "cell_type": "code",
   "execution_count": 33,
   "metadata": {},
   "outputs": [
    {
     "data": {
      "text/html": [
       "<div><strong>Dask DataFrame Structure:</strong></div>\n",
       "<div>\n",
       "<style scoped>\n",
       "    .dataframe tbody tr th:only-of-type {\n",
       "        vertical-align: middle;\n",
       "    }\n",
       "\n",
       "    .dataframe tbody tr th {\n",
       "        vertical-align: top;\n",
       "    }\n",
       "\n",
       "    .dataframe thead th {\n",
       "        text-align: right;\n",
       "    }\n",
       "</style>\n",
       "<table border=\"1\" class=\"dataframe\">\n",
       "  <thead>\n",
       "    <tr style=\"text-align: right;\">\n",
       "      <th></th>\n",
       "      <th>id</th>\n",
       "      <th>Semana</th>\n",
       "      <th>Agencia_ID</th>\n",
       "      <th>Canal_ID</th>\n",
       "      <th>Ruta_SAK</th>\n",
       "      <th>Cliente_ID</th>\n",
       "      <th>Producto_ID</th>\n",
       "      <th>Demanda_uni_equil</th>\n",
       "    </tr>\n",
       "    <tr>\n",
       "      <th>npartitions=100</th>\n",
       "      <th></th>\n",
       "      <th></th>\n",
       "      <th></th>\n",
       "      <th></th>\n",
       "      <th></th>\n",
       "      <th></th>\n",
       "      <th></th>\n",
       "      <th></th>\n",
       "    </tr>\n",
       "  </thead>\n",
       "  <tbody>\n",
       "    <tr>\n",
       "      <th></th>\n",
       "      <td>int64</td>\n",
       "      <td>int64</td>\n",
       "      <td>int64</td>\n",
       "      <td>int64</td>\n",
       "      <td>int64</td>\n",
       "      <td>int64</td>\n",
       "      <td>int64</td>\n",
       "      <td>float64</td>\n",
       "    </tr>\n",
       "    <tr>\n",
       "      <th></th>\n",
       "      <td>...</td>\n",
       "      <td>...</td>\n",
       "      <td>...</td>\n",
       "      <td>...</td>\n",
       "      <td>...</td>\n",
       "      <td>...</td>\n",
       "      <td>...</td>\n",
       "      <td>...</td>\n",
       "    </tr>\n",
       "    <tr>\n",
       "      <th>...</th>\n",
       "      <td>...</td>\n",
       "      <td>...</td>\n",
       "      <td>...</td>\n",
       "      <td>...</td>\n",
       "      <td>...</td>\n",
       "      <td>...</td>\n",
       "      <td>...</td>\n",
       "      <td>...</td>\n",
       "    </tr>\n",
       "    <tr>\n",
       "      <th></th>\n",
       "      <td>...</td>\n",
       "      <td>...</td>\n",
       "      <td>...</td>\n",
       "      <td>...</td>\n",
       "      <td>...</td>\n",
       "      <td>...</td>\n",
       "      <td>...</td>\n",
       "      <td>...</td>\n",
       "    </tr>\n",
       "    <tr>\n",
       "      <th></th>\n",
       "      <td>...</td>\n",
       "      <td>...</td>\n",
       "      <td>...</td>\n",
       "      <td>...</td>\n",
       "      <td>...</td>\n",
       "      <td>...</td>\n",
       "      <td>...</td>\n",
       "      <td>...</td>\n",
       "    </tr>\n",
       "  </tbody>\n",
       "</table>\n",
       "</div>\n",
       "<div>Dask Name: hash-join, 6988 tasks</div>"
      ],
      "text/plain": [
       "Dask DataFrame Structure:\n",
       "                    id Semana Agencia_ID Canal_ID Ruta_SAK Cliente_ID Producto_ID Demanda_uni_equil\n",
       "npartitions=100                                                                                    \n",
       "                 int64  int64      int64    int64    int64      int64       int64           float64\n",
       "                   ...    ...        ...      ...      ...        ...         ...               ...\n",
       "...                ...    ...        ...      ...      ...        ...         ...               ...\n",
       "                   ...    ...        ...      ...      ...        ...         ...               ...\n",
       "                   ...    ...        ...      ...      ...        ...         ...               ...\n",
       "Dask Name: hash-join, 6988 tasks"
      ]
     },
     "execution_count": 33,
     "metadata": {},
     "output_type": "execute_result"
    }
   ],
   "source": [
    "CUT_PRED_Semana_10_DONE = PRED_Semana_10_DONE[['Agencia_ID', 'Producto_ID', 'Cliente_ID', 'Semana', 'D_10']]\n",
    "CUT_PRED_Semana_10_DONE = CUT_PRED_Semana_10_DONE.rename(columns={'D_10': 'Demanda_uni_equil'})\n",
    "\n",
    "CUT_PRED_Semana_11_DONE = PRED_Semana_11_DONE[['Agencia_ID', 'Producto_ID', 'Cliente_ID', 'Semana', 'D_11']]\n",
    "CUT_PRED_Semana_11_DONE = CUT_PRED_Semana_11_DONE.rename(columns={'D_11': 'Demanda_uni_equil'})\n",
    "\n",
    "FINAL_CUT_PRED = CUT_PRED_Semana_10_DONE.append(CUT_PRED_Semana_11_DONE)\n",
    "                                              \n",
    "FULL_pred = FULL_test.merge(FINAL_CUT_PRED, how='left', on=['Agencia_ID', 'Producto_ID', 'Cliente_ID', 'Semana'], suffixes=('_1', '+1') )\n",
    "\n",
    "FULL_pred"
   ]
  },
  {
   "cell_type": "code",
   "execution_count": 42,
   "metadata": {},
   "outputs": [
    {
     "data": {
      "text/html": [
       "<div><strong>Dask DataFrame Structure:</strong></div>\n",
       "<div>\n",
       "<style scoped>\n",
       "    .dataframe tbody tr th:only-of-type {\n",
       "        vertical-align: middle;\n",
       "    }\n",
       "\n",
       "    .dataframe tbody tr th {\n",
       "        vertical-align: top;\n",
       "    }\n",
       "\n",
       "    .dataframe thead th {\n",
       "        text-align: right;\n",
       "    }\n",
       "</style>\n",
       "<table border=\"1\" class=\"dataframe\">\n",
       "  <thead>\n",
       "    <tr style=\"text-align: right;\">\n",
       "      <th></th>\n",
       "      <th>id</th>\n",
       "      <th>Demanda_uni_equil</th>\n",
       "    </tr>\n",
       "    <tr>\n",
       "      <th>npartitions=100</th>\n",
       "      <th></th>\n",
       "      <th></th>\n",
       "    </tr>\n",
       "  </thead>\n",
       "  <tbody>\n",
       "    <tr>\n",
       "      <th></th>\n",
       "      <td>int64</td>\n",
       "      <td>float64</td>\n",
       "    </tr>\n",
       "    <tr>\n",
       "      <th></th>\n",
       "      <td>...</td>\n",
       "      <td>...</td>\n",
       "    </tr>\n",
       "    <tr>\n",
       "      <th>...</th>\n",
       "      <td>...</td>\n",
       "      <td>...</td>\n",
       "    </tr>\n",
       "    <tr>\n",
       "      <th></th>\n",
       "      <td>...</td>\n",
       "      <td>...</td>\n",
       "    </tr>\n",
       "    <tr>\n",
       "      <th></th>\n",
       "      <td>...</td>\n",
       "      <td>...</td>\n",
       "    </tr>\n",
       "  </tbody>\n",
       "</table>\n",
       "</div>\n",
       "<div>Dask Name: getitem, 7088 tasks</div>"
      ],
      "text/plain": [
       "Dask DataFrame Structure:\n",
       "                    id Demanda_uni_equil\n",
       "npartitions=100                         \n",
       "                 int64           float64\n",
       "                   ...               ...\n",
       "...                ...               ...\n",
       "                   ...               ...\n",
       "                   ...               ...\n",
       "Dask Name: getitem, 7088 tasks"
      ]
     },
     "execution_count": 42,
     "metadata": {},
     "output_type": "execute_result"
    }
   ],
   "source": [
    "FINAL_pred = FULL_pred[['id', 'Demanda_uni_equil']]\n",
    "FINAL_pred"
   ]
  },
  {
   "cell_type": "code",
   "execution_count": 11,
   "metadata": {},
   "outputs": [
    {
     "data": {
      "text/plain": [
       "<dask.config.set at 0x17c75d0d788>"
      ]
     },
     "execution_count": 11,
     "metadata": {},
     "output_type": "execute_result"
    }
   ],
   "source": [
    "#mport dask\n",
    "#dask.config.set(scheduler='threads')\n",
    "\n",
    "#import dask.multiprocessing\n",
    "#dask.config.set(scheduler='processes') "
   ]
  },
  {
   "cell_type": "code",
   "execution_count": null,
   "metadata": {},
   "outputs": [],
   "source": [
    "#PRED_Semana_10_DONE.head(npartitions=1) #invoke the devil\n",
    "#PRED_Semana_10_DONE.to_csv('../#Data/semana_10_*.csv')  "
   ]
  },
  {
   "cell_type": "markdown",
   "metadata": {},
   "source": [
    "This is the it, i can't manage this computation yet(although i've tried different settings from above). \n",
    "But here i've made a framework for seting up pretty much any model to predict the weekly demand for each individual Agencia-Client-Product chain based on individual data from the previous weeks. \n",
    "\n",
    "Computation of each individual row is done via function:predict, which operates on each partition(Pandas DataFrame) of a Dask Dataframe as a callback to .map_partitions, as recommended by Dask documentation"
   ]
  },
  {
   "cell_type": "code",
   "execution_count": null,
   "metadata": {},
   "outputs": [],
   "source": []
  }
 ],
 "metadata": {
  "kernelspec": {
   "display_name": "Python 3",
   "language": "python",
   "name": "python3"
  },
  "language_info": {
   "codemirror_mode": {
    "name": "ipython",
    "version": 3
   },
   "file_extension": ".py",
   "mimetype": "text/x-python",
   "name": "python",
   "nbconvert_exporter": "python",
   "pygments_lexer": "ipython3",
   "version": "3.7.5"
  }
 },
 "nbformat": 4,
 "nbformat_minor": 4
}
