{
 "cells": [
  {
   "cell_type": "markdown",
   "metadata": {},
   "source": [
    "Kaggle challenge: [Grupo Bimbo Inventory Demand](https://www.kaggle.com/c/grupo-bimbo-inventory-demand/data)"
   ]
  },
  {
   "cell_type": "code",
   "execution_count": 1,
   "metadata": {},
   "outputs": [],
   "source": [
    "import numpy as np\n",
    "import pandas as pd\n",
    "from zipfile import ZipFile\n",
    "\n",
    "zip_file = ZipFile('S:\\Kaggles\\#Data\\grupo-bimbo-inventory-demand.zip')\n",
    "dfs = {text_file.filename: pd.read_csv(zip_file.open(text_file.filename), nrows=200000)\n",
    "       for text_file in zip_file.infolist()\n",
    "       if text_file.filename.endswith('.csv')}"
   ]
  },
  {
   "cell_type": "code",
   "execution_count": 2,
   "metadata": {},
   "outputs": [
    {
     "data": {
      "text/plain": [
       "dict_keys(['cliente_tabla.csv', 'sample_submission.csv', 'test.csv', 'train.csv', 'town_state.csv', 'producto_tabla.csv'])"
      ]
     },
     "execution_count": 2,
     "metadata": {},
     "output_type": "execute_result"
    }
   ],
   "source": [
    "dfs.keys()"
   ]
  },
  {
   "cell_type": "markdown",
   "metadata": {},
   "source": [
    "Let's load and summarize weeks one by one, and produce relative distributions. The general idea is to catch fractal patterns of a week\n",
    "\n",
    "UPD: Can't load even single week to summarize it. Change approach.\n",
    "\n",
    "According to [this kernel from Kaggle](https://www.kaggle.com/anokas/exploratory-data-analysis) if we simply calculate and output the most common target value from the dataset, we can score 0.82735 RMSLE. Let's see if we can have more individual approach\n",
    "\n",
    "Try: load chunks and group by Sales Depot ID (Agencia_ID) and Product ID (Producto_ID) and, for example, aggregate stats and compose into weekly stats by Depot or Product (since some products/depots might have outstandingly high return rate compared to target mode)"
   ]
  },
  {
   "cell_type": "code",
   "execution_count": 3,
   "metadata": {},
   "outputs": [
    {
     "data": {
      "text/html": [
       "<div>\n",
       "<style scoped>\n",
       "    .dataframe tbody tr th:only-of-type {\n",
       "        vertical-align: middle;\n",
       "    }\n",
       "\n",
       "    .dataframe tbody tr th {\n",
       "        vertical-align: top;\n",
       "    }\n",
       "\n",
       "    .dataframe thead th {\n",
       "        text-align: right;\n",
       "    }\n",
       "</style>\n",
       "<table border=\"1\" class=\"dataframe\">\n",
       "  <thead>\n",
       "    <tr style=\"text-align: right;\">\n",
       "      <th></th>\n",
       "      <th>Semana</th>\n",
       "      <th>Agencia_ID</th>\n",
       "      <th>Canal_ID</th>\n",
       "      <th>Ruta_SAK</th>\n",
       "      <th>Cliente_ID</th>\n",
       "      <th>Producto_ID</th>\n",
       "      <th>Venta_uni_hoy</th>\n",
       "      <th>Venta_hoy</th>\n",
       "      <th>Dev_uni_proxima</th>\n",
       "      <th>Dev_proxima</th>\n",
       "      <th>Demanda_uni_equil</th>\n",
       "    </tr>\n",
       "  </thead>\n",
       "  <tbody>\n",
       "    <tr>\n",
       "      <th>199995</th>\n",
       "      <td>3</td>\n",
       "      <td>1116</td>\n",
       "      <td>1</td>\n",
       "      <td>1466</td>\n",
       "      <td>2309869</td>\n",
       "      <td>1238</td>\n",
       "      <td>8</td>\n",
       "      <td>78.64</td>\n",
       "      <td>0</td>\n",
       "      <td>0.0</td>\n",
       "      <td>8</td>\n",
       "    </tr>\n",
       "    <tr>\n",
       "      <th>199996</th>\n",
       "      <td>3</td>\n",
       "      <td>1116</td>\n",
       "      <td>1</td>\n",
       "      <td>1466</td>\n",
       "      <td>2309869</td>\n",
       "      <td>1240</td>\n",
       "      <td>8</td>\n",
       "      <td>67.04</td>\n",
       "      <td>0</td>\n",
       "      <td>0.0</td>\n",
       "      <td>8</td>\n",
       "    </tr>\n",
       "    <tr>\n",
       "      <th>199997</th>\n",
       "      <td>3</td>\n",
       "      <td>1116</td>\n",
       "      <td>1</td>\n",
       "      <td>1466</td>\n",
       "      <td>2309869</td>\n",
       "      <td>1242</td>\n",
       "      <td>6</td>\n",
       "      <td>45.84</td>\n",
       "      <td>0</td>\n",
       "      <td>0.0</td>\n",
       "      <td>6</td>\n",
       "    </tr>\n",
       "    <tr>\n",
       "      <th>199998</th>\n",
       "      <td>3</td>\n",
       "      <td>1116</td>\n",
       "      <td>1</td>\n",
       "      <td>1466</td>\n",
       "      <td>2309869</td>\n",
       "      <td>1250</td>\n",
       "      <td>27</td>\n",
       "      <td>206.28</td>\n",
       "      <td>0</td>\n",
       "      <td>0.0</td>\n",
       "      <td>27</td>\n",
       "    </tr>\n",
       "    <tr>\n",
       "      <th>199999</th>\n",
       "      <td>3</td>\n",
       "      <td>1116</td>\n",
       "      <td>1</td>\n",
       "      <td>1466</td>\n",
       "      <td>2309869</td>\n",
       "      <td>1278</td>\n",
       "      <td>13</td>\n",
       "      <td>58.50</td>\n",
       "      <td>0</td>\n",
       "      <td>0.0</td>\n",
       "      <td>13</td>\n",
       "    </tr>\n",
       "  </tbody>\n",
       "</table>\n",
       "</div>"
      ],
      "text/plain": [
       "        Semana  Agencia_ID  Canal_ID  Ruta_SAK  Cliente_ID  Producto_ID  \\\n",
       "199995       3        1116         1      1466     2309869         1238   \n",
       "199996       3        1116         1      1466     2309869         1240   \n",
       "199997       3        1116         1      1466     2309869         1242   \n",
       "199998       3        1116         1      1466     2309869         1250   \n",
       "199999       3        1116         1      1466     2309869         1278   \n",
       "\n",
       "        Venta_uni_hoy  Venta_hoy  Dev_uni_proxima  Dev_proxima  \\\n",
       "199995              8      78.64                0          0.0   \n",
       "199996              8      67.04                0          0.0   \n",
       "199997              6      45.84                0          0.0   \n",
       "199998             27     206.28                0          0.0   \n",
       "199999             13      58.50                0          0.0   \n",
       "\n",
       "        Demanda_uni_equil  \n",
       "199995                  8  \n",
       "199996                  8  \n",
       "199997                  6  \n",
       "199998                 27  \n",
       "199999                 13  "
      ]
     },
     "execution_count": 3,
     "metadata": {},
     "output_type": "execute_result"
    }
   ],
   "source": [
    "dfs['train.csv'].tail()"
   ]
  },
  {
   "cell_type": "code",
   "execution_count": 4,
   "metadata": {},
   "outputs": [],
   "source": [
    "train_1_Agencia = dfs['train.csv'].groupby('Agencia_ID')['Demanda_uni_equil'].mean()"
   ]
  },
  {
   "cell_type": "code",
   "execution_count": 5,
   "metadata": {},
   "outputs": [
    {
     "data": {
      "text/plain": [
       "Agencia_ID\n",
       "1110    14.967682\n",
       "1111     5.968699\n",
       "1112     5.282621\n",
       "1113     7.128844\n",
       "1114    66.457816\n",
       "1116     6.268541\n",
       "Name: Demanda_uni_equil, dtype: float64"
      ]
     },
     "execution_count": 5,
     "metadata": {},
     "output_type": "execute_result"
    }
   ],
   "source": [
    "train_1_Agencia"
   ]
  },
  {
   "cell_type": "markdown",
   "metadata": {},
   "source": [
    "Certainly some depots experience substantially higher demands (lower order return rate/higher sales)"
   ]
  },
  {
   "cell_type": "code",
   "execution_count": 6,
   "metadata": {},
   "outputs": [],
   "source": [
    "train_1_Producto = dfs['train.csv'].groupby('Producto_ID')['Demanda_uni_equil'].mean()"
   ]
  },
  {
   "cell_type": "code",
   "execution_count": 7,
   "metadata": {},
   "outputs": [
    {
     "data": {
      "text/plain": [
       "Producto_ID\n",
       "72         5.669711\n",
       "73         2.240000\n",
       "108      109.333333\n",
       "141        6.200000\n",
       "145       17.877551\n",
       "            ...    \n",
       "49860     15.833333\n",
       "49986      3.090909\n",
       "49988     19.277778\n",
       "49990      4.500000\n",
       "49994      2.444444\n",
       "Name: Demanda_uni_equil, Length: 478, dtype: float64"
      ]
     },
     "execution_count": 7,
     "metadata": {},
     "output_type": "execute_result"
    }
   ],
   "source": [
    "train_1_Producto"
   ]
  },
  {
   "cell_type": "markdown",
   "metadata": {},
   "source": [
    "Same inequality is true for the products"
   ]
  },
  {
   "cell_type": "code",
   "execution_count": 8,
   "metadata": {},
   "outputs": [],
   "source": [
    "train_1_Producto_Agencia = dfs['train.csv'].groupby(['Producto_ID', 'Agencia_ID'])['Demanda_uni_equil'].mean()"
   ]
  },
  {
   "cell_type": "code",
   "execution_count": 9,
   "metadata": {},
   "outputs": [
    {
     "data": {
      "text/plain": [
       "Producto_ID  Agencia_ID\n",
       "72           1111           5.359375\n",
       "             1112           4.481081\n",
       "             1113           7.055556\n",
       "73           1110           9.000000\n",
       "             1111           2.352321\n",
       "                             ...    \n",
       "49990        1111           0.000000\n",
       "             1112           3.000000\n",
       "             1113          12.000000\n",
       "49994        1111           2.714286\n",
       "             1112           1.500000\n",
       "Name: Demanda_uni_equil, Length: 957, dtype: float64"
      ]
     },
     "execution_count": 9,
     "metadata": {},
     "output_type": "execute_result"
    }
   ],
   "source": [
    "train_1_Producto_Agencia"
   ]
  },
  {
   "cell_type": "markdown",
   "metadata": {},
   "source": [
    "Bascialy same product can experince vastly different demands in depending on a depot.\n",
    "\n",
    "Now, lets upload several chunks of data to see if there's much variance thoughout several weeks.\n",
    "\n",
    "UPD: Let's upload tail chunk first for shallow check"
   ]
  },
  {
   "cell_type": "code",
   "execution_count": 10,
   "metadata": {},
   "outputs": [],
   "source": [
    "dfs_tail = {text_file.filename: pd.read_csv(zip_file.open(text_file.filename), nrows=200000)\n",
    "       for text_file in zip_file.infolist()\n",
    "            \n",
    "       if text_file.filename.endswith('.csv')}"
   ]
  },
  {
   "cell_type": "markdown",
   "metadata": {},
   "source": [
    "Keep in mind info from [this comment](https://www.kaggle.com/anokas/exploratory-data-analysis#123109) from Kaggle:"
   ]
  },
  {
   "cell_type": "raw",
   "metadata": {},
   "source": [
    "sum(ventaunihoy):\n",
    "7857282 for Semana 3,\n",
    "8089555 for Semana 4,\n",
    "7823213 for Semana 5,\n",
    "7492604 for Semana 6,\n",
    "7722206 for Semana 7,\n",
    "7675909 for Semana 8,\n",
    "7570285 for Semana 9\n",
    "\n",
    "Looking for abnormal sales per week:\n",
    "\n",
    "abs((dataperweek[,1]-mean(dataperweek[,1])))/sd(dataperweek[,1])\n",
    "\n",
    "gives me\n",
    "\n",
    "0.5534966 1.7223663 0.3820508 1.2816761 0.1262477 0.3592286\n",
    "0.8907613\n",
    "\n",
    "Hence, semana 4 and 6 are more than 1 stdev off the mean in terms of total sales per week.\n",
    "\n",
    "(I used a sample of 10% of the training data for these numbers.)"
   ]
  },
  {
   "cell_type": "markdown",
   "metadata": {},
   "source": [
    "TODO:\n",
    "\n",
    "Make a heatmap agencia-producto and mean demand, for each week, and try to use the same value scale for color coding\n",
    " \n",
    "Also to get idea of range - compute full summary of target for agencia-product-week triads\n",
    " \n",
    "Also check how important the outliers in sales/demand are (i.e. how much money they make to justify serving them)"
   ]
  },
  {
   "cell_type": "markdown",
   "metadata": {},
   "source": [
    "Let's import Dask to get all the data into dataframe and compute week-product-agency statistics (via describe() )"
   ]
  },
  {
   "cell_type": "code",
   "execution_count": 11,
   "metadata": {},
   "outputs": [],
   "source": [
    "import dask.dataframe as dd"
   ]
  },
  {
   "cell_type": "code",
   "execution_count": 12,
   "metadata": {},
   "outputs": [],
   "source": [
    "#zip_file = ZipFile('S:\\Kaggles\\#Data\\grupo-bimbo-inventory-demand.zip')\n",
    "#dfs_dask = pd.read_csv(zip_file.open('train.csv'), nrows=200000)\n",
    "#dfs_dask = dd.read_csv('S:\\Kaggles\\#Data\\grupo-bimbo-inventory-demand.gz', compression='gzip')\n",
    "#either compress file to parquet or decompress and parse as is\n",
    "#train_full = dd.read_csv('S:\\Kaggles\\#Data\\train.csv')\n",
    "FULL_train= dd.read_csv('../#Data/train.csv')"
   ]
  },
  {
   "cell_type": "code",
   "execution_count": 13,
   "metadata": {},
   "outputs": [],
   "source": [
    "FULL_train_Agencia = FULL_train.groupby(['Agencia_ID'])['Demanda_uni_equil'].mean()\n",
    "FULL_train_Producto = FULL_train.groupby(['Producto_ID'])['Demanda_uni_equil'].mean()\n",
    "FULL_train_Producto_Agencia = FULL_train.groupby(['Producto_ID', 'Agencia_ID'])['Demanda_uni_equil'].mean()"
   ]
  },
  {
   "cell_type": "code",
   "execution_count": 14,
   "metadata": {},
   "outputs": [
    {
     "data": {
      "text/plain": [
       "Agencia_ID\n",
       "1110    15.821312\n",
       "1111     6.013929\n",
       "1112     5.473072\n",
       "1113     7.023729\n",
       "1114    70.038228\n",
       "Name: Demanda_uni_equil, dtype: float64"
      ]
     },
     "execution_count": 14,
     "metadata": {},
     "output_type": "execute_result"
    }
   ],
   "source": [
    "FULL_train_Agencia.head(5)"
   ]
  },
  {
   "cell_type": "code",
   "execution_count": 15,
   "metadata": {},
   "outputs": [
    {
     "data": {
      "text/plain": [
       "Producto_ID\n",
       "72      4.896193\n",
       "73      3.193657\n",
       "100     8.814516\n",
       "108    73.500000\n",
       "123    10.941723\n",
       "Name: Demanda_uni_equil, dtype: float64"
      ]
     },
     "execution_count": 15,
     "metadata": {},
     "output_type": "execute_result"
    }
   ],
   "source": [
    "FULL_train_Producto.head(5)"
   ]
  },
  {
   "cell_type": "code",
   "execution_count": 16,
   "metadata": {},
   "outputs": [],
   "source": [
    "FULL_train_Semana = FULL_train.groupby(['Semana'])['Demanda_uni_equil'].mean()"
   ]
  },
  {
   "cell_type": "code",
   "execution_count": 17,
   "metadata": {},
   "outputs": [
    {
     "name": "stderr",
     "output_type": "stream",
     "text": [
      "C:\\Users\\Alexey\\Anaconda3\\lib\\site-packages\\dask\\dataframe\\core.py:5738: UserWarning: Insufficient elements for `head`. 20 elements requested, only 7 elements available. Try passing larger `npartitions` to `head`.\n",
      "  warnings.warn(msg.format(n, len(r)))\n"
     ]
    },
    {
     "data": {
      "text/plain": [
       "Semana\n",
       "3    6.955922\n",
       "4    7.231772\n",
       "5    7.311138\n",
       "6    7.246106\n",
       "7    7.377264\n",
       "8    7.257237\n",
       "9    7.210733\n",
       "Name: Demanda_uni_equil, dtype: float64"
      ]
     },
     "execution_count": 17,
     "metadata": {},
     "output_type": "execute_result"
    }
   ],
   "source": [
    "FULL_train_Semana.head(20)"
   ]
  },
  {
   "cell_type": "markdown",
   "metadata": {},
   "source": [
    "As we can see, the total mean demand is relatively the same throughout the weeks"
   ]
  },
  {
   "cell_type": "code",
   "execution_count": 18,
   "metadata": {},
   "outputs": [
    {
     "data": {
      "text/plain": [
       "count    7.000000\n",
       "mean     7.227167\n",
       "std      0.132104\n",
       "min      6.955922\n",
       "25%      7.221252\n",
       "50%      7.246106\n",
       "75%      7.284188\n",
       "max      7.377264\n",
       "Name: Demanda_uni_equil, dtype: float64"
      ]
     },
     "execution_count": 18,
     "metadata": {},
     "output_type": "execute_result"
    }
   ],
   "source": [
    "FULL_train_Semana.describe().compute()"
   ]
  },
  {
   "cell_type": "markdown",
   "metadata": {},
   "source": [
    "Thus we can use mean or median values on depots and products from the whole dataset, and it'll be relatively representative"
   ]
  },
  {
   "cell_type": "markdown",
   "metadata": {},
   "source": [
    "Now let's build a heatmap for depots-products-demand"
   ]
  },
  {
   "cell_type": "code",
   "execution_count": 19,
   "metadata": {},
   "outputs": [
    {
     "data": {
      "text/plain": [
       "count    7.418046e+07\n",
       "mean     7.224564e+00\n",
       "std      2.177119e+01\n",
       "min      0.000000e+00\n",
       "25%      2.000000e+00\n",
       "50%      4.000000e+00\n",
       "75%      8.000000e+00\n",
       "max      5.000000e+03\n",
       "Name: Demanda_uni_equil, dtype: float64"
      ]
     },
     "execution_count": 19,
     "metadata": {},
     "output_type": "execute_result"
    }
   ],
   "source": [
    "FULL_train['Demanda_uni_equil'].describe().compute()"
   ]
  },
  {
   "cell_type": "markdown",
   "metadata": {},
   "source": [
    "(So std = 3x mean; lol)"
   ]
  },
  {
   "cell_type": "code",
   "execution_count": 20,
   "metadata": {},
   "outputs": [
    {
     "data": {
      "text/plain": [
       "552"
      ]
     },
     "execution_count": 20,
     "metadata": {},
     "output_type": "execute_result"
    }
   ],
   "source": [
    "#Calc the total number of depots\n",
    "FULL_train['Agencia_ID'].unique().count().compute()"
   ]
  },
  {
   "cell_type": "code",
   "execution_count": 21,
   "metadata": {},
   "outputs": [],
   "source": [
    "AGG_train_Producto_Agencia = FULL_train_Producto_Agencia.compute()\n",
    "AGG_train_Agencia = FULL_train_Agencia.compute()\n",
    "AGG_train_Producto = FULL_train_Producto.compute()\n",
    "\n",
    "#FULL_train_pivot = FULL_train.groupby('Agencia_ID')[['Producto_ID', 'Demanda_uni_equil']]\n",
    "#FULL_train_pivot['Producto_ID'] = FULL_train_pivot['Producto_ID'].astype('category')\n",
    "#FULL_train_pivot['Producto_ID'] = FULL_train_pivot['Producto_ID'].cat.as_known()\n",
    "#FULL_train_pivot = FULL_train.pivot_table(index='Agencia_ID', columns='Producto_ID', values='Demanda_uni_equil')\n",
    "#hmap = sns.heatmap(data=FULL_train_Producto_Agencia)\n",
    "\n",
    "#AGG_train_Agencia"
   ]
  },
  {
   "cell_type": "code",
   "execution_count": 22,
   "metadata": {},
   "outputs": [
    {
     "data": {
      "text/html": [
       "<div>\n",
       "<style scoped>\n",
       "    .dataframe tbody tr th:only-of-type {\n",
       "        vertical-align: middle;\n",
       "    }\n",
       "\n",
       "    .dataframe tbody tr th {\n",
       "        vertical-align: top;\n",
       "    }\n",
       "\n",
       "    .dataframe thead th {\n",
       "        text-align: right;\n",
       "    }\n",
       "</style>\n",
       "<table border=\"1\" class=\"dataframe\">\n",
       "  <thead>\n",
       "    <tr style=\"text-align: right;\">\n",
       "      <th></th>\n",
       "      <th>Producto_ID</th>\n",
       "      <th>Agencia_ID</th>\n",
       "      <th>Demanda_uni_equil</th>\n",
       "    </tr>\n",
       "  </thead>\n",
       "  <tbody>\n",
       "    <tr>\n",
       "      <th>47112</th>\n",
       "      <td>36442</td>\n",
       "      <td>2059</td>\n",
       "      <td>4141.00</td>\n",
       "    </tr>\n",
       "    <tr>\n",
       "      <th>688</th>\n",
       "      <td>1167</td>\n",
       "      <td>1160</td>\n",
       "      <td>3612.00</td>\n",
       "    </tr>\n",
       "    <tr>\n",
       "      <th>70186</th>\n",
       "      <td>36988</td>\n",
       "      <td>2030</td>\n",
       "      <td>3438.50</td>\n",
       "    </tr>\n",
       "    <tr>\n",
       "      <th>68517</th>\n",
       "      <td>31319</td>\n",
       "      <td>1535</td>\n",
       "      <td>3413.25</td>\n",
       "    </tr>\n",
       "    <tr>\n",
       "      <th>45394</th>\n",
       "      <td>31669</td>\n",
       "      <td>2059</td>\n",
       "      <td>3400.00</td>\n",
       "    </tr>\n",
       "    <tr>\n",
       "      <th>...</th>\n",
       "      <td>...</td>\n",
       "      <td>...</td>\n",
       "      <td>...</td>\n",
       "    </tr>\n",
       "    <tr>\n",
       "      <th>58613</th>\n",
       "      <td>36005</td>\n",
       "      <td>3212</td>\n",
       "      <td>0.00</td>\n",
       "    </tr>\n",
       "    <tr>\n",
       "      <th>58612</th>\n",
       "      <td>36005</td>\n",
       "      <td>3211</td>\n",
       "      <td>0.00</td>\n",
       "    </tr>\n",
       "    <tr>\n",
       "      <th>58610</th>\n",
       "      <td>36005</td>\n",
       "      <td>2644</td>\n",
       "      <td>0.00</td>\n",
       "    </tr>\n",
       "    <tr>\n",
       "      <th>58609</th>\n",
       "      <td>36005</td>\n",
       "      <td>2263</td>\n",
       "      <td>0.00</td>\n",
       "    </tr>\n",
       "    <tr>\n",
       "      <th>82948</th>\n",
       "      <td>49552</td>\n",
       "      <td>2263</td>\n",
       "      <td>0.00</td>\n",
       "    </tr>\n",
       "  </tbody>\n",
       "</table>\n",
       "<p>82949 rows × 3 columns</p>\n",
       "</div>"
      ],
      "text/plain": [
       "       Producto_ID  Agencia_ID  Demanda_uni_equil\n",
       "47112        36442        2059            4141.00\n",
       "688           1167        1160            3612.00\n",
       "70186        36988        2030            3438.50\n",
       "68517        31319        1535            3413.25\n",
       "45394        31669        2059            3400.00\n",
       "...            ...         ...                ...\n",
       "58613        36005        3212               0.00\n",
       "58612        36005        3211               0.00\n",
       "58610        36005        2644               0.00\n",
       "58609        36005        2263               0.00\n",
       "82948        49552        2263               0.00\n",
       "\n",
       "[82949 rows x 3 columns]"
      ]
     },
     "execution_count": 22,
     "metadata": {},
     "output_type": "execute_result"
    },
    {
     "data": {
      "image/png": "[encoded data removed]",
      "text/plain": [
       "<Figure size 432x288 with 2 Axes>"
      ]
     },
     "metadata": {
      "needs_background": "light"
     },
     "output_type": "display_data"
    }
   ],
   "source": [
    "import matplotlib.pyplot as plt\n",
    "%matplotlib inline\n",
    "import seaborn as sns\n",
    "\n",
    "\n",
    "DF_train_Agencia = pd.DataFrame(AGG_train_Agencia) #.reset_index()\n",
    "\n",
    "\n",
    "#AGG_train_pivot = AGG_train_pivot.pivot(\"Producto_ID\", \"Agencia_ID\", \"Demanda_uni_equil\")\n",
    "#AGG_train_Agencia = AGG_train_Agencia.pivot(\"Semana\", \"Agencia_ID\", \"Demanda_uni_equil\")\n",
    "#hmap = sns.heatmap(data=FULL_train_pivot)\n",
    "#sns.barplot(y=DF_train_Agencia.index, x=DF_train_Agencia['Demanda_uni_equil'])\n",
    "#hmap = sns.heatmap(data=AGG_train_pivot)\n",
    "\n",
    "DF_train_Agencia.sort_values(by='Demanda_uni_equil', ascending=False, inplace=True)\n",
    "#DF_train_Agencia['Demanda_uni_equil'] = np.log(DF_train_Agencia['Demanda_uni_equil'])\n",
    "\n",
    "\n",
    "hmap = sns.heatmap(data=DF_train_Agencia, robust=True)\n",
    "\n",
    "\n",
    "#DF_train_Agencia.describe()\n",
    "\n",
    "AGG_train_pivot = AGG_train_Producto_Agencia.reset_index()\n",
    "AGG_train_pivot.sort_values(by='Demanda_uni_equil', ascending=False, inplace=True)\n",
    "#AGG_train_pivot = AGG_train_pivot.pivot_table(index=\"Producto_ID\", columns=\"Agencia_ID\", values=\"Demanda_uni_equil\", dropna=True)\n",
    "AGG_train_pivot"
   ]
  },
  {
   "cell_type": "code",
   "execution_count": 23,
   "metadata": {},
   "outputs": [
    {
     "data": {
      "image/png": "[encoded data removed]",
      "text/plain": [
       "<Figure size 432x288 with 2 Axes>"
      ]
     },
     "metadata": {
      "needs_background": "light"
     },
     "output_type": "display_data"
    }
   ],
   "source": [
    "DF_train_Producto = pd.DataFrame(AGG_train_Producto) #.reset_index()\n",
    "DF_train_Producto.sort_values(by='Demanda_uni_equil', ascending=False, inplace=True)\n",
    "DF_train_Producto\n",
    "\n",
    "\n",
    "hmap = sns.heatmap(data=DF_train_Producto, robust=True)"
   ]
  },
  {
   "cell_type": "markdown",
   "metadata": {},
   "source": [
    "There are clearly some top performers among the products. Log transform here doesn't help much. What if we separate products into 2 categories and calculate the relative amount of money they make. Also do the same for different depots.\n",
    "\n",
    "Try: cut out low percentiles and look at the distributions; then use k-means to produce meaningful categories of products/depots based on demands they experence; then engineer labels for them and use those labels or their encoding to predict the demand.\n",
    "\n",
    "Think about: how can we estimate how well certain products do in certain depots (maybe just relatively). Maybe consider relative demand in a product in specific depot + absolute demand in a product. \n",
    "\n",
    "Maybe produce for each depot and each product: \n",
    "-relative local demand,\n",
    "-relative global demand, \n",
    "-absolute local demand,\n",
    "-absolute global demand\n",
    "\n",
    "The idea behind local demands is to account for products which are very popular only in some places. Such products may or may not become popular globally, but we'd still like to supply the local demand regardless. Also, if they might become popular, they won't necessarily become popular immediately. For example, if we test some localy popular product in a new depot, it might take some time to decide wether the product is popular in the new place.\n",
    "\n",
    "For now let's use 4 quartiles for labeling"
   ]
  },
  {
   "cell_type": "code",
   "execution_count": 24,
   "metadata": {},
   "outputs": [
    {
     "data": {
      "text/plain": [
       "<matplotlib.axes._subplots.AxesSubplot at 0x21e065bcc48>"
      ]
     },
     "execution_count": 24,
     "metadata": {},
     "output_type": "execute_result"
    },
    {
     "data": {
      "image/png": "[encoded data removed]",
      "text/plain": [
       "<Figure size 432x288 with 1 Axes>"
      ]
     },
     "metadata": {
      "needs_background": "light"
     },
     "output_type": "display_data"
    }
   ],
   "source": [
    "DF_train_Agencia.describe()\n",
    "#plt.figure(figsize=(14,7))\n",
    "sns.violinplot(x='Demanda_uni_equil', data=DF_train_Agencia, inner=\"box\", scale=\"width\", cut=0)"
   ]
  },
  {
   "cell_type": "code",
   "execution_count": 25,
   "metadata": {},
   "outputs": [
    {
     "data": {
      "text/plain": [
       "<matplotlib.axes._subplots.AxesSubplot at 0x21e06a48048>"
      ]
     },
     "execution_count": 25,
     "metadata": {},
     "output_type": "execute_result"
    },
    {
     "data": {
      "image/png": "[encoded data removed]",
      "text/plain": [
       "<Figure size 432x288 with 1 Axes>"
      ]
     },
     "metadata": {
      "needs_background": "light"
     },
     "output_type": "display_data"
    }
   ],
   "source": [
    "DF_train_Producto.describe()\n",
    "#plt.figure(figsize=(14,7))\n",
    "sns.violinplot(x='Demanda_uni_equil', data=DF_train_Producto.dropna(), inner=\"box\", scale=\"width\", cut=0)"
   ]
  },
  {
   "cell_type": "markdown",
   "metadata": {},
   "source": [
    "Cut the top performer outliers and do normal(first, recalt those two dataframes coz they were spoiled by transform)"
   ]
  },
  {
   "cell_type": "code",
   "execution_count": 26,
   "metadata": {},
   "outputs": [
    {
     "data": {
      "text/plain": [
       "<matplotlib.axes._subplots.AxesSubplot at 0x21e076c8ec8>"
      ]
     },
     "execution_count": 26,
     "metadata": {},
     "output_type": "execute_result"
    },
    {
     "data": {
      "image/png": "[encoded data removed]",
      "text/plain": [
       "<Figure size 432x288 with 1 Axes>"
      ]
     },
     "metadata": {
      "needs_background": "light"
     },
     "output_type": "display_data"
    }
   ],
   "source": [
    "DF_train_Agencia_chill = DF_train_Agencia.drop(1160)\n",
    "sns.violinplot(x='Demanda_uni_equil', data=DF_train_Agencia_chill, inner=\"box\", scale=\"count\", cut=0)"
   ]
  },
  {
   "cell_type": "code",
   "execution_count": 27,
   "metadata": {},
   "outputs": [
    {
     "data": {
      "text/plain": [
       "<matplotlib.axes._subplots.AxesSubplot at 0x21e0772f648>"
      ]
     },
     "execution_count": 27,
     "metadata": {},
     "output_type": "execute_result"
    },
    {
     "data": {
      "image/png": "[encoded data removed]",
      "text/plain": [
       "<Figure size 432x288 with 1 Axes>"
      ]
     },
     "metadata": {
      "needs_background": "light"
     },
     "output_type": "display_data"
    }
   ],
   "source": [
    "DF_train_Producto.head(30)\n",
    "top = float(DF_train_Producto.quantile(q=0.97))\n",
    "DF_train_Producto_chill = DF_train_Producto[DF_train_Producto['Demanda_uni_equil'] < top]\n",
    "sns.violinplot(x='Demanda_uni_equil', data=DF_train_Producto_chill, inner=\"box\", scale=\"count\", cut=0)"
   ]
  },
  {
   "cell_type": "code",
   "execution_count": 28,
   "metadata": {},
   "outputs": [
    {
     "data": {
      "text/plain": [
       "<matplotlib.axes._subplots.AxesSubplot at 0x21e077a0f08>"
      ]
     },
     "execution_count": 28,
     "metadata": {},
     "output_type": "execute_result"
    },
    {
     "data": {
      "image/png": "[encoded data removed]",
      "text/plain": [
       "<Figure size 432x288 with 1 Axes>"
      ]
     },
     "metadata": {
      "needs_background": "light"
     },
     "output_type": "display_data"
    }
   ],
   "source": [
    "pre_top = float(DF_train_Producto.quantile(q=0.85))\n",
    "DF_train_Producto_chill_chill = DF_train_Producto[DF_train_Producto['Demanda_uni_equil'] < pre_top]\n",
    "sns.violinplot(x='Demanda_uni_equil', data=DF_train_Producto_chill_chill, inner=\"box\", scale=\"count\", cut=0)"
   ]
  },
  {
   "cell_type": "code",
   "execution_count": 29,
   "metadata": {},
   "outputs": [
    {
     "data": {
      "text/plain": [
       "<matplotlib.axes._subplots.AxesSubplot at 0x21e077f8c08>"
      ]
     },
     "execution_count": 29,
     "metadata": {},
     "output_type": "execute_result"
    },
    {
     "data": {
      "image/png": "[encoded data removed]",
      "text/plain": [
       "<Figure size 432x288 with 1 Axes>"
      ]
     },
     "metadata": {
      "needs_background": "light"
     },
     "output_type": "display_data"
    }
   ],
   "source": [
    "pre_bot = float(DF_train_Producto.quantile(q=0.85))\n",
    "DF_train_Producto_freeze = DF_train_Producto[DF_train_Producto['Demanda_uni_equil'] < pre_bot]\n",
    "sns.violinplot(x='Demanda_uni_equil', data=DF_train_Producto_freeze, inner=\"box\", scale=\"count\", cut=0)"
   ]
  },
  {
   "cell_type": "code",
   "execution_count": 30,
   "metadata": {},
   "outputs": [
    {
     "data": {
      "text/plain": [
       "<matplotlib.axes._subplots.AxesSubplot at 0x21e07850788>"
      ]
     },
     "execution_count": 30,
     "metadata": {},
     "output_type": "execute_result"
    },
    {
     "data": {
      "image/png": "[encoded data removed]",
      "text/plain": [
       "<Figure size 432x288 with 1 Axes>"
      ]
     },
     "metadata": {
      "needs_background": "light"
     },
     "output_type": "display_data"
    }
   ],
   "source": [
    "bot = float(DF_train_Producto.quantile(q=0.63))\n",
    "DF_train_Producto_freeze_freeze = DF_train_Producto[DF_train_Producto['Demanda_uni_equil'] < bot]\n",
    "sns.violinplot(x='Demanda_uni_equil', data=DF_train_Producto_freeze_freeze, inner=\"box\", scale=\"count\", cut=0)"
   ]
  },
  {
   "cell_type": "markdown",
   "metadata": {},
   "source": [
    "draw distributions based on counts and reevaluate those quantiles (and then use k-means coz then you'll see how many labels you roughly have)"
   ]
  },
  {
   "cell_type": "markdown",
   "metadata": {},
   "source": [
    "Or better engineer fresh features aready, but first - find the sum of revenue for all those categries"
   ]
  },
  {
   "cell_type": "code",
   "execution_count": 31,
   "metadata": {},
   "outputs": [],
   "source": [
    "FULL_sum = FULL_train.groupby(['Producto_ID']) #[['Venta_uni_hoy', 'Venta_hoy']]"
   ]
  },
  {
   "cell_type": "code",
   "execution_count": 32,
   "metadata": {},
   "outputs": [],
   "source": [
    "FULL_sum_Producto = FULL_sum['Venta_hoy'].sum().compute()"
   ]
  },
  {
   "cell_type": "code",
   "execution_count": 33,
   "metadata": {},
   "outputs": [],
   "source": [
    "top_3_percent = DF_train_Producto[DF_train_Producto['Demanda_uni_equil'] >= top].index.values.tolist() "
   ]
  },
  {
   "cell_type": "code",
   "execution_count": 34,
   "metadata": {},
   "outputs": [
    {
     "data": {
      "text/plain": [
       "pandas.core.series.Series"
      ]
     },
     "execution_count": 34,
     "metadata": {},
     "output_type": "execute_result"
    }
   ],
   "source": [
    "type(FULL_sum_Producto)"
   ]
  },
  {
   "cell_type": "code",
   "execution_count": 35,
   "metadata": {},
   "outputs": [],
   "source": [
    "top_3_sum_Producto = FULL_sum_Producto[FULL_sum_Producto.index.isin(top_3_percent)]"
   ]
  },
  {
   "cell_type": "code",
   "execution_count": 36,
   "metadata": {},
   "outputs": [
    {
     "data": {
      "text/plain": [
       "0.006381740164615298"
      ]
     },
     "execution_count": 36,
     "metadata": {},
     "output_type": "execute_result"
    }
   ],
   "source": [
    "top_3_sum_Producto.sum() / FULL_sum_Producto.sum()"
   ]
  },
  {
   "cell_type": "code",
   "execution_count": 37,
   "metadata": {},
   "outputs": [],
   "source": [
    "top_37_percent = DF_train_Producto[DF_train_Producto['Demanda_uni_equil'] >= bot].index.values.tolist() "
   ]
  },
  {
   "cell_type": "code",
   "execution_count": 38,
   "metadata": {},
   "outputs": [
    {
     "data": {
      "text/plain": [
       "0.2684110903757708"
      ]
     },
     "execution_count": 38,
     "metadata": {},
     "output_type": "execute_result"
    }
   ],
   "source": [
    "top_37_sum_Producto = FULL_sum_Producto[FULL_sum_Producto.index.isin(top_37_percent)]\n",
    "top_37_sum_Producto.sum() / FULL_sum_Producto.sum()"
   ]
  },
  {
   "cell_type": "markdown",
   "metadata": {},
   "source": [
    "So top 37% of products by demand value (the long tail) provides only 27% of revenue. "
   ]
  },
  {
   "cell_type": "markdown",
   "metadata": {},
   "source": [
    "\n",
    "Now good thing would be to check to partition depots by experienced demand; then engineer the new numeric features, then make and score random forest model, AND ONLY AFTER THAT consider any kind of binning to accomodate some linear model."
   ]
  },
  {
   "cell_type": "code",
   "execution_count": 39,
   "metadata": {},
   "outputs": [
    {
     "data": {
      "text/plain": [
       "<matplotlib.axes._subplots.AxesSubplot at 0x21e078df048>"
      ]
     },
     "execution_count": 39,
     "metadata": {},
     "output_type": "execute_result"
    },
    {
     "data": {
      "image/png": "[encoded data removed]",
      "text/plain": [
       "<Figure size 432x288 with 1 Axes>"
      ]
     },
     "metadata": {
      "needs_background": "light"
     },
     "output_type": "display_data"
    }
   ],
   "source": [
    "top1 = float(DF_train_Agencia.quantile(q=0.99))\n",
    "top2 = float(DF_train_Agencia.quantile(q=0.90))\n",
    "top3 = float(DF_train_Agencia.quantile(q=0.71))\n",
    "#top4 = float(DF_train_Agencia.quantile(q=0.97))\n",
    "DF_train_Agencia_refrigerator = DF_train_Agencia[DF_train_Agencia['Demanda_uni_equil'] < top3]\n",
    "sns.violinplot(x='Demanda_uni_equil', data=DF_train_Agencia_refrigerator, inner=\"box\", scale=\"count\", cut=0)"
   ]
  },
  {
   "cell_type": "markdown",
   "metadata": {},
   "source": [
    "Note: You have to figure out how to cut the plot properly so the shape of the distribution remains ffs"
   ]
  },
  {
   "cell_type": "code",
   "execution_count": 40,
   "metadata": {},
   "outputs": [],
   "source": [
    "FULL_sum_Agencia = FULL_train.groupby(['Agencia_ID'])\n",
    "FULL_sum_Agencia = FULL_sum_Agencia['Venta_hoy'].sum().compute()"
   ]
  },
  {
   "cell_type": "code",
   "execution_count": 41,
   "metadata": {},
   "outputs": [],
   "source": [
    "top_X_percent = DF_train_Agencia[DF_train_Agencia['Demanda_uni_equil'] >= top3].index.values.tolist() \n",
    "top_X_sum_Agencia = FULL_sum_Agencia[FULL_sum_Agencia.index.isin(top_X_percent)]"
   ]
  },
  {
   "cell_type": "code",
   "execution_count": 42,
   "metadata": {},
   "outputs": [
    {
     "data": {
      "text/plain": [
       "0.22583956473001524"
      ]
     },
     "execution_count": 42,
     "metadata": {},
     "output_type": "execute_result"
    }
   ],
   "source": [
    "top_X_sum_Agencia.sum() / FULL_sum_Agencia.sum()"
   ]
  },
  {
   "cell_type": "markdown",
   "metadata": {},
   "source": [
    "So top 29% of depots by demand value (the long tail) provides only 22% of revenue. "
   ]
  },
  {
   "cell_type": "markdown",
   "metadata": {},
   "source": [
    "It turns out those outliers are not that heavy"
   ]
  },
  {
   "cell_type": "markdown",
   "metadata": {},
   "source": [
    "Now, figure out a smart way to compose and join those 4 new numeric (relative/absolute) features to the train set "
   ]
  },
  {
   "cell_type": "markdown",
   "metadata": {},
   "source": [
    "But before that, since there's not much features available in the test set - what if you take mean demand for each product for each depot and use just that for random forest regressor? << shitty idea, new plan ahead"
   ]
  },
  {
   "cell_type": "code",
   "execution_count": 43,
   "metadata": {},
   "outputs": [
    {
     "data": {
      "text/plain": [
       "Producto_ID  Agencia_ID\n",
       "72           1111          5.520701\n",
       "             1112          4.270435\n",
       "             1113          6.926998\n",
       "             1116          6.028628\n",
       "             1117          4.433088\n",
       "Name: Demanda_uni_equil, dtype: float64"
      ]
     },
     "execution_count": 43,
     "metadata": {},
     "output_type": "execute_result"
    }
   ],
   "source": [
    "FULL_train_Producto_Agencia.head()"
   ]
  },
  {
   "cell_type": "code",
   "execution_count": 44,
   "metadata": {},
   "outputs": [
    {
     "data": {
      "text/html": [
       "<div>\n",
       "<style scoped>\n",
       "    .dataframe tbody tr th:only-of-type {\n",
       "        vertical-align: middle;\n",
       "    }\n",
       "\n",
       "    .dataframe tbody tr th {\n",
       "        vertical-align: top;\n",
       "    }\n",
       "\n",
       "    .dataframe thead th {\n",
       "        text-align: right;\n",
       "    }\n",
       "</style>\n",
       "<table border=\"1\" class=\"dataframe\">\n",
       "  <thead>\n",
       "    <tr style=\"text-align: right;\">\n",
       "      <th></th>\n",
       "      <th>Producto_ID</th>\n",
       "      <th>Agencia_ID</th>\n",
       "      <th>Demanda_uni_equil</th>\n",
       "    </tr>\n",
       "  </thead>\n",
       "  <tbody>\n",
       "    <tr>\n",
       "      <th>0</th>\n",
       "      <td>72</td>\n",
       "      <td>1111</td>\n",
       "      <td>5.520701</td>\n",
       "    </tr>\n",
       "    <tr>\n",
       "      <th>1</th>\n",
       "      <td>72</td>\n",
       "      <td>1112</td>\n",
       "      <td>4.270435</td>\n",
       "    </tr>\n",
       "    <tr>\n",
       "      <th>2</th>\n",
       "      <td>72</td>\n",
       "      <td>1113</td>\n",
       "      <td>6.926998</td>\n",
       "    </tr>\n",
       "    <tr>\n",
       "      <th>3</th>\n",
       "      <td>72</td>\n",
       "      <td>1116</td>\n",
       "      <td>6.028628</td>\n",
       "    </tr>\n",
       "    <tr>\n",
       "      <th>4</th>\n",
       "      <td>72</td>\n",
       "      <td>1117</td>\n",
       "      <td>4.433088</td>\n",
       "    </tr>\n",
       "  </tbody>\n",
       "</table>\n",
       "</div>"
      ],
      "text/plain": [
       "   Producto_ID  Agencia_ID  Demanda_uni_equil\n",
       "0           72        1111           5.520701\n",
       "1           72        1112           4.270435\n",
       "2           72        1113           6.926998\n",
       "3           72        1116           6.028628\n",
       "4           72        1117           4.433088"
      ]
     },
     "execution_count": 44,
     "metadata": {},
     "output_type": "execute_result"
    }
   ],
   "source": [
    "READY_FULL_train_Producto_Agencia = FULL_train_Producto_Agencia.reset_index()\n",
    "READY_FULL_train_Producto_Agencia.head()"
   ]
  },
  {
   "cell_type": "code",
   "execution_count": 45,
   "metadata": {},
   "outputs": [
    {
     "data": {
      "text/plain": [
       "'\\nfrom sklearn.ensemble import RandomForestRegressor\\nforest = RandomForestRegressor(n_estimators=100, max_depth=2, random_state=0, n_jobs=-1)\\n'"
      ]
     },
     "execution_count": 45,
     "metadata": {},
     "output_type": "execute_result"
    }
   ],
   "source": [
    "'''\n",
    "from sklearn.ensemble import RandomForestRegressor\n",
    "forest = RandomForestRegressor(n_estimators=100, max_depth=2, random_state=0, n_jobs=-1)\n",
    "'''"
   ]
  },
  {
   "cell_type": "code",
   "execution_count": 46,
   "metadata": {},
   "outputs": [
    {
     "data": {
      "text/plain": [
       "\"\\nX = READY_FULL_train_Producto_Agencia.drop('Demanda_uni_equil', axis=1)\\ny = READY_FULL_train_Producto_Agencia['Demanda_uni_equil']\\n\""
      ]
     },
     "execution_count": 46,
     "metadata": {},
     "output_type": "execute_result"
    }
   ],
   "source": [
    "'''\n",
    "X = READY_FULL_train_Producto_Agencia.drop('Demanda_uni_equil', axis=1)\n",
    "y = READY_FULL_train_Producto_Agencia['Demanda_uni_equil']\n",
    "'''"
   ]
  },
  {
   "cell_type": "code",
   "execution_count": 47,
   "metadata": {},
   "outputs": [],
   "source": [
    "#from sklearn.model_selection import train_test_split\n",
    "#X_train, X_test, y_train, y_test = train_test_split(X, y, test_size=0.25, random_state=42, shuffle=False)"
   ]
  },
  {
   "cell_type": "code",
   "execution_count": 48,
   "metadata": {},
   "outputs": [
    {
     "data": {
      "text/plain": [
       "'X_train = X.iloc[0:10000000]\\n'"
      ]
     },
     "execution_count": 48,
     "metadata": {},
     "output_type": "execute_result"
    }
   ],
   "source": [
    "'''X_train = X.iloc[0:10000000]\n",
    "'''"
   ]
  },
  {
   "cell_type": "code",
   "execution_count": 49,
   "metadata": {},
   "outputs": [
    {
     "data": {
      "text/plain": [
       "'forest.fit(X_train)\\n'"
      ]
     },
     "execution_count": 49,
     "metadata": {},
     "output_type": "execute_result"
    }
   ],
   "source": [
    "'''forest.fit(X_train)\n",
    "'''\n"
   ]
  },
  {
   "cell_type": "markdown",
   "metadata": {},
   "source": [
    "And what if you use 2 stacked models from light dataframes of means of each thing?"
   ]
  },
  {
   "cell_type": "markdown",
   "metadata": {},
   "source": [
    "Let's do stacking right now:"
   ]
  },
  {
   "cell_type": "code",
   "execution_count": 50,
   "metadata": {},
   "outputs": [
    {
     "data": {
      "text/plain": [
       "'\\nforest_Agencia = RandomForestRegressor(n_estimators=100, max_depth=2, random_state=0, n_jobs=-1)\\nforest_Producto = RandomForestRegressor(n_estimators=100, max_depth=2, random_state=0, n_jobs=-1)\\n'"
      ]
     },
     "execution_count": 50,
     "metadata": {},
     "output_type": "execute_result"
    }
   ],
   "source": [
    "'''\n",
    "forest_Agencia = RandomForestRegressor(n_estimators=100, max_depth=2, random_state=0, n_jobs=-1)\n",
    "forest_Producto = RandomForestRegressor(n_estimators=100, max_depth=2, random_state=0, n_jobs=-1)\n",
    "'''"
   ]
  },
  {
   "cell_type": "code",
   "execution_count": 51,
   "metadata": {},
   "outputs": [
    {
     "data": {
      "text/plain": [
       "\"\\nDF_train_Agencia.reset_index(inplace=True)\\n#X = DF_train_Agencia.drop('Demanda_uni_equil', axis=1).to_numpy()\\nX = DF_train_Agencia['Agencia_ID'].to_numpy()\\ny = DF_train_Agencia['Demanda_uni_equil'].to_numpy()\\n\\n\""
      ]
     },
     "execution_count": 51,
     "metadata": {},
     "output_type": "execute_result"
    }
   ],
   "source": [
    "'''\n",
    "DF_train_Agencia.reset_index(inplace=True)\n",
    "#X = DF_train_Agencia.drop('Demanda_uni_equil', axis=1).to_numpy()\n",
    "X = DF_train_Agencia['Agencia_ID'].to_numpy()\n",
    "y = DF_train_Agencia['Demanda_uni_equil'].to_numpy()\n",
    "\n",
    "'''"
   ]
  },
  {
   "cell_type": "code",
   "execution_count": 52,
   "metadata": {},
   "outputs": [],
   "source": [
    "#X.reset_index()\n",
    "#X\n",
    "#DF_train_Agencia"
   ]
  },
  {
   "cell_type": "code",
   "execution_count": 53,
   "metadata": {},
   "outputs": [
    {
     "data": {
      "text/plain": [
       "'X_train, X_test, y_train, y_test = train_test_split(X, y, test_size=0.25, random_state=42, shuffle=False)\\nforest_Agencia.fit(X_train.reshape(-1, 1), y_train)\\nforest_Agencia.score(X_test.reshape(-1, 1), y_test)\\n\\n#DF_train_Producto\\n'"
      ]
     },
     "execution_count": 53,
     "metadata": {},
     "output_type": "execute_result"
    }
   ],
   "source": [
    "'''X_train, X_test, y_train, y_test = train_test_split(X, y, test_size=0.25, random_state=42, shuffle=False)\n",
    "forest_Agencia.fit(X_train.reshape(-1, 1), y_train)\n",
    "forest_Agencia.score(X_test.reshape(-1, 1), y_test)\n",
    "\n",
    "#DF_train_Producto\n",
    "'''"
   ]
  },
  {
   "cell_type": "code",
   "execution_count": 54,
   "metadata": {},
   "outputs": [
    {
     "data": {
      "text/plain": [
       "\"\\nDF_train_Producto.reset_index(inplace=True)\\n#X = DF_train_Agencia.drop('Demanda_uni_equil', axis=1).to_numpy()\\nX = DF_train_Producto['Producto_ID'].to_numpy()\\ny = DF_train_Producto['Demanda_uni_equil'].to_numpy()\\n\""
      ]
     },
     "execution_count": 54,
     "metadata": {},
     "output_type": "execute_result"
    }
   ],
   "source": [
    "'''\n",
    "DF_train_Producto.reset_index(inplace=True)\n",
    "#X = DF_train_Agencia.drop('Demanda_uni_equil', axis=1).to_numpy()\n",
    "X = DF_train_Producto['Producto_ID'].to_numpy()\n",
    "y = DF_train_Producto['Demanda_uni_equil'].to_numpy()\n",
    "'''"
   ]
  },
  {
   "cell_type": "code",
   "execution_count": 55,
   "metadata": {},
   "outputs": [
    {
     "data": {
      "text/plain": [
       "'\\nX_train, X_test, y_train, y_test = train_test_split(X, y, test_size=0.25, random_state=42, shuffle=False)\\nforest_Producto.fit(X_train.reshape(-1, 1), y_train)\\nforest_Producto.score(X_test.reshape(-1, 1), y_test)\\n'"
      ]
     },
     "execution_count": 55,
     "metadata": {},
     "output_type": "execute_result"
    }
   ],
   "source": [
    "'''\n",
    "X_train, X_test, y_train, y_test = train_test_split(X, y, test_size=0.25, random_state=42, shuffle=False)\n",
    "forest_Producto.fit(X_train.reshape(-1, 1), y_train)\n",
    "forest_Producto.score(X_test.reshape(-1, 1), y_test)\n",
    "'''"
   ]
  },
  {
   "cell_type": "code",
   "execution_count": 56,
   "metadata": {},
   "outputs": [],
   "source": [
    "#sns.distplot(y_test)"
   ]
  },
  {
   "cell_type": "code",
   "execution_count": 57,
   "metadata": {},
   "outputs": [],
   "source": [
    "#sns.distplot(forest_Producto.predict(X_test.reshape(-1, 1)))"
   ]
  },
  {
   "cell_type": "raw",
   "metadata": {},
   "source": [
    "First: setup lightgbm and metric for evaluation\n",
    "Second: try the whole raw dataset (minimal necessary preprocess) w/ lightGBM and make it a baseline model/\n",
    "!!!before that partition dataset into each week and run LightGBM with crossvalidation on single week(the most representative one) to get good parameters first. Then can hop onto the whole dataset.\n",
    "Third: try the whole dataset with one number(7 or shit) and make it another baseline model\n",
    "Forth: add relative/absolute statistics for each product; then for each depot; then add global mean/median statistics; then add bins if you want.\n",
    "\n",
    "Используй фичу: среднее(или медиану + размах) за неделю в конкретном дипоте(кстати demand походу на всю неделю берется)"
   ]
  },
  {
   "cell_type": "code",
   "execution_count": 58,
   "metadata": {},
   "outputs": [],
   "source": [
    "FULL_train_Semana = FULL_train.groupby(['Semana'])"
   ]
  },
  {
   "cell_type": "code",
   "execution_count": 59,
   "metadata": {},
   "outputs": [
    {
     "data": {
      "text/plain": [
       "Semana\n",
       "3    6.955922\n",
       "4    7.231772\n",
       "5    7.311138\n",
       "6    7.246106\n",
       "7    7.377264\n",
       "8    7.257237\n",
       "9    7.210733\n",
       "Name: Demanda_uni_equil, dtype: float64"
      ]
     },
     "execution_count": 59,
     "metadata": {},
     "output_type": "execute_result"
    }
   ],
   "source": [
    "#Semana_1 = FULL_train_Semana.loc['3']\n",
    "FULL_train_Semana['Demanda_uni_equil'].mean().compute()"
   ]
  },
  {
   "cell_type": "code",
   "execution_count": 60,
   "metadata": {},
   "outputs": [],
   "source": [
    "FULL_Semana_3 = FULL_train[FULL_train['Semana'] == 3]\n",
    "FULL_Semana_4 = FULL_train[FULL_train['Semana'] == 4]\n",
    "FULL_Semana_5 = FULL_train[FULL_train['Semana'] == 5]\n",
    "FULL_Semana_6 = FULL_train[FULL_train['Semana'] == 6]\n",
    "FULL_Semana_7 = FULL_train[FULL_train['Semana'] == 7]\n",
    "FULL_Semana_8 = FULL_train[FULL_train['Semana'] == 8]\n",
    "FULL_Semana_9 = FULL_train[FULL_train['Semana'] == 9]"
   ]
  },
  {
   "cell_type": "code",
   "execution_count": 61,
   "metadata": {},
   "outputs": [],
   "source": [
    "#FULL_Semana_3.head()"
   ]
  },
  {
   "cell_type": "code",
   "execution_count": 62,
   "metadata": {},
   "outputs": [],
   "source": [
    "#FULL_Semana_3[FULL_Semana_3['Producto_ID'] == 1212].head()"
   ]
  },
  {
   "cell_type": "markdown",
   "metadata": {},
   "source": [
    "So demand is aclculated for each client. But we can aggregate it by product and depot and it'd make sense still; Also, it makes sense to add mean demand for each client(maybe even by product)"
   ]
  },
  {
   "cell_type": "code",
   "execution_count": 63,
   "metadata": {},
   "outputs": [
    {
     "data": {
      "text/plain": [
       "11009593"
      ]
     },
     "execution_count": 63,
     "metadata": {},
     "output_type": "execute_result"
    }
   ],
   "source": [
    "len(FULL_Semana_4)"
   ]
  },
  {
   "cell_type": "markdown",
   "metadata": {},
   "source": [
    "When we gonna make a linear model out of this, check out [transformers for our very skewed distributions](https://scikit-learn.org/stable/auto_examples/preprocessing/plot_map_data_to_normal.html)"
   ]
  },
  {
   "cell_type": "code",
   "execution_count": 64,
   "metadata": {},
   "outputs": [],
   "source": [
    "# A function to calculate Root Mean Squared Logarithmic Error (RMSLE)\n",
    "# https://www.kaggle.com/marknagelberg/caterpillar-tube-pricing/rmsle-function\n",
    "def rmsle(y, y_pred):\n",
    "    assert len(y) == len(y_pred)\n",
    "    terms_to_sum = [(math.log(y_pred[i] + 1) - math.log(y[i] + 1)) ** 2.0 for i,pred in enumerate(y_pred)]\n",
    "    return (sum(terms_to_sum) * (1.0/len(y))) ** 0.5"
   ]
  },
  {
   "cell_type": "markdown",
   "metadata": {},
   "source": [
    "Fuck it, i'll use even more simple solution without ML, which will be scalable, just with aditional features"
   ]
  },
  {
   "cell_type": "raw",
   "metadata": {},
   "source": [
    "Columns available in test:\n",
    "    \n",
    "id (index)\n",
    "Semana\n",
    "Agencia_ID\n",
    "Canal_ID\n",
    "Ruta_SAK\n",
    "Cliente_ID\n",
    "Producto_ID\n",
    "\n",
    "Columns to be present in submission:\n",
    "\n",
    "id(index)\n",
    "Demanda_uni_equil"
   ]
  },
  {
   "cell_type": "code",
   "execution_count": 65,
   "metadata": {},
   "outputs": [],
   "source": [
    "X_train_Semana_4 = FULL_Semana_4[['Agencia_ID', 'Cliente_ID', 'Producto_ID']]\n",
    "#y_train_Semana_4 = FULL_Semana_4['Demanda_uni_equil']"
   ]
  },
  {
   "cell_type": "code",
   "execution_count": 113,
   "metadata": {},
   "outputs": [],
   "source": [
    "X_train_Semana_4 = FULL_Semana_4.drop(columns=['Semana', 'Canal_ID', 'Ruta_SAK',\n",
    "                                               'Venta_uni_hoy', 'Venta_hoy',\n",
    "                                               'Dev_uni_proxima', 'Dev_proxima',\n",
    "                                               'Demanda_uni_equil'])"
   ]
  },
  {
   "cell_type": "code",
   "execution_count": 114,
   "metadata": {},
   "outputs": [
    {
     "data": {
      "text/html": [
       "<div>\n",
       "<style scoped>\n",
       "    .dataframe tbody tr th:only-of-type {\n",
       "        vertical-align: middle;\n",
       "    }\n",
       "\n",
       "    .dataframe tbody tr th {\n",
       "        vertical-align: top;\n",
       "    }\n",
       "\n",
       "    .dataframe thead th {\n",
       "        text-align: right;\n",
       "    }\n",
       "</style>\n",
       "<table border=\"1\" class=\"dataframe\">\n",
       "  <thead>\n",
       "    <tr style=\"text-align: right;\">\n",
       "      <th></th>\n",
       "      <th>Agencia_ID</th>\n",
       "      <th>Cliente_ID</th>\n",
       "      <th>Producto_ID</th>\n",
       "    </tr>\n",
       "  </thead>\n",
       "  <tbody>\n",
       "    <tr>\n",
       "      <th>751933</th>\n",
       "      <td>1110</td>\n",
       "      <td>15766</td>\n",
       "      <td>325</td>\n",
       "    </tr>\n",
       "    <tr>\n",
       "      <th>751934</th>\n",
       "      <td>1110</td>\n",
       "      <td>15766</td>\n",
       "      <td>328</td>\n",
       "    </tr>\n",
       "    <tr>\n",
       "      <th>751935</th>\n",
       "      <td>1110</td>\n",
       "      <td>15766</td>\n",
       "      <td>1212</td>\n",
       "    </tr>\n",
       "    <tr>\n",
       "      <th>751936</th>\n",
       "      <td>1110</td>\n",
       "      <td>15766</td>\n",
       "      <td>1216</td>\n",
       "    </tr>\n",
       "    <tr>\n",
       "      <th>751937</th>\n",
       "      <td>1110</td>\n",
       "      <td>15766</td>\n",
       "      <td>1238</td>\n",
       "    </tr>\n",
       "  </tbody>\n",
       "</table>\n",
       "</div>"
      ],
      "text/plain": [
       "        Agencia_ID  Cliente_ID  Producto_ID\n",
       "751933        1110       15766          325\n",
       "751934        1110       15766          328\n",
       "751935        1110       15766         1212\n",
       "751936        1110       15766         1216\n",
       "751937        1110       15766         1238"
      ]
     },
     "execution_count": 114,
     "metadata": {},
     "output_type": "execute_result"
    }
   ],
   "source": [
    "X_train_Semana_4.head(npartitions=10)"
   ]
  },
  {
   "cell_type": "code",
   "execution_count": 119,
   "metadata": {},
   "outputs": [],
   "source": [
    "X_test_Semana_5 = FULL_Semana_5.drop(columns=['Semana', 'Canal_ID', 'Ruta_SAK',\n",
    "                                               'Venta_uni_hoy', 'Venta_hoy',\n",
    "                                               'Dev_uni_proxima', 'Dev_proxima',\n",
    "                                               'Agencia_ID', 'Demanda_uni_equil'])\n",
    "y_test_Semana_5 = FULL_Semana_5.drop(columns=['Semana', 'Canal_ID', 'Ruta_SAK',\n",
    "                                               'Venta_uni_hoy', 'Venta_hoy',\n",
    "                                               'Dev_uni_proxima', 'Dev_proxima',\n",
    "                                               'Agencia_ID', 'Cliente_ID', 'Producto_ID'])"
   ]
  },
  {
   "cell_type": "code",
   "execution_count": 145,
   "metadata": {},
   "outputs": [
    {
     "data": {
      "text/html": [
       "<div>\n",
       "<style scoped>\n",
       "    .dataframe tbody tr th:only-of-type {\n",
       "        vertical-align: middle;\n",
       "    }\n",
       "\n",
       "    .dataframe tbody tr th {\n",
       "        vertical-align: top;\n",
       "    }\n",
       "\n",
       "    .dataframe thead th {\n",
       "        text-align: right;\n",
       "    }\n",
       "</style>\n",
       "<table border=\"1\" class=\"dataframe\">\n",
       "  <thead>\n",
       "    <tr style=\"text-align: right;\">\n",
       "      <th></th>\n",
       "      <th>Cliente_ID</th>\n",
       "      <th>Producto_ID</th>\n",
       "    </tr>\n",
       "  </thead>\n",
       "  <tbody>\n",
       "    <tr>\n",
       "      <th>1366864</th>\n",
       "      <td>15766</td>\n",
       "      <td>1212</td>\n",
       "    </tr>\n",
       "    <tr>\n",
       "      <th>1366865</th>\n",
       "      <td>15766</td>\n",
       "      <td>1216</td>\n",
       "    </tr>\n",
       "    <tr>\n",
       "      <th>1366866</th>\n",
       "      <td>15766</td>\n",
       "      <td>1220</td>\n",
       "    </tr>\n",
       "    <tr>\n",
       "      <th>1366867</th>\n",
       "      <td>15766</td>\n",
       "      <td>1238</td>\n",
       "    </tr>\n",
       "    <tr>\n",
       "      <th>1366868</th>\n",
       "      <td>15766</td>\n",
       "      <td>1242</td>\n",
       "    </tr>\n",
       "  </tbody>\n",
       "</table>\n",
       "</div>"
      ],
      "text/plain": [
       "         Cliente_ID  Producto_ID\n",
       "1366864       15766         1212\n",
       "1366865       15766         1216\n",
       "1366866       15766         1220\n",
       "1366867       15766         1238\n",
       "1366868       15766         1242"
      ]
     },
     "execution_count": 145,
     "metadata": {},
     "output_type": "execute_result"
    }
   ],
   "source": [
    "X_test_Semana_5.head(npartitions=20)"
   ]
  },
  {
   "cell_type": "code",
   "execution_count": 118,
   "metadata": {},
   "outputs": [
    {
     "data": {
      "text/html": [
       "<div>\n",
       "<style scoped>\n",
       "    .dataframe tbody tr th:only-of-type {\n",
       "        vertical-align: middle;\n",
       "    }\n",
       "\n",
       "    .dataframe tbody tr th {\n",
       "        vertical-align: top;\n",
       "    }\n",
       "\n",
       "    .dataframe thead th {\n",
       "        text-align: right;\n",
       "    }\n",
       "</style>\n",
       "<table border=\"1\" class=\"dataframe\">\n",
       "  <thead>\n",
       "    <tr style=\"text-align: right;\">\n",
       "      <th></th>\n",
       "      <th>Demanda_uni_equil</th>\n",
       "    </tr>\n",
       "  </thead>\n",
       "  <tbody>\n",
       "    <tr>\n",
       "      <th>1366864</th>\n",
       "      <td>5</td>\n",
       "    </tr>\n",
       "    <tr>\n",
       "      <th>1366865</th>\n",
       "      <td>3</td>\n",
       "    </tr>\n",
       "    <tr>\n",
       "      <th>1366866</th>\n",
       "      <td>3</td>\n",
       "    </tr>\n",
       "    <tr>\n",
       "      <th>1366867</th>\n",
       "      <td>1</td>\n",
       "    </tr>\n",
       "    <tr>\n",
       "      <th>1366868</th>\n",
       "      <td>2</td>\n",
       "    </tr>\n",
       "  </tbody>\n",
       "</table>\n",
       "</div>"
      ],
      "text/plain": [
       "         Demanda_uni_equil\n",
       "1366864                  5\n",
       "1366865                  3\n",
       "1366866                  3\n",
       "1366867                  1\n",
       "1366868                  2"
      ]
     },
     "execution_count": 118,
     "metadata": {},
     "output_type": "execute_result"
    }
   ],
   "source": [
    "y_test_Semana_5.head(npartitions=20)"
   ]
  },
  {
   "cell_type": "code",
   "execution_count": 139,
   "metadata": {},
   "outputs": [],
   "source": [
    "# how many existing products an existng client demands:\n",
    "weekly_sum_demand = FULL_Semana_4.groupby(['Cliente_ID', 'Producto_ID'])['Demanda_uni_equil'].sum()"
   ]
  },
  {
   "cell_type": "markdown",
   "metadata": {},
   "source": [
    "For new clients/products we shall reserve the most frequent value of demand fom a given depot (suhc a value is relatively small so not much of a loss, although we coul encode by product type and price once we have it)"
   ]
  },
  {
   "cell_type": "code",
   "execution_count": 140,
   "metadata": {},
   "outputs": [],
   "source": [
    "weekly_sum_demand_frame = weekly_sum_demand.to_frame()"
   ]
  },
  {
   "cell_type": "code",
   "execution_count": 141,
   "metadata": {},
   "outputs": [],
   "source": [
    "weekly_sum_demand_frame = weekly_sum_demand_frame.rename(columns={\"Demanda_uni_equil\": \"Weekly_demand_Client-Product\"})"
   ]
  },
  {
   "cell_type": "code",
   "execution_count": 142,
   "metadata": {},
   "outputs": [
    {
     "data": {
      "text/html": [
       "<div>\n",
       "<style scoped>\n",
       "    .dataframe tbody tr th:only-of-type {\n",
       "        vertical-align: middle;\n",
       "    }\n",
       "\n",
       "    .dataframe tbody tr th {\n",
       "        vertical-align: top;\n",
       "    }\n",
       "\n",
       "    .dataframe thead th {\n",
       "        text-align: right;\n",
       "    }\n",
       "</style>\n",
       "<table border=\"1\" class=\"dataframe\">\n",
       "  <thead>\n",
       "    <tr style=\"text-align: right;\">\n",
       "      <th></th>\n",
       "      <th></th>\n",
       "      <th>Weekly_demand_Client-Product</th>\n",
       "    </tr>\n",
       "    <tr>\n",
       "      <th>Cliente_ID</th>\n",
       "      <th>Producto_ID</th>\n",
       "      <th></th>\n",
       "    </tr>\n",
       "  </thead>\n",
       "  <tbody>\n",
       "    <tr>\n",
       "      <th rowspan=\"5\" valign=\"top\">3967</th>\n",
       "      <th>303</th>\n",
       "      <td>3</td>\n",
       "    </tr>\n",
       "    <tr>\n",
       "      <th>323</th>\n",
       "      <td>2</td>\n",
       "    </tr>\n",
       "    <tr>\n",
       "      <th>325</th>\n",
       "      <td>2</td>\n",
       "    </tr>\n",
       "    <tr>\n",
       "      <th>972</th>\n",
       "      <td>1</td>\n",
       "    </tr>\n",
       "    <tr>\n",
       "      <th>1064</th>\n",
       "      <td>6</td>\n",
       "    </tr>\n",
       "  </tbody>\n",
       "</table>\n",
       "</div>"
      ],
      "text/plain": [
       "                        Weekly_demand_Client-Product\n",
       "Cliente_ID Producto_ID                              \n",
       "3967       303                                     3\n",
       "           323                                     2\n",
       "           325                                     2\n",
       "           972                                     1\n",
       "           1064                                    6"
      ]
     },
     "execution_count": 142,
     "metadata": {},
     "output_type": "execute_result"
    }
   ],
   "source": [
    "weekly_sum_demand_frame.head()"
   ]
  },
  {
   "cell_type": "code",
   "execution_count": 134,
   "metadata": {},
   "outputs": [],
   "source": [
    "# lookup table for weekly demand for existing client and existing product \n",
    "ex_Cli_ex_Prod = weekly_sum_demand_frame"
   ]
  },
  {
   "cell_type": "markdown",
   "metadata": {},
   "source": [
    "get min of each client wekly demand by product"
   ]
  },
  {
   "cell_type": "code",
   "execution_count": 144,
   "metadata": {},
   "outputs": [
    {
     "data": {
      "text/plain": [
       "Cliente_ID\n",
       "26      0\n",
       "60     18\n",
       "65      4\n",
       "101    22\n",
       "105     4\n",
       "Name: Weekly_demand_Client-Product, dtype: int64"
      ]
     },
     "execution_count": 144,
     "metadata": {},
     "output_type": "execute_result"
    }
   ],
   "source": [
    "ex_Cli_new_Pr = weekly_sum_demand_frame.groupby('Cliente_ID')['Weekly_demand_Client-Product'].aggregate('min')\n",
    "#type(default_weekly_demands)\n",
    "#default_weekly_demands.sort_values(by='Cliente_ID', ascending=True, inplace=True)\n",
    "ex_Cli_new_Pr.head()"
   ]
  },
  {
   "cell_type": "markdown",
   "metadata": {},
   "source": [
    "This table is used to set initial demand for new product for each client?"
   ]
  },
  {
   "cell_type": "code",
   "execution_count": 124,
   "metadata": {},
   "outputs": [
    {
     "data": {
      "text/plain": [
       "dask.dataframe.core.DataFrame"
      ]
     },
     "execution_count": 124,
     "metadata": {},
     "output_type": "execute_result"
    }
   ],
   "source": [
    "type(default_weekly_demands)"
   ]
  },
  {
   "cell_type": "code",
   "execution_count": 125,
   "metadata": {},
   "outputs": [],
   "source": [
    "DF_default_weekly_demands = pd.DataFrame(default_weekly_demands.compute())"
   ]
  },
  {
   "cell_type": "code",
   "execution_count": 130,
   "metadata": {},
   "outputs": [
    {
     "data": {
      "text/plain": [
       "Weekly_demand_Client-Product    1.0\n",
       "dtype: float64"
      ]
     },
     "execution_count": 130,
     "metadata": {},
     "output_type": "execute_result"
    }
   ],
   "source": [
    "default_new_product_demand = DF_default_weekly_demands.median()\n",
    "default_new_product_demand"
   ]
  },
  {
   "cell_type": "markdown",
   "metadata": {},
   "source": [
    "This aggregation will be used to define the initial demand for a new client for each product (or aybe not)"
   ]
  },
  {
   "cell_type": "raw",
   "metadata": {},
   "source": [
    "Now, do the predictions this way:\n",
    "        for each next element in X_test:\n",
    "            take Cliente_ID\n",
    "            take Producto_ID\n",
    "            try to find this Cliente_ID in weekly_sum_demand_frame [else write 6 - test mode]\n",
    "                if found:\n",
    "                    try to find this Producto_ID for this Cliente_ID in weekly_sum_demand_frame\n",
    "                        if found:\n",
    "                            use the value\n",
    "                        else:\n",
    "                            use default_weekly_demands for this Cliente_ID\n",
    "                else (i.e. if not found coz it's a new client):\n",
    "                    if new product too, then use default_new_product_new_client_demand\n",
    "                    if old product then use default_new_client_demand"
   ]
  },
  {
   "cell_type": "code",
   "execution_count": 168,
   "metadata": {},
   "outputs": [
    {
     "data": {
      "text/plain": [
       "'\\nn = 0\\nX_test = X_test_Semana_5.iterrows()\\ny_pred = y_pred_Semana_5.iterrows()\\nfor index, row in zip(X_test_Semana_5.iterrows(), y_pred_Semana_5.iterrows()):\\n#for i in range (50):\\n    y_pred_Semana_5.loc[index] = 7\\n    print(index, row)\\n    n += 1\\n    if (n == 50):\\n        break\\n'"
      ]
     },
     "execution_count": 168,
     "metadata": {},
     "output_type": "execute_result"
    }
   ],
   "source": [
    "from copy import copy\n",
    "y_pred_Semana_5 = copy(y_test_Semana_5)\n",
    "   \n",
    "def predict_column(row):\n",
    "    try:\n",
    "        return ex_Cli_ex_Prod[(ex_Cli_ex_Prod['Cliente_ID'] == row['Cliente_ID'])\n",
    "                     & (ex_Cli_ex_Prod['Producto_ID'] == row['Producto_ID'])]\n",
    "    except:\n",
    "        return 7\n",
    "\n",
    "#X_test_Semana_5['pred'] = X_test_Semana_5.apply(predict_column, axis=1, meta=int)\n",
    "#y_pred_Semana_5.apply()\n",
    "\n",
    "'''\n",
    "n = 0\n",
    "X_test = X_test_Semana_5.iterrows()\n",
    "y_pred = y_pred_Semana_5.iterrows()\n",
    "for index, row in zip(X_test_Semana_5.iterrows(), y_pred_Semana_5.iterrows()):\n",
    "#for i in range (50):\n",
    "    y_pred_Semana_5.loc[index] = 7\n",
    "    print(index, row)\n",
    "    n += 1\n",
    "    if (n == 50):\n",
    "        break\n",
    "'''\n"
   ]
  },
  {
   "cell_type": "code",
   "execution_count": 169,
   "metadata": {},
   "outputs": [],
   "source": [
    "#X_test_Semana_5.head(npartitions=20)"
   ]
  },
  {
   "cell_type": "code",
   "execution_count": null,
   "metadata": {},
   "outputs": [],
   "source": []
  },
  {
   "cell_type": "code",
   "execution_count": 86,
   "metadata": {},
   "outputs": [
    {
     "data": {
      "text/html": [
       "<div>\n",
       "<style scoped>\n",
       "    .dataframe tbody tr th:only-of-type {\n",
       "        vertical-align: middle;\n",
       "    }\n",
       "\n",
       "    .dataframe tbody tr th {\n",
       "        vertical-align: top;\n",
       "    }\n",
       "\n",
       "    .dataframe thead th {\n",
       "        text-align: right;\n",
       "    }\n",
       "</style>\n",
       "<table border=\"1\" class=\"dataframe\">\n",
       "  <thead>\n",
       "    <tr style=\"text-align: right;\">\n",
       "      <th></th>\n",
       "      <th>Demanda_uni_equil</th>\n",
       "    </tr>\n",
       "  </thead>\n",
       "  <tbody>\n",
       "    <tr>\n",
       "      <th>0</th>\n",
       "      <td>3.0</td>\n",
       "    </tr>\n",
       "    <tr>\n",
       "      <th>1</th>\n",
       "      <td>10.0</td>\n",
       "    </tr>\n",
       "  </tbody>\n",
       "</table>\n",
       "</div>"
      ],
      "text/plain": [
       "   Demanda_uni_equil\n",
       "0                3.0\n",
       "1               10.0"
      ]
     },
     "execution_count": 86,
     "metadata": {},
     "output_type": "execute_result"
    }
   ],
   "source": [
    "DF_train_Producto[DF_train_Producto['Demanda_uni_equil'] > 1].mode()"
   ]
  },
  {
   "cell_type": "code",
   "execution_count": null,
   "metadata": {},
   "outputs": [],
   "source": []
  },
  {
   "cell_type": "code",
   "execution_count": 70,
   "metadata": {},
   "outputs": [],
   "source": [
    "#X_train_Semana_4_weekly_demand = X_train_Semana_4.merge(weekly_sum_demand_frame.reset_index())"
   ]
  },
  {
   "cell_type": "code",
   "execution_count": 77,
   "metadata": {},
   "outputs": [],
   "source": [
    "# free the space\n",
    "X_train_Semana_4_weekly_demand = 0"
   ]
  },
  {
   "cell_type": "code",
   "execution_count": 78,
   "metadata": {},
   "outputs": [],
   "source": [
    "#len(X_train_Semana_4.index) #11009593"
   ]
  },
  {
   "cell_type": "code",
   "execution_count": 73,
   "metadata": {},
   "outputs": [],
   "source": [
    "#len(X_train_Semana_4_weekly_demand.index) #cannot allocate memory for an array lol"
   ]
  },
  {
   "cell_type": "code",
   "execution_count": 87,
   "metadata": {},
   "outputs": [
    {
     "data": {
      "text/plain": [
       "Producto_ID  Agencia_ID\n",
       "72           1111           5.520701\n",
       "             1112           4.270435\n",
       "             1113           6.926998\n",
       "             1116           6.028628\n",
       "             1117           4.433088\n",
       "                             ...    \n",
       "48578        25759          6.550725\n",
       "48861        25759          5.000000\n",
       "49028        4010           2.440789\n",
       "49443        25759         40.200000\n",
       "49552        2263           0.000000\n",
       "Name: Demanda_uni_equil, Length: 82949, dtype: float64"
      ]
     },
     "execution_count": 87,
     "metadata": {},
     "output_type": "execute_result"
    }
   ],
   "source": [
    "#train_Semana_4.join(weekly_sum_demand)\n",
    "#DF_train_Producto\n",
    "#DF_train_Agencia\n",
    "AGG_train_Producto_Agencia"
   ]
  },
  {
   "cell_type": "code",
   "execution_count": 90,
   "metadata": {},
   "outputs": [
    {
     "data": {
      "text/html": [
       "<div>\n",
       "<style scoped>\n",
       "    .dataframe tbody tr th:only-of-type {\n",
       "        vertical-align: middle;\n",
       "    }\n",
       "\n",
       "    .dataframe tbody tr th {\n",
       "        vertical-align: top;\n",
       "    }\n",
       "\n",
       "    .dataframe thead th {\n",
       "        text-align: right;\n",
       "    }\n",
       "</style>\n",
       "<table border=\"1\" class=\"dataframe\">\n",
       "  <thead>\n",
       "    <tr style=\"text-align: right;\">\n",
       "      <th></th>\n",
       "      <th></th>\n",
       "      <th>Demanda_uni_equil</th>\n",
       "    </tr>\n",
       "    <tr>\n",
       "      <th>Producto_ID</th>\n",
       "      <th>Agencia_ID</th>\n",
       "      <th></th>\n",
       "    </tr>\n",
       "  </thead>\n",
       "  <tbody>\n",
       "    <tr>\n",
       "      <th rowspan=\"5\" valign=\"top\">72</th>\n",
       "      <th>1111</th>\n",
       "      <td>5.520701</td>\n",
       "    </tr>\n",
       "    <tr>\n",
       "      <th>1112</th>\n",
       "      <td>4.270435</td>\n",
       "    </tr>\n",
       "    <tr>\n",
       "      <th>1113</th>\n",
       "      <td>6.926998</td>\n",
       "    </tr>\n",
       "    <tr>\n",
       "      <th>1116</th>\n",
       "      <td>6.028628</td>\n",
       "    </tr>\n",
       "    <tr>\n",
       "      <th>1117</th>\n",
       "      <td>4.433088</td>\n",
       "    </tr>\n",
       "    <tr>\n",
       "      <th>...</th>\n",
       "      <th>...</th>\n",
       "      <td>...</td>\n",
       "    </tr>\n",
       "    <tr>\n",
       "      <th>48578</th>\n",
       "      <th>25759</th>\n",
       "      <td>6.550725</td>\n",
       "    </tr>\n",
       "    <tr>\n",
       "      <th>48861</th>\n",
       "      <th>25759</th>\n",
       "      <td>5.000000</td>\n",
       "    </tr>\n",
       "    <tr>\n",
       "      <th>49028</th>\n",
       "      <th>4010</th>\n",
       "      <td>2.440789</td>\n",
       "    </tr>\n",
       "    <tr>\n",
       "      <th>49443</th>\n",
       "      <th>25759</th>\n",
       "      <td>40.200000</td>\n",
       "    </tr>\n",
       "    <tr>\n",
       "      <th>49552</th>\n",
       "      <th>2263</th>\n",
       "      <td>0.000000</td>\n",
       "    </tr>\n",
       "  </tbody>\n",
       "</table>\n",
       "<p>82949 rows × 1 columns</p>\n",
       "</div>"
      ],
      "text/plain": [
       "                        Demanda_uni_equil\n",
       "Producto_ID Agencia_ID                   \n",
       "72          1111                 5.520701\n",
       "            1112                 4.270435\n",
       "            1113                 6.926998\n",
       "            1116                 6.028628\n",
       "            1117                 4.433088\n",
       "...                                   ...\n",
       "48578       25759                6.550725\n",
       "48861       25759                5.000000\n",
       "49028       4010                 2.440789\n",
       "49443       25759               40.200000\n",
       "49552       2263                 0.000000\n",
       "\n",
       "[82949 rows x 1 columns]"
      ]
     },
     "execution_count": 90,
     "metadata": {},
     "output_type": "execute_result"
    }
   ],
   "source": [
    "df_test = pd.DataFrame(AGG_train_Producto_Agencia)\n",
    "df_test"
   ]
  },
  {
   "cell_type": "code",
   "execution_count": 94,
   "metadata": {},
   "outputs": [
    {
     "data": {
      "text/html": [
       "<div>\n",
       "<style scoped>\n",
       "    .dataframe tbody tr th:only-of-type {\n",
       "        vertical-align: middle;\n",
       "    }\n",
       "\n",
       "    .dataframe tbody tr th {\n",
       "        vertical-align: top;\n",
       "    }\n",
       "\n",
       "    .dataframe thead th {\n",
       "        text-align: right;\n",
       "    }\n",
       "</style>\n",
       "<table border=\"1\" class=\"dataframe\">\n",
       "  <thead>\n",
       "    <tr style=\"text-align: right;\">\n",
       "      <th></th>\n",
       "      <th>Demanda_uni_equil</th>\n",
       "    </tr>\n",
       "    <tr>\n",
       "      <th>Producto_ID</th>\n",
       "      <th></th>\n",
       "    </tr>\n",
       "  </thead>\n",
       "  <tbody>\n",
       "    <tr>\n",
       "      <th>41</th>\n",
       "      <td>181.132483</td>\n",
       "    </tr>\n",
       "    <tr>\n",
       "      <th>53</th>\n",
       "      <td>393.502249</td>\n",
       "    </tr>\n",
       "    <tr>\n",
       "      <th>72</th>\n",
       "      <td>6.856217</td>\n",
       "    </tr>\n",
       "    <tr>\n",
       "      <th>73</th>\n",
       "      <td>7.031461</td>\n",
       "    </tr>\n",
       "    <tr>\n",
       "      <th>100</th>\n",
       "      <td>7.240933</td>\n",
       "    </tr>\n",
       "    <tr>\n",
       "      <th>...</th>\n",
       "      <td>...</td>\n",
       "    </tr>\n",
       "    <tr>\n",
       "      <th>49992</th>\n",
       "      <td>22.275840</td>\n",
       "    </tr>\n",
       "    <tr>\n",
       "      <th>49993</th>\n",
       "      <td>8.666667</td>\n",
       "    </tr>\n",
       "    <tr>\n",
       "      <th>49994</th>\n",
       "      <td>3.629493</td>\n",
       "    </tr>\n",
       "    <tr>\n",
       "      <th>49996</th>\n",
       "      <td>19.273469</td>\n",
       "    </tr>\n",
       "    <tr>\n",
       "      <th>49997</th>\n",
       "      <td>14.714286</td>\n",
       "    </tr>\n",
       "  </tbody>\n",
       "</table>\n",
       "<p>1799 rows × 1 columns</p>\n",
       "</div>"
      ],
      "text/plain": [
       "             Demanda_uni_equil\n",
       "Producto_ID                   \n",
       "41                  181.132483\n",
       "53                  393.502249\n",
       "72                    6.856217\n",
       "73                    7.031461\n",
       "100                   7.240933\n",
       "...                        ...\n",
       "49992                22.275840\n",
       "49993                 8.666667\n",
       "49994                 3.629493\n",
       "49996                19.273469\n",
       "49997                14.714286\n",
       "\n",
       "[1799 rows x 1 columns]"
      ]
     },
     "execution_count": 94,
     "metadata": {},
     "output_type": "execute_result"
    }
   ],
   "source": [
    "df_test.groupby(['Producto_ID']).aggregate('mean')"
   ]
  },
  {
   "cell_type": "markdown",
   "metadata": {},
   "source": [
    "Testing joins/merges"
   ]
  },
  {
   "cell_type": "code",
   "execution_count": null,
   "metadata": {},
   "outputs": [],
   "source": [
    "test = DF_train_Agencia.reset_index()\n",
    "test.head()"
   ]
  },
  {
   "cell_type": "code",
   "execution_count": null,
   "metadata": {},
   "outputs": [],
   "source": [
    "test = DF_train_Agencia.reset_index()\n",
    "test['Agencia'] = test['Agencia_ID']\n",
    "test = test.drop('Demanda_uni_equil', axis=1)\n",
    "test = test.set_index('Agencia_ID')\n",
    "test.head()"
   ]
  },
  {
   "cell_type": "code",
   "execution_count": null,
   "metadata": {},
   "outputs": [],
   "source": [
    "test.join(AGG_train_Producto_Agencia)"
   ]
  },
  {
   "cell_type": "code",
   "execution_count": 158,
   "metadata": {},
   "outputs": [],
   "source": [
    "#for index, row in zip(DF_train_Agencia.iterrows(), DF_train_Producto.iterrows()):\n",
    "    #print(index, row)"
   ]
  },
  {
   "cell_type": "code",
   "execution_count": null,
   "metadata": {},
   "outputs": [],
   "source": [
    "def predict_column(row):\n",
    "    try:\n",
    "        return ex_Cli_ex_Prod[(ex_Cli_ex_Prod['Cliente_ID'] == row['Cliente_ID'])\n",
    "                     & (ex_Cli_ex_Prod['Producto_ID'] == row['Producto_ID'])]\n",
    "    except:\n",
    "        return 7\n",
    "\n",
    "X_test_Semana_5['pred'].apply(predict_column, axis=1, meta=int)"
   ]
  },
  {
   "cell_type": "code",
   "execution_count": null,
   "metadata": {},
   "outputs": [],
   "source": [
    "#df = pd.DataFrame({'Cliente_ID': [3967, 3967, 3967, 15766, 15766, 15766, 15766, 15766],\n",
    " #                  'Producto_ID': [303, 323, 325, 1212, 1216, 1220, 1238, 1242]})\n",
    "df = pd.DataFrame({'Cliente_ID': [3967, 3967, 3967],\n",
    "                   'Producto_ID': [303, 323, 325]})\n",
    "ddf = dd.from_pandas(df, npartitions=2)\n",
    "\n",
    "def predict_column(row):\n",
    "    #try:\n",
    "    return ex_Cli_ex_Prod_RAW[(ex_Cli_ex_Prod_RAW['Cliente_ID'] == row['Cliente_ID'])\n",
    "                     & (ex_Cli_ex_Prod_RAW['Producto_ID'] == row['Producto_ID'])]\n",
    "    #except:\n",
    "     #   return 7\n",
    "\n",
    "ddf['pred'] = ddf.apply(predict_column, axis=1, meta=int)\n",
    "\n",
    "ddf.head()"
   ]
  },
  {
   "cell_type": "code",
   "execution_count": 178,
   "metadata": {},
   "outputs": [
    {
     "name": "stderr",
     "output_type": "stream",
     "text": [
      "C:\\Users\\Alexey\\Anaconda3\\lib\\site-packages\\dask\\dataframe\\core.py:5738: UserWarning: Insufficient elements for `head`. 5 elements requested, only 3 elements available. Try passing larger `npartitions` to `head`.\n",
      "  warnings.warn(msg.format(n, len(r)))\n"
     ]
    },
    {
     "data": {
      "text/html": [
       "<div>\n",
       "<style scoped>\n",
       "    .dataframe tbody tr th:only-of-type {\n",
       "        vertical-align: middle;\n",
       "    }\n",
       "\n",
       "    .dataframe tbody tr th {\n",
       "        vertical-align: top;\n",
       "    }\n",
       "\n",
       "    .dataframe thead th {\n",
       "        text-align: right;\n",
       "    }\n",
       "</style>\n",
       "<table border=\"1\" class=\"dataframe\">\n",
       "  <thead>\n",
       "    <tr style=\"text-align: right;\">\n",
       "      <th></th>\n",
       "      <th>Cliente_ID</th>\n",
       "      <th>Producto_ID</th>\n",
       "      <th>Weekly_demand_Client</th>\n",
       "    </tr>\n",
       "  </thead>\n",
       "  <tbody>\n",
       "    <tr>\n",
       "      <th>0</th>\n",
       "      <td>3967</td>\n",
       "      <td>303</td>\n",
       "      <td>3</td>\n",
       "    </tr>\n",
       "    <tr>\n",
       "      <th>1</th>\n",
       "      <td>3967</td>\n",
       "      <td>323</td>\n",
       "      <td>2</td>\n",
       "    </tr>\n",
       "    <tr>\n",
       "      <th>2</th>\n",
       "      <td>3967</td>\n",
       "      <td>325</td>\n",
       "      <td>2</td>\n",
       "    </tr>\n",
       "  </tbody>\n",
       "</table>\n",
       "</div>"
      ],
      "text/plain": [
       "   Cliente_ID  Producto_ID  Weekly_demand_Client\n",
       "0        3967          303                     3\n",
       "1        3967          323                     2\n",
       "2        3967          325                     2"
      ]
     },
     "execution_count": 178,
     "metadata": {},
     "output_type": "execute_result"
    }
   ],
   "source": [
    "#ex_Cli_ex_Prod_RAW = ex_Cli_ex_Prod.reset_index()\n",
    "ex_Cli_ex_Prod_RAW = pd.DataFrame({'Cliente_ID': [3967, 3967, 3967, 3967, 3967],\n",
    "                                'Producto_ID': [303, 323, 325, 972, 1064],\n",
    "                                'Weekly_demand_Client':[3, 2, 2, 1, 6]})\n",
    "ex_Cli_ex_Prod_RAW = dd.from_pandas(ex_Cli_ex_Prod_RAW, npartitions=2)\n",
    "ex_Cli_ex_Prod_RAW.head()\n",
    "#not working, use map partitions maybe"
   ]
  },
  {
   "cell_type": "code",
   "execution_count": null,
   "metadata": {},
   "outputs": [],
   "source": []
  },
  {
   "cell_type": "markdown",
   "metadata": {},
   "source": [
    "join locations on train set\n",
    "\n",
    "UPD: looks like there's only 500 dedpots, so grouping by town doesn't make much sense, although we can still try, maybe there are some patterns"
   ]
  },
  {
   "cell_type": "code",
   "execution_count": null,
   "metadata": {},
   "outputs": [],
   "source": [
    "FULL_train"
   ]
  }
 ],
 "metadata": {
  "kernelspec": {
   "display_name": "Python 3",
   "language": "python",
   "name": "python3"
  },
  "language_info": {
   "codemirror_mode": {
    "name": "ipython",
    "version": 3
   },
   "file_extension": ".py",
   "mimetype": "text/x-python",
   "name": "python",
   "nbconvert_exporter": "python",
   "pygments_lexer": "ipython3",
   "version": "3.7.5"
  },
  "pycharm": {
   "stem_cell": {
    "cell_type": "raw",
    "metadata": {
     "collapsed": false
    },
    "source": [
     "#\n"
    ]
   }
  }
 },
 "nbformat": 4,
 "nbformat_minor": 4
}
